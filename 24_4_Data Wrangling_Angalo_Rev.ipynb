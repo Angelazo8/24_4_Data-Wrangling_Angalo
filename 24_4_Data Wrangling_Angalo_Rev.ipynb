{
 "cells": [
  {
   "cell_type": "markdown",
   "id": "936fa64c",
   "metadata": {},
   "source": [
    "# ¡Hola Angel!\n",
    "\n",
    "Mi nombre es Ezequiel Ferrario, soy code reviewer en Tripleten y tengo el agrado de revisar el proyecto que entregaste.\n",
    "\n",
    "Para simular la dinámica de un ambiente de trabajo, si veo algún error, en primer instancia solo los señalaré, dándote la oportunidad de encontrarlos y corregirlos por tu cuenta. En un trabajo real, el líder de tu equipo hará una dinámica similar. En caso de que no puedas resolver la tarea, te daré una información más precisa en la próxima revisión.\n",
    "\n",
    "Encontrarás mis comentarios más abajo - **por favor, no los muevas, no los modifiques ni los borres**.\n",
    "\n",
    "¿Cómo lo voy a hacer? Voy a leer detenidamente cada una de las implementaciones que has llevado a cabo para cumplir con lo solicitado. Verás los comentarios de esta forma:\n",
    "\n",
    "<div class=\"alert alert-block alert-success\">\n",
    "<b>Comentario del revisor</b> <a class=\"tocSkip\"></a>\n",
    "\n",
    "Si todo está perfecto.\n",
    "</div>\n",
    "\n",
    "\n",
    "<div class=\"alert alert-block alert-warning\">\n",
    "<b>Comentario del revisor</b> <a class=\"tocSkip\"></a>\n",
    "\n",
    "Si tu código está bien pero se puede mejorar o hay algún detalle que le hace falta. Se aceptan uno o dos comentarios de este tipo en el borrador, pero si hay más, deberá hacer las correcciones. Es como una tarea de prueba al solicitar un trabajo: muchos pequeños errores pueden hacer que un candidato sea rechazado.\n",
    "</div>\n",
    "\n",
    "<div class=\"alert alert-block alert-danger\">\n",
    "\n",
    "<b>Comentario del revisor</b> <a class=\"tocSkip\"></a>\n",
    "\n",
    "Si de pronto hace falta algo o existe algún problema con tu código o conclusiones.\n",
    "</div>\n",
    "\n",
    "Puedes responderme de esta forma:\n",
    "\n",
    "<div class=\"alert alert-block alert-info\">\n",
    "<b>Respuesta del estudiante</b> <a class=\"tocSkip\"></a>\n",
    "\n",
    "Hola, muchas gracias por tus comentarios y la revisión.\n",
    "</div>\n",
    "\n",
    "¡Empecemos!"
   ]
  },
  {
   "cell_type": "markdown",
   "id": "6cc976d4",
   "metadata": {},
   "source": [
    "--------------\n",
    "\n",
    "<div class=\"alert alert-block alert-danger\">\n",
    "\n",
    "<b>Comentario general #1</b> <a class=\"tocSkip\"></a>\n",
    "\n",
    "Angel, hiciste un excelente proyecto aqui, donde te manejaste de muy buena forma con todos los puntos.\n",
    "\n",
    "Este trabajo es extenso  y a nivel exploracion lo abordaste perfecto y luego a nivel codigo tus graficos fueron muy buenos debido a su claridad.\n",
    "\n",
    "En cuanto a tus analisis, es un punto que destaca ya que son coherentes y claros por lo que agregas valor todo el tiempo con ello, algo que me gusto mucho.\n",
    "\n",
    "Restan detalles para fianlizar este buen proyecto.\n",
    "\n",
    "Espeor tus correcciones, saludos.\n",
    "\n",
    "\n",
    "</div>\n",
    "\n",
    "----------\n",
    "\n",
    "\n",
    "<div class=\"alert alert-block alert-success\">\n",
    "\n",
    "<b>Comentario general #2</b> <a class=\"tocSkip\"></a>\n",
    "\n",
    "Angel, has abarcado todas las correcciones de este proyecto.\n",
    "\n",
    "\n",
    "Me gusto mucho los nuevos graficos como asi tambien las extracciones realizadas.\n",
    "\n",
    "La conclusion general fue excelente por lo que asi finalizas un gran trabajo.\n",
    "\n",
    "Por lo expuesto, el mismo pasa a estar **aprobado**.\n",
    "\n",
    "Exitos en lo que viene, saludos.</div>\n",
    "\n",
    "------"
   ]
  },
  {
   "cell_type": "markdown",
   "id": "3Xg_RQfnafXz",
   "metadata": {
    "id": "3Xg_RQfnafXz"
   },
   "source": [
    "# ¡Llena ese carrito!"
   ]
  },
  {
   "cell_type": "markdown",
   "id": "mhIvmmkW414q",
   "metadata": {
    "id": "mhIvmmkW414q"
   },
   "source": [
    "## Introducción\n",
    "\n",
    "Instacart es una plataforma de entregas de comestibles donde la clientela puede registrar un pedido y hacer que se lo entreguen, similar a Uber Eats y Door Dash.\n",
    "El conjunto de datos que te hemos proporcionado tiene modificaciones del original. Redujimos el tamaño del conjunto para que tus cálculos se hicieran más rápido e introdujimos valores ausentes y duplicados. Tuvimos cuidado de conservar las distribuciones de los datos originales cuando hicimos los cambios.\n",
    "\n",
    "Debes completar tres pasos. Para cada uno de ellos, escribe una breve introducción que refleje con claridad cómo pretendes resolver cada paso, y escribe párrafos explicatorios que justifiquen tus decisiones al tiempo que avanzas en tu solución.  También escribe una conclusión que resuma tus hallazgos y elecciones.\n"
   ]
  },
  {
   "cell_type": "markdown",
   "id": "3MbyzpOQZ5Or",
   "metadata": {
    "id": "3MbyzpOQZ5Or"
   },
   "source": [
    "### Diccionario de datos\n",
    "\n",
    "Hay cinco tablas en el conjunto de datos, y tendrás que usarlas todas para hacer el preprocesamiento de datos y el análisis exploratorio de datos. A continuación se muestra un diccionario de datos que enumera las columnas de cada tabla y describe los datos que contienen.\n",
    "\n",
    "- `instacart_orders.csv`: cada fila corresponde a un pedido en la aplicación Instacart.\n",
    "    - `'order_id'`: número de ID que identifica de manera única cada pedido.\n",
    "    - `'user_id'`: número de ID que identifica de manera única la cuenta de cada cliente.\n",
    "    - `'order_number'`: el número de veces que este cliente ha hecho un pedido.\n",
    "    - `'order_dow'`: día de la semana en que se hizo el pedido (0 si es domingo).\n",
    "    - `'order_hour_of_day'`: hora del día en que se hizo el pedido.\n",
    "    - `'days_since_prior_order'`: número de días transcurridos desde que este cliente hizo su pedido anterior.\n",
    "- `products.csv`: cada fila corresponde a un producto único que pueden comprar los clientes.\n",
    "    - `'product_id'`: número ID que identifica de manera única cada producto.\n",
    "    - `'product_name'`: nombre del producto.\n",
    "    - `'aisle_id'`: número ID que identifica de manera única cada categoría de pasillo de víveres.\n",
    "    - `'department_id'`: número ID que identifica de manera única cada departamento de víveres.\n",
    "- `order_products.csv`: cada fila corresponde a un artículo pedido en un pedido.\n",
    "    - `'order_id'`: número de ID que identifica de manera única cada pedido.\n",
    "    - `'product_id'`: número ID que identifica de manera única cada producto.\n",
    "    - `'add_to_cart_order'`: el orden secuencial en el que se añadió cada artículo en el carrito.\n",
    "    - `'reordered'`: 0 si el cliente nunca ha pedido este producto antes, 1 si lo ha pedido.\n",
    "- `aisles.csv`\n",
    "    - `'aisle_id'`: número ID que identifica de manera única cada categoría de pasillo de víveres.\n",
    "    - `'aisle'`: nombre del pasillo.\n",
    "- `departments.csv`\n",
    "    - `'department_id'`: número ID que identifica de manera única cada departamento de víveres.\n",
    "    - `'department'`: nombre del departamento."
   ]
  },
  {
   "cell_type": "markdown",
   "id": "n3Ha_cNSZ8lK",
   "metadata": {
    "id": "n3Ha_cNSZ8lK"
   },
   "source": [
    "## Paso 1. Descripción de los datos\n",
    "\n",
    "Lee los archivos de datos (`/datasets/instacart_orders.csv`, `/datasets/products.csv`, `/datasets/aisles.csv`, `/datasets/departments.csv` y `/datasets/order_products.csv`) con `pd.read_csv()` usando los parámetros adecuados para leer los datos correctamente. Verifica la información para cada DataFrame creado.\n"
   ]
  },
  {
   "cell_type": "markdown",
   "id": "OmlQPLlyaAfR",
   "metadata": {
    "id": "OmlQPLlyaAfR"
   },
   "source": [
    "### Plan de solución\n",
    "\n",
    "Escribe aquí tu plan de solución para el Paso 1. Descripción de los datos.\n",
    "\n",
    "<div class=\"alert alert-block alert-info\">\n",
    "<b>Respuesta del estudiante.</b> <a class=\"tocSkip\"></a>\n",
    "Un actividad clave para revisar los archivos y leerlos antes de querer manipularlos es visualizarlos en un bloc de notas. De esta manera evitamos cometer errores al momento de querer leer e imprimir los datos en Python, si es que entre ellos manejan separadores diferentes, por ejemplo."
   ]
  },
  {
   "cell_type": "markdown",
   "id": "a00d3481",
   "metadata": {},
   "source": [
    "<div class=\"alert alert-block alert-warning\">\n",
    "\n",
    "<b>Comentario del revisor</b> <a class=\"tocSkip\"></a>\n",
    "\n",
    "En este caso podes hacer una tabla de contenidos que este  linkeada a las secciones (al clickear debe llevarnos a esa seccion) de esta menera es mas facil desplazarse.\n",
    "\n",
    "Como consejo, si realizas bien todas las secciones (con su respectivo #) podes generarlo automáticamente desde jupyter lab. Para hacerlo, en la pestaña de herramientas de jupyter lab clickeas en el **botón de los puntos y barras**  (Table of contents) te generara automáticamente una tabla de contenidos linkeable y estética. A la **derecha** del seleccionador del tipo de celda (code/markdown)\n",
    "</div>\n",
    "\n",
    "\n",
    "\n",
    "<div class=\"alert alert-block alert-success\">\n",
    "<b>Comentario del revisor #2</b> <a class=\"tocSkip\"></a>\n",
    "\n",
    "Corregido, excelente.\n",
    "\n",
    "</div>"
   ]
  },
  {
   "cell_type": "code",
   "execution_count": 1,
   "id": "fbf1adab",
   "metadata": {
    "id": "fbf1adab"
   },
   "outputs": [],
   "source": [
    "import pandas as pd # importar librerías\n",
    "from matplotlib import pyplot as plt"
   ]
  },
  {
   "cell_type": "code",
   "execution_count": 2,
   "id": "ad36396d",
   "metadata": {
    "id": "ad36396d"
   },
   "outputs": [],
   "source": [
    "df_orders = pd.read_csv('/datasets/instacart_orders.csv', sep=';')# leer conjuntos de datos en los DataFrames\n",
    "df_products = pd.read_csv('/datasets/products.csv', sep=';')\n",
    "df_aisles = pd.read_csv('/datasets/aisles.csv', sep=';')\n",
    "df_departments = pd.read_csv('/datasets/departments.csv', sep=';')\n",
    "df_order_products = pd.read_csv('/datasets/order_products.csv', sep=';')"
   ]
  },
  {
   "cell_type": "code",
   "execution_count": 3,
   "id": "ad6a1efa",
   "metadata": {
    "id": "ad6a1efa"
   },
   "outputs": [
    {
     "name": "stdout",
     "output_type": "stream",
     "text": [
      "        order_id  user_id  order_number  order_dow  order_hour_of_day  \\\n",
      "372383   1175185   123590             2          0                 13   \n",
      "403284    760820    99181             7          2                 14   \n",
      "48142    2496842    90259            44          6                 14   \n",
      "308624    391126   162225            10          0                  8   \n",
      "428321   1796266   195314            12          6                 14   \n",
      "\n",
      "        days_since_prior_order  \n",
      "372383                    30.0  \n",
      "403284                    30.0  \n",
      "48142                      7.0  \n",
      "308624                     3.0  \n",
      "428321                    20.0  \n",
      "\n",
      "<class 'pandas.core.frame.DataFrame'>\n",
      "RangeIndex: 478967 entries, 0 to 478966\n",
      "Data columns (total 6 columns):\n",
      " #   Column                  Non-Null Count   Dtype  \n",
      "---  ------                  --------------   -----  \n",
      " 0   order_id                478967 non-null  int64  \n",
      " 1   user_id                 478967 non-null  int64  \n",
      " 2   order_number            478967 non-null  int64  \n",
      " 3   order_dow               478967 non-null  int64  \n",
      " 4   order_hour_of_day       478967 non-null  int64  \n",
      " 5   days_since_prior_order  450148 non-null  float64\n",
      "dtypes: float64(1), int64(5)\n",
      "memory usage: 21.9 MB\n"
     ]
    }
   ],
   "source": [
    "print(df_orders.sample(5))# mostrar información del DataFrame\n",
    "print()\n",
    "df_orders.info() #se agrega el metodo info() a la exploracion inicial"
   ]
  },
  {
   "cell_type": "code",
   "execution_count": 4,
   "id": "5130e05e",
   "metadata": {
    "id": "5130e05e"
   },
   "outputs": [
    {
     "name": "stdout",
     "output_type": "stream",
     "text": [
      "       product_id                                       product_name  \\\n",
      "11003       11004                                Whole Chicken Fryer   \n",
      "872           873  Graduates Lil' Meals Spaghetti Rings In Meat S...   \n",
      "2988         2989                                      Sweet Marsala   \n",
      "16035       16036  Cloth- All Purpose Blister Card 1\\\" X 10 Yds. ...   \n",
      "435           436                            Petite Brussels Sprouts   \n",
      "\n",
      "       aisle_id  department_id  \n",
      "11003        35             12  \n",
      "872          92             18  \n",
      "2988        134              5  \n",
      "16035       118             11  \n",
      "435         116              1  \n",
      "\n",
      "<class 'pandas.core.frame.DataFrame'>\n",
      "RangeIndex: 49694 entries, 0 to 49693\n",
      "Data columns (total 4 columns):\n",
      " #   Column         Non-Null Count  Dtype \n",
      "---  ------         --------------  ----- \n",
      " 0   product_id     49694 non-null  int64 \n",
      " 1   product_name   48436 non-null  object\n",
      " 2   aisle_id       49694 non-null  int64 \n",
      " 3   department_id  49694 non-null  int64 \n",
      "dtypes: int64(3), object(1)\n",
      "memory usage: 1.5+ MB\n"
     ]
    }
   ],
   "source": [
    "print(df_products.sample(5)) # mostrar información del DataFrame\n",
    "print()\n",
    "df_products.info() #se agrega el metodo info() a la exploracion inicial"
   ]
  },
  {
   "cell_type": "code",
   "execution_count": 5,
   "id": "d8370c05",
   "metadata": {
    "id": "d8370c05"
   },
   "outputs": [
    {
     "name": "stdout",
     "output_type": "stream",
     "text": [
      "     aisle_id                       aisle\n",
      "16         17          baking ingredients\n",
      "43         44                eye ear care\n",
      "56         57                     granola\n",
      "118       119              frozen dessert\n",
      "122       123  packaged vegetables fruits\n",
      "\n",
      "<class 'pandas.core.frame.DataFrame'>\n",
      "RangeIndex: 134 entries, 0 to 133\n",
      "Data columns (total 2 columns):\n",
      " #   Column    Non-Null Count  Dtype \n",
      "---  ------    --------------  ----- \n",
      " 0   aisle_id  134 non-null    int64 \n",
      " 1   aisle     134 non-null    object\n",
      "dtypes: int64(1), object(1)\n",
      "memory usage: 2.2+ KB\n"
     ]
    }
   ],
   "source": [
    "print(df_aisles.sample(5))# mostrar información del DataFrame\n",
    "print()\n",
    "df_aisles.info() #se agrega el metodo info() a la exploracion inicial"
   ]
  },
  {
   "cell_type": "code",
   "execution_count": 6,
   "id": "59e2090f",
   "metadata": {
    "id": "59e2090f"
   },
   "outputs": [
    {
     "name": "stdout",
     "output_type": "stream",
     "text": [
      "    department_id department\n",
      "1               2      other\n",
      "2               3     bakery\n",
      "4               5    alcohol\n",
      "13             14  breakfast\n",
      "6               7  beverages\n",
      "\n",
      "<class 'pandas.core.frame.DataFrame'>\n",
      "RangeIndex: 21 entries, 0 to 20\n",
      "Data columns (total 2 columns):\n",
      " #   Column         Non-Null Count  Dtype \n",
      "---  ------         --------------  ----- \n",
      " 0   department_id  21 non-null     int64 \n",
      " 1   department     21 non-null     object\n",
      "dtypes: int64(1), object(1)\n",
      "memory usage: 464.0+ bytes\n"
     ]
    }
   ],
   "source": [
    "print(df_departments.sample(5))# mostrar información del DataFrame\n",
    "print()\n",
    "df_departments.info() #se agrega el metodo info() a la exploracion inicial"
   ]
  },
  {
   "cell_type": "code",
   "execution_count": 7,
   "id": "6fc81694",
   "metadata": {
    "id": "6fc81694"
   },
   "outputs": [
    {
     "name": "stdout",
     "output_type": "stream",
     "text": [
      "         order_id  product_id  add_to_cart_order  reordered\n",
      "4454631    837449       26209                7.0          1\n",
      "2088657   1349688       21681                4.0          1\n",
      "2676758   2444851       10369                6.0          1\n",
      "4296265    895900       15610                4.0          0\n",
      "3495372   1105770       30967                3.0          1\n",
      "\n",
      "<class 'pandas.core.frame.DataFrame'>\n",
      "RangeIndex: 4545007 entries, 0 to 4545006\n",
      "Data columns (total 4 columns):\n",
      " #   Column             Non-Null Count    Dtype  \n",
      "---  ------             --------------    -----  \n",
      " 0   order_id           4545007 non-null  int64  \n",
      " 1   product_id         4545007 non-null  int64  \n",
      " 2   add_to_cart_order  4544171 non-null  float64\n",
      " 3   reordered          4545007 non-null  int64  \n",
      "dtypes: float64(1), int64(3)\n",
      "memory usage: 138.7 MB\n"
     ]
    }
   ],
   "source": [
    "print(df_order_products.sample(5))# mostrar información del DataFrame\n",
    "print()\n",
    "df_order_products.info(show_counts = True) #se agrega el metodo info() a la exploracion inicial con show_counts = True"
   ]
  },
  {
   "cell_type": "markdown",
   "id": "8b72af1c",
   "metadata": {},
   "source": [
    "<div class=\"alert alert-block alert-danger\">\n",
    "\n",
    "<b>Comentario del revisor</b> <a class=\"tocSkip\"></a>\n",
    "\n",
    "Para finalizar una correcta exploracion inicial deberas utilizar el metodo info() en los 5 datasets. Recorda que si no tenemos informacion precisa utilizar el parametro show count en true.</div>\n",
    "\n",
    "\n",
    "\n",
    "\n",
    "<div class=\"alert alert-block alert-success\">\n",
    "<b>Comentario del revisor #2</b> <a class=\"tocSkip\"></a>\n",
    "\n",
    "Corregido, muy bien utilizado el parametro.\n",
    "\n",
    "</div>"
   ]
  },
  {
   "cell_type": "markdown",
   "id": "4d555b4c",
   "metadata": {},
   "source": [
    "<div class=\"alert alert-block alert-info\">\n",
    "<b>Respuesta del estudiante</b> <a class=\"tocSkip\"></a>\n",
    "\n",
    "Se agrega el metodo info() en todos los datasets, con show_counts = True donde no se muestra informacion precisa.\n",
    "</div>"
   ]
  },
  {
   "cell_type": "markdown",
   "id": "t75BD19oaR5f",
   "metadata": {
    "id": "t75BD19oaR5f"
   },
   "source": [
    "#### Conclusiones\n",
    "\n",
    "Escribe aquí tus conclusiones intermedias sobre el Paso 1. Descripción de los datos.\n",
    "\n",
    "<div class=\"alert alert-block alert-info\">\n",
    "<b>Respuesta del estudiante.</b> <a class=\"tocSkip\"></a>\n",
    "Fue factible poder leer los datasets correctamente. La particularidad que comparten los cinco archivos es que su separador del archivo CSV es ';' en lugar de ','. Por lo que fue necesario ajustar el parametro 'sep' para poder visualizar los datos. "
   ]
  },
  {
   "cell_type": "markdown",
   "id": "8RJHqxVmaVsF",
   "metadata": {
    "id": "8RJHqxVmaVsF"
   },
   "source": [
    "## Paso 2. Preprocesamiento de los datos\n",
    "\n",
    "Preprocesa los datos de la siguiente manera:\n",
    "\n",
    "- Verifica y corrige los tipos de datos (por ejemplo, asegúrate de que las columnas de ID sean números enteros).\n",
    "- Identifica y completa los valores ausentes.\n",
    "- Identifica y elimina los valores duplicados.\n",
    "\n",
    "Asegúrate de explicar qué tipos de valores ausentes y duplicados encontraste, cómo los completaste o eliminaste y por qué usaste esos métodos. ¿Por qué crees que estos valores ausentes y duplicados pueden haber estado presentes en el conjunto de datos?"
   ]
  },
  {
   "cell_type": "markdown",
   "id": "p6poABZQaZYb",
   "metadata": {
    "id": "p6poABZQaZYb"
   },
   "source": [
    "### Plan de solución\n",
    "\n",
    "Escribe aquí tu plan para el Paso 2. Preprocesamiento de los datos.\n",
    "\n",
    "<div class=\"alert alert-block alert-info\">\n",
    "<b>Respuesta del estudiante.</b> <a class=\"tocSkip\"></a>\n",
    "\n",
    "El plan de este paso constara de diferentes puntos:\n",
    "- Verificar los tipos de datos con el metodo info() y/o type() y revisar principalmente discrepancias entre enteros y flotantes.\n",
    "- Revisar los valores ausentes y en caso que se puedan suplir por la media o mediana, sin sesgar el resultado, realizarlo.\n",
    "- Revisar la cantidad de valores ausentes y en caso que se puedan eliminar, igualmente sin alterar el resultado, hacerlo."
   ]
  },
  {
   "cell_type": "markdown",
   "id": "07357848-dc64-4156-9cc3-01ff4365226d",
   "metadata": {
    "id": "07357848-dc64-4156-9cc3-01ff4365226d"
   },
   "source": [
    "#### Encuentra y elimina los valores duplicados (y describe cómo tomaste tus decisiones)."
   ]
  },
  {
   "cell_type": "markdown",
   "id": "f179f0a9",
   "metadata": {
    "id": "f179f0a9"
   },
   "source": [
    "#### `instacart_orders` data frame"
   ]
  },
  {
   "cell_type": "code",
   "execution_count": 8,
   "id": "b99297a5-405a-463d-8535-9adc3da4ad74",
   "metadata": {
    "id": "b99297a5-405a-463d-8535-9adc3da4ad74"
   },
   "outputs": [
    {
     "name": "stdout",
     "output_type": "stream",
     "text": [
      "   order_id  user_id  order_number  order_dow  order_hour_of_day  \\\n",
      "0   1515936   183418            11          6                 13   \n",
      "1   1690866   163593             5          5                 12   \n",
      "2   1454967    39980             4          5                 19   \n",
      "3   1768857    82516            56          0                 20   \n",
      "4   3007858   196724             2          4                 12   \n",
      "\n",
      "   days_since_prior_order  \n",
      "0                    30.0  \n",
      "1                     9.0  \n",
      "2                     2.0  \n",
      "3                    10.0  \n",
      "4                    17.0  \n",
      "\n",
      "<class 'pandas.core.frame.DataFrame'>\n",
      "RangeIndex: 478967 entries, 0 to 478966\n",
      "Data columns (total 6 columns):\n",
      " #   Column                  Non-Null Count   Dtype  \n",
      "---  ------                  --------------   -----  \n",
      " 0   order_id                478967 non-null  int64  \n",
      " 1   user_id                 478967 non-null  int64  \n",
      " 2   order_number            478967 non-null  int64  \n",
      " 3   order_dow               478967 non-null  int64  \n",
      " 4   order_hour_of_day       478967 non-null  int64  \n",
      " 5   days_since_prior_order  450148 non-null  float64\n",
      "dtypes: float64(1), int64(5)\n",
      "memory usage: 21.9 MB\n",
      "\n",
      "[30.  9.  2. 10. 17. 15. 22.  4.  8.  3. 12. 11.  7.  1.  5.  6. 14. nan\n",
      " 20. 16. 24. 23. 27. 13.  0. 28. 21. 25. 19. 18. 29. 26.]\n",
      "\n",
      "15\n",
      "\n"
     ]
    },
    {
     "data": {
      "text/html": [
       "<div>\n",
       "<style scoped>\n",
       "    .dataframe tbody tr th:only-of-type {\n",
       "        vertical-align: middle;\n",
       "    }\n",
       "\n",
       "    .dataframe tbody tr th {\n",
       "        vertical-align: top;\n",
       "    }\n",
       "\n",
       "    .dataframe thead th {\n",
       "        text-align: right;\n",
       "    }\n",
       "</style>\n",
       "<table border=\"1\" class=\"dataframe\">\n",
       "  <thead>\n",
       "    <tr style=\"text-align: right;\">\n",
       "      <th></th>\n",
       "      <th>order_id</th>\n",
       "      <th>user_id</th>\n",
       "      <th>order_number</th>\n",
       "      <th>order_dow</th>\n",
       "      <th>order_hour_of_day</th>\n",
       "      <th>days_since_prior_order</th>\n",
       "    </tr>\n",
       "  </thead>\n",
       "  <tbody>\n",
       "    <tr>\n",
       "      <th>145574</th>\n",
       "      <td>794638</td>\n",
       "      <td>50898</td>\n",
       "      <td>24</td>\n",
       "      <td>3</td>\n",
       "      <td>2</td>\n",
       "      <td>2.0</td>\n",
       "    </tr>\n",
       "    <tr>\n",
       "      <th>223105</th>\n",
       "      <td>2160484</td>\n",
       "      <td>107525</td>\n",
       "      <td>16</td>\n",
       "      <td>3</td>\n",
       "      <td>2</td>\n",
       "      <td>30.0</td>\n",
       "    </tr>\n",
       "    <tr>\n",
       "      <th>230807</th>\n",
       "      <td>1918001</td>\n",
       "      <td>188546</td>\n",
       "      <td>14</td>\n",
       "      <td>3</td>\n",
       "      <td>2</td>\n",
       "      <td>16.0</td>\n",
       "    </tr>\n",
       "    <tr>\n",
       "      <th>266232</th>\n",
       "      <td>1782114</td>\n",
       "      <td>106752</td>\n",
       "      <td>1</td>\n",
       "      <td>3</td>\n",
       "      <td>2</td>\n",
       "      <td>NaN</td>\n",
       "    </tr>\n",
       "    <tr>\n",
       "      <th>273805</th>\n",
       "      <td>1112182</td>\n",
       "      <td>202304</td>\n",
       "      <td>84</td>\n",
       "      <td>3</td>\n",
       "      <td>2</td>\n",
       "      <td>6.0</td>\n",
       "    </tr>\n",
       "    <tr>\n",
       "      <th>284038</th>\n",
       "      <td>2845099</td>\n",
       "      <td>31189</td>\n",
       "      <td>11</td>\n",
       "      <td>3</td>\n",
       "      <td>2</td>\n",
       "      <td>7.0</td>\n",
       "    </tr>\n",
       "    <tr>\n",
       "      <th>311713</th>\n",
       "      <td>1021560</td>\n",
       "      <td>53767</td>\n",
       "      <td>3</td>\n",
       "      <td>3</td>\n",
       "      <td>2</td>\n",
       "      <td>9.0</td>\n",
       "    </tr>\n",
       "    <tr>\n",
       "      <th>321100</th>\n",
       "      <td>408114</td>\n",
       "      <td>68324</td>\n",
       "      <td>4</td>\n",
       "      <td>3</td>\n",
       "      <td>2</td>\n",
       "      <td>18.0</td>\n",
       "    </tr>\n",
       "    <tr>\n",
       "      <th>323900</th>\n",
       "      <td>1919531</td>\n",
       "      <td>191501</td>\n",
       "      <td>32</td>\n",
       "      <td>3</td>\n",
       "      <td>2</td>\n",
       "      <td>7.0</td>\n",
       "    </tr>\n",
       "    <tr>\n",
       "      <th>345917</th>\n",
       "      <td>2232988</td>\n",
       "      <td>82565</td>\n",
       "      <td>1</td>\n",
       "      <td>3</td>\n",
       "      <td>2</td>\n",
       "      <td>NaN</td>\n",
       "    </tr>\n",
       "    <tr>\n",
       "      <th>371905</th>\n",
       "      <td>391768</td>\n",
       "      <td>57671</td>\n",
       "      <td>19</td>\n",
       "      <td>3</td>\n",
       "      <td>2</td>\n",
       "      <td>10.0</td>\n",
       "    </tr>\n",
       "    <tr>\n",
       "      <th>394347</th>\n",
       "      <td>467134</td>\n",
       "      <td>63189</td>\n",
       "      <td>21</td>\n",
       "      <td>3</td>\n",
       "      <td>2</td>\n",
       "      <td>2.0</td>\n",
       "    </tr>\n",
       "    <tr>\n",
       "      <th>411408</th>\n",
       "      <td>1286742</td>\n",
       "      <td>183220</td>\n",
       "      <td>48</td>\n",
       "      <td>3</td>\n",
       "      <td>2</td>\n",
       "      <td>4.0</td>\n",
       "    </tr>\n",
       "    <tr>\n",
       "      <th>415163</th>\n",
       "      <td>2282673</td>\n",
       "      <td>86751</td>\n",
       "      <td>49</td>\n",
       "      <td>3</td>\n",
       "      <td>2</td>\n",
       "      <td>2.0</td>\n",
       "    </tr>\n",
       "    <tr>\n",
       "      <th>441599</th>\n",
       "      <td>2125197</td>\n",
       "      <td>14050</td>\n",
       "      <td>48</td>\n",
       "      <td>3</td>\n",
       "      <td>2</td>\n",
       "      <td>3.0</td>\n",
       "    </tr>\n",
       "  </tbody>\n",
       "</table>\n",
       "</div>"
      ],
      "text/plain": [
       "        order_id  user_id  order_number  order_dow  order_hour_of_day  \\\n",
       "145574    794638    50898            24          3                  2   \n",
       "223105   2160484   107525            16          3                  2   \n",
       "230807   1918001   188546            14          3                  2   \n",
       "266232   1782114   106752             1          3                  2   \n",
       "273805   1112182   202304            84          3                  2   \n",
       "284038   2845099    31189            11          3                  2   \n",
       "311713   1021560    53767             3          3                  2   \n",
       "321100    408114    68324             4          3                  2   \n",
       "323900   1919531   191501            32          3                  2   \n",
       "345917   2232988    82565             1          3                  2   \n",
       "371905    391768    57671            19          3                  2   \n",
       "394347    467134    63189            21          3                  2   \n",
       "411408   1286742   183220            48          3                  2   \n",
       "415163   2282673    86751            49          3                  2   \n",
       "441599   2125197    14050            48          3                  2   \n",
       "\n",
       "        days_since_prior_order  \n",
       "145574                     2.0  \n",
       "223105                    30.0  \n",
       "230807                    16.0  \n",
       "266232                     NaN  \n",
       "273805                     6.0  \n",
       "284038                     7.0  \n",
       "311713                     9.0  \n",
       "321100                    18.0  \n",
       "323900                     7.0  \n",
       "345917                     NaN  \n",
       "371905                    10.0  \n",
       "394347                     2.0  \n",
       "411408                     4.0  \n",
       "415163                     2.0  \n",
       "441599                     3.0  "
      ]
     },
     "execution_count": 8,
     "metadata": {},
     "output_type": "execute_result"
    }
   ],
   "source": [
    "# Revisa si hay pedidos duplicados\n",
    "\n",
    "print(df_orders.head()) #Visualizacion inicial de los datos\n",
    "print()\n",
    "df_orders.info() #Validacion de tipo de datos\n",
    "print()\n",
    "print(df_orders['days_since_prior_order'].unique()) #Revision si algun valor tiene decimales\n",
    "print()\n",
    "print(df_orders.duplicated().sum())#Verificar la cantidad total de duplicados\n",
    "print()\n",
    "df_orders[df_orders.duplicated()]#Analizar los duplicados a detalle"
   ]
  },
  {
   "cell_type": "markdown",
   "id": "PEkwUX_gvt5A",
   "metadata": {
    "id": "PEkwUX_gvt5A"
   },
   "source": [
    "¿Tienes líneas duplicadas? Si sí, ¿qué tienen en común?\n",
    "\n",
    "<div class=\"alert alert-block alert-info\">\n",
    "<b>Respuesta del estudiante.</b> <a class=\"tocSkip\"></a>\n",
    "    \n",
    "Si 15. Tienen en comun que ninguna se repite mas de una vez, y todas se realizaron el dia meircoles (3) a las 2am. Problamente hubo un error de duplicidad en el sistema en ese momento especifico."
   ]
  },
  {
   "cell_type": "code",
   "execution_count": 9,
   "id": "0d44de5d",
   "metadata": {
    "id": "0d44de5d"
   },
   "outputs": [
    {
     "name": "stdout",
     "output_type": "stream",
     "text": [
      "        order_id  user_id  order_number  order_dow  order_hour_of_day  \\\n",
      "15506     553049    58599            13          3                  2   \n",
      "5156     2190225   138285            18          3                  2   \n",
      "198084   1496645   146418             6          3                  2   \n",
      "294451   1645769    70213            44          3                  2   \n",
      "345917   2232988    82565             1          3                  2   \n",
      "\n",
      "        days_since_prior_order  \n",
      "15506                      7.0  \n",
      "5156                      11.0  \n",
      "198084                    28.0  \n",
      "294451                    30.0  \n",
      "345917                     NaN  \n",
      "\n",
      "<class 'pandas.core.frame.DataFrame'>\n",
      "Int64Index: 121 entries, 4838 to 477526\n",
      "Data columns (total 6 columns):\n",
      " #   Column                  Non-Null Count  Dtype  \n",
      "---  ------                  --------------  -----  \n",
      " 0   order_id                121 non-null    int64  \n",
      " 1   user_id                 121 non-null    int64  \n",
      " 2   order_number            121 non-null    int64  \n",
      " 3   order_dow               121 non-null    int64  \n",
      " 4   order_hour_of_day       121 non-null    int64  \n",
      " 5   days_since_prior_order  114 non-null    float64\n",
      "dtypes: float64(1), int64(5)\n",
      "memory usage: 6.6 KB\n"
     ]
    }
   ],
   "source": [
    "# Basándote en tus hallazgos,\n",
    "# Verifica todos los pedidos que se hicieron el miércoles a las 2:00 a.m.\n",
    "\n",
    "df_mie_2am = df_orders[(df_orders['order_dow'] == 3) & (df_orders['order_hour_of_day'] == 2)]\n",
    "print(df_mie_2am.sample(5))\n",
    "print()\n",
    "df_mie_2am.info()"
   ]
  },
  {
   "cell_type": "markdown",
   "id": "vu2OWyoqwOx5",
   "metadata": {
    "id": "vu2OWyoqwOx5"
   },
   "source": [
    "¿Qué sugiere este resultado?\n",
    "\n",
    "<div class=\"alert alert-block alert-info\">\n",
    "<b>Respuesta del estudiante.</b> <a class=\"tocSkip\"></a>\n",
    "\n",
    "Se realizaron 121 pedidos durante el miercoles a las 2am. Los 15 duplicados representan el 12.4% del los 121, por lo que no representan una cantidad significativa para sesgar el resultado. Se procede a eliminarlos. "
   ]
  },
  {
   "cell_type": "code",
   "execution_count": 10,
   "id": "480563c7",
   "metadata": {
    "id": "480563c7"
   },
   "outputs": [
    {
     "name": "stdout",
     "output_type": "stream",
     "text": [
      "None\n"
     ]
    }
   ],
   "source": [
    "# Elimina los pedidos duplicados\n",
    "\n",
    "print(df_orders.drop_duplicates(inplace=True))"
   ]
  },
  {
   "cell_type": "code",
   "execution_count": 11,
   "id": "0b2396a2",
   "metadata": {
    "id": "0b2396a2"
   },
   "outputs": [
    {
     "name": "stdout",
     "output_type": "stream",
     "text": [
      "0\n"
     ]
    }
   ],
   "source": [
    "# Vuelve a verificar si hay filas duplicadas\n",
    "\n",
    "print(df_orders.duplicated().sum())"
   ]
  },
  {
   "cell_type": "code",
   "execution_count": 12,
   "id": "f6113ef1",
   "metadata": {
    "id": "f6113ef1"
   },
   "outputs": [
    {
     "name": "stdout",
     "output_type": "stream",
     "text": [
      "0\n"
     ]
    }
   ],
   "source": [
    "# Vuelve a verificar si hay IDs duplicados de pedidos\n",
    "\n",
    "print(df_orders['order_id'].duplicated().sum())"
   ]
  },
  {
   "cell_type": "markdown",
   "id": "5e8905ae",
   "metadata": {
    "id": "5e8905ae"
   },
   "source": [
    "Describe brevemente tus hallazgos y lo que hiciste con ellos\n",
    "\n",
    "<div class=\"alert alert-block alert-info\">\n",
    "<b>Respuesta del estudiante.</b> <a class=\"tocSkip\"></a>\n",
    "\n",
    "Se encontraron un total de 15 lineas duplicadas en un total inicial de 478,967. Todas estas se generaron en el mismo dia al mismo horario, probablemente debido a alguna falla en el sistema. Se procedio a eliminarlas ya que representan una muestra muy pequeña del total general. Se volvio a validar especificamente por la columna de ID de pedidos para buscar nuevamente duplicidades, sin embargo despues de la eliminacion de las 15 filas completas, ya no se encontaron mas duplicados."
   ]
  },
  {
   "cell_type": "markdown",
   "id": "192086a6",
   "metadata": {},
   "source": [
    "<div class=\"alert alert-block alert-success\">\n",
    "\n",
    "<b>Comentario del revisor</b> <a class=\"tocSkip\"></a>\n",
    "\n",
    "Muy bien manejando los duplicados de este dataset.</div>"
   ]
  },
  {
   "cell_type": "markdown",
   "id": "45e6bc46",
   "metadata": {
    "id": "45e6bc46"
   },
   "source": [
    "### `products` data frame"
   ]
  },
  {
   "cell_type": "code",
   "execution_count": 13,
   "id": "5f526b5b-8175-46fa-a0fd-441767d50e64",
   "metadata": {
    "id": "5f526b5b-8175-46fa-a0fd-441767d50e64"
   },
   "outputs": [
    {
     "name": "stdout",
     "output_type": "stream",
     "text": [
      "       product_id                                       product_name  \\\n",
      "46424       46425  Veggie Snack- Freeze-Dried Edamame- Onion & Chive   \n",
      "33656       33657                                 Mango Fruit Nectar   \n",
      "16593       16594            Indicator Contour Clean Soft Toothbrush   \n",
      "4657         4658                             Imported Mineral Water   \n",
      "12520       12521                                                NaN   \n",
      "\n",
      "       aisle_id  department_id  \n",
      "46424        50             19  \n",
      "33656        98              7  \n",
      "16593        20             11  \n",
      "4657        115              7  \n",
      "12520       100             21  \n",
      "\n",
      "<class 'pandas.core.frame.DataFrame'>\n",
      "RangeIndex: 49694 entries, 0 to 49693\n",
      "Data columns (total 4 columns):\n",
      " #   Column         Non-Null Count  Dtype \n",
      "---  ------         --------------  ----- \n",
      " 0   product_id     49694 non-null  int64 \n",
      " 1   product_name   48436 non-null  object\n",
      " 2   aisle_id       49694 non-null  int64 \n",
      " 3   department_id  49694 non-null  int64 \n",
      "dtypes: int64(3), object(1)\n",
      "memory usage: 1.5+ MB\n",
      "\n",
      "0\n"
     ]
    }
   ],
   "source": [
    "# Verifica si hay filas totalmente duplicadas\n",
    "\n",
    "print(df_products.sample(5)) #Visualizacion inicial de los datos\n",
    "print()\n",
    "df_products.info() #Validacion de tipo de datos\n",
    "print()\n",
    "print(df_products.duplicated().sum())#Verificar la cantidad total de duplicados"
   ]
  },
  {
   "cell_type": "code",
   "execution_count": 14,
   "id": "88daa4f4",
   "metadata": {
    "id": "88daa4f4"
   },
   "outputs": [
    {
     "name": "stdout",
     "output_type": "stream",
     "text": [
      "0\n"
     ]
    }
   ],
   "source": [
    "# Verifica si hay IDs duplicadas de productos\n",
    "\n",
    "print(df_products['product_id'].duplicated().sum())#Verificar la cantidad de duplicados en 'product_id'"
   ]
  },
  {
   "cell_type": "code",
   "execution_count": 15,
   "id": "c773f0bf",
   "metadata": {
    "id": "c773f0bf"
   },
   "outputs": [
    {
     "name": "stdout",
     "output_type": "stream",
     "text": [
      "1257\n",
      "\n",
      "1173                              ORGANIC FLAX OIL\n",
      "18819                 SUNNY HEMP PLUS GRANOLA BARS\n",
      "44760                                  SALSA VERDE\n",
      "32486    WHISKEY- TENNESSEE HONEY- ORIGINAL RECIPE\n",
      "48839                       CHAI SPICE ORGANIC TEA\n",
      "Name: product_name, dtype: object\n",
      "\n",
      "1361\n",
      "\n",
      "71                                                   NaN\n",
      "109                                                  NaN\n",
      "296                                                  NaN\n",
      "416                                                  NaN\n",
      "436                                                  NaN\n",
      "                              ...                       \n",
      "49689                      HIGH PERFORMANCE ENERGY DRINK\n",
      "49690                      ORIGINAL PANCAKE & WAFFLE MIX\n",
      "49691    ORGANIC INSTANT OATMEAL LIGHT MAPLE BROWN SUGAR\n",
      "49692                             SPRING WATER BODY WASH\n",
      "49693                            BURRITO- STEAK & CHEESE\n",
      "Name: product_name, Length: 1361, dtype: object\n",
      "\n",
      "1258\n",
      "\n",
      "None\n",
      "\n",
      "0\n"
     ]
    }
   ],
   "source": [
    "# Revisa si hay nombres duplicados de productos (convierte los nombres a letras mayúsculas para compararlos mejor)\n",
    "\n",
    "print(df_products['product_name'].duplicated().sum())#revision de duplicados original\n",
    "print()\n",
    "df_products_upper = df_products['product_name'].str.upper()#conversion a mayusculas de 'product_name'\n",
    "print(df_products_upper.sample(5))#muestreo y validacion de cambio a mayusculas \n",
    "print()\n",
    "print(df_products_upper.duplicated().sum())#revision de duplicados ya en mayusculas\n",
    "print()\n",
    "print(df_products_upper[df_products_upper.duplicated()])#muestreo de lineas duplicadas\n",
    "print()\n",
    "print(df_products_upper.isna().sum())#revision de valores ausentes\n",
    "print()\n",
    "print(df_products_upper.dropna(inplace=True))#eliminacion de valores ausentes\n",
    "print()\n",
    "print(df_products_upper.isna().sum())#validacion de eliminacion de valores ausentes"
   ]
  },
  {
   "cell_type": "code",
   "execution_count": 16,
   "id": "01efd02e",
   "metadata": {
    "id": "01efd02e"
   },
   "outputs": [
    {
     "name": "stdout",
     "output_type": "stream",
     "text": [
      "104\n",
      "\n",
      "2058                                     BIOTIN 1000 MCG\n",
      "5455                    GREEN TEA WITH GINSENG AND HONEY\n",
      "5558                              CREAM OF MUSHROOM SOUP\n",
      "7558                           CINNAMON ROLLS WITH ICING\n",
      "9037                              AMERICAN CHEESE SLICES\n",
      "                              ...                       \n",
      "49689                      HIGH PERFORMANCE ENERGY DRINK\n",
      "49690                      ORIGINAL PANCAKE & WAFFLE MIX\n",
      "49691    ORGANIC INSTANT OATMEAL LIGHT MAPLE BROWN SUGAR\n",
      "49692                             SPRING WATER BODY WASH\n",
      "49693                            BURRITO- STEAK & CHEESE\n",
      "Name: product_name, Length: 104, dtype: object\n"
     ]
    }
   ],
   "source": [
    "# Revisa si hay nombres duplicados de productos no faltantes\n",
    "\n",
    "print(df_products_upper.duplicated().sum())#revision de duplicados de productos no ausentes\n",
    "print()\n",
    "print(df_products_upper[df_products_upper.duplicated()])#muestreo de lineas duplicadas"
   ]
  },
  {
   "cell_type": "markdown",
   "id": "9da8d293",
   "metadata": {
    "id": "9da8d293"
   },
   "source": [
    "Describe brevemente tus hallazgos y lo que hiciste con ellos.\n",
    "\n",
    "<div class=\"alert alert-block alert-info\">\n",
    "<b>Respuesta del estudiante.</b> <a class=\"tocSkip\"></a>\n",
    "\n",
    "De un total de 49,694 filas, no se encontraron filas completas ni ID de producto duplicados. Al validar por el nombre de producto, se hace el cambio de nombres a mayusculas y se encuentran un total de 1,361 valores duplicados, de los cuales 1,258 son valores ausentes. Se procede a eliminarlos ya que no son una muestra representativa y no hay manera de interpretar o completar los datos. Al validar nuevamente los nombres duplicados, se encuentran 104 valores, sin embargo no se duplican en columnas como ID de producto o categorias de pasillo o departamento, por lo que se mantienen ya que se supone que algun producto tiene versiones diferentes (sabor, tamaño, etc) y puede estar etiquetado o colocado en ubicaciones diferentes.     "
   ]
  },
  {
   "cell_type": "markdown",
   "id": "038ba49e",
   "metadata": {},
   "source": [
    "<div class=\"alert alert-block alert-success\">\n",
    "\n",
    "<b>Comentario del revisor</b> <a class=\"tocSkip\"></a>\n",
    "\n",
    "Excelente entendiendo la naturaleza de estos duplicados.</div>"
   ]
  },
  {
   "cell_type": "markdown",
   "id": "60f30db1",
   "metadata": {
    "id": "60f30db1"
   },
   "source": [
    "### `departments` data frame"
   ]
  },
  {
   "cell_type": "code",
   "execution_count": 17,
   "id": "fb410ad4-0fbf-4b80-bb09-23fdea79afe3",
   "metadata": {
    "id": "fb410ad4-0fbf-4b80-bb09-23fdea79afe3"
   },
   "outputs": [
    {
     "name": "stdout",
     "output_type": "stream",
     "text": [
      "    department_id       department\n",
      "1               2            other\n",
      "9              10             bulk\n",
      "5               6    international\n",
      "8               9  dry goods pasta\n",
      "10             11    personal care\n",
      "\n",
      "<class 'pandas.core.frame.DataFrame'>\n",
      "RangeIndex: 21 entries, 0 to 20\n",
      "Data columns (total 2 columns):\n",
      " #   Column         Non-Null Count  Dtype \n",
      "---  ------         --------------  ----- \n",
      " 0   department_id  21 non-null     int64 \n",
      " 1   department     21 non-null     object\n",
      "dtypes: int64(1), object(1)\n",
      "memory usage: 464.0+ bytes\n",
      "\n",
      "0\n"
     ]
    }
   ],
   "source": [
    "# Revisa si hay filas totalmente duplicadas\n",
    "\n",
    "print(df_departments.sample(5)) #Visualizacion inicial de los datos\n",
    "print()\n",
    "df_departments.info() #Validacion de tipo de datos\n",
    "print()\n",
    "print(df_departments.duplicated().sum())#Verificar la cantidad total de duplicados"
   ]
  },
  {
   "cell_type": "code",
   "execution_count": 18,
   "id": "332b12bb",
   "metadata": {
    "id": "332b12bb"
   },
   "outputs": [
    {
     "name": "stdout",
     "output_type": "stream",
     "text": [
      "0\n"
     ]
    }
   ],
   "source": [
    "# Revisa si hay IDs duplicadas de productos\n",
    "\n",
    "print(df_departments['department_id'].duplicated().sum())#Verificar los duplicados de 'department_id'"
   ]
  },
  {
   "cell_type": "markdown",
   "id": "bd30d78e",
   "metadata": {
    "id": "bd30d78e"
   },
   "source": [
    "Describe brevemente tus hallazgos y lo que hiciste con ellos.\n",
    "\n",
    "<div class=\"alert alert-block alert-info\">\n",
    "<b>Respuesta del estudiante.</b> <a class=\"tocSkip\"></a>\n",
    "\n",
    "No se encontraron lineas completas ni datos en 'department ID' duplicados. Por lo que se mantiene el Dataframe intacto para continuar con el analisis."
   ]
  },
  {
   "cell_type": "markdown",
   "id": "889349c1",
   "metadata": {
    "id": "889349c1"
   },
   "source": [
    "### `aisles` data frame"
   ]
  },
  {
   "cell_type": "code",
   "execution_count": 19,
   "id": "9da89fb9-4679-40f5-ad0d-c34df753a3f8",
   "metadata": {
    "id": "9da89fb9-4679-40f5-ad0d-c34df753a3f8"
   },
   "outputs": [
    {
     "name": "stdout",
     "output_type": "stream",
     "text": [
      "     aisle_id                     aisle\n",
      "80         81  canned jarred vegetables\n",
      "60         61             cookies cakes\n",
      "71         72                condiments\n",
      "113       114         cleaning products\n",
      "35         36                    butter\n",
      "\n",
      "<class 'pandas.core.frame.DataFrame'>\n",
      "RangeIndex: 134 entries, 0 to 133\n",
      "Data columns (total 2 columns):\n",
      " #   Column    Non-Null Count  Dtype \n",
      "---  ------    --------------  ----- \n",
      " 0   aisle_id  134 non-null    int64 \n",
      " 1   aisle     134 non-null    object\n",
      "dtypes: int64(1), object(1)\n",
      "memory usage: 2.2+ KB\n",
      "\n",
      "0\n"
     ]
    }
   ],
   "source": [
    "# Revisa si hay filas totalmente duplicadas\n",
    "\n",
    "print(df_aisles.sample(5)) #Visualizacion inicial de los datos\n",
    "print()\n",
    "df_aisles.info() #Validacion de tipo de datos\n",
    "print()\n",
    "print(df_aisles.duplicated().sum())#Verificar la cantidad total de duplicados"
   ]
  },
  {
   "cell_type": "code",
   "execution_count": 20,
   "id": "da7c2822",
   "metadata": {
    "id": "da7c2822"
   },
   "outputs": [
    {
     "name": "stdout",
     "output_type": "stream",
     "text": [
      "0\n"
     ]
    }
   ],
   "source": [
    "# Revisa si hay IDs duplicadas de productos\n",
    "\n",
    "print(df_aisles['aisle_id'].duplicated().sum())#Verificar los duplicados de 'aisle_id'"
   ]
  },
  {
   "cell_type": "markdown",
   "id": "ac63826f",
   "metadata": {
    "id": "ac63826f"
   },
   "source": [
    "Describe brevemente tus hallazgos y lo que hiciste con ellos.\n",
    "\n",
    "<div class=\"alert alert-block alert-info\">\n",
    "<b>Respuesta del estudiante.</b> <a class=\"tocSkip\"></a>\n",
    "\n",
    "No se encontraron lineas completas ni datos en 'aisle ID' duplicados. Por lo que se mantiene el Dataframe intacto para continuar con el analisis."
   ]
  },
  {
   "cell_type": "markdown",
   "id": "274cd06a",
   "metadata": {
    "id": "274cd06a"
   },
   "source": [
    "### `order_products` data frame"
   ]
  },
  {
   "cell_type": "code",
   "execution_count": 21,
   "id": "52326689-84a8-4b8f-a881-7c68780f62c9",
   "metadata": {
    "id": "52326689-84a8-4b8f-a881-7c68780f62c9"
   },
   "outputs": [
    {
     "name": "stdout",
     "output_type": "stream",
     "text": [
      "         order_id  product_id  add_to_cart_order  reordered\n",
      "4075531   2692260       41065                4.0          0\n",
      "2539796   1931759       22025                8.0          1\n",
      "3835991   3171196       20119                7.0          1\n",
      "1408407   3358818       43961                2.0          1\n",
      "2272835   1388155       31915                8.0          1\n",
      "\n",
      "<class 'pandas.core.frame.DataFrame'>\n",
      "RangeIndex: 4545007 entries, 0 to 4545006\n",
      "Data columns (total 4 columns):\n",
      " #   Column             Dtype  \n",
      "---  ------             -----  \n",
      " 0   order_id           int64  \n",
      " 1   product_id         int64  \n",
      " 2   add_to_cart_order  float64\n",
      " 3   reordered          int64  \n",
      "dtypes: float64(1), int64(3)\n",
      "memory usage: 138.7 MB\n",
      "\n",
      "0\n"
     ]
    }
   ],
   "source": [
    "# Revisa si hay filas totalmente duplicadas\n",
    "\n",
    "print(df_order_products.sample(5)) #Visualizacion inicial de los datos\n",
    "print()\n",
    "df_order_products.info() #Validacion de tipo de datos\n",
    "print()\n",
    "print(df_order_products.duplicated().sum())#Verificar la cantidad total de duplicados"
   ]
  },
  {
   "cell_type": "code",
   "execution_count": 22,
   "id": "7b861391",
   "metadata": {
    "id": "7b861391"
   },
   "outputs": [
    {
     "name": "stdout",
     "output_type": "stream",
     "text": [
      "4094961\n"
     ]
    }
   ],
   "source": [
    "# Vuelve a verificar si hay cualquier otro duplicado engañoso\n",
    "\n",
    "print(df_order_products['order_id'].duplicated().sum())#Verificar los duplicados de 'order_products_id'"
   ]
  },
  {
   "cell_type": "markdown",
   "id": "0b890492",
   "metadata": {
    "id": "0b890492"
   },
   "source": [
    "Describe brevemente tus hallazgos y lo que hiciste con ellos.\n",
    "\n",
    "<div class=\"alert alert-block alert-info\">\n",
    "<b>Respuesta del estudiante.</b> <a class=\"tocSkip\"></a>\n",
    "    \n",
    "No se encontraron lineas completas duplicadas en el DataFrame. Se validan los duplicados en la columna 'order_id', sin embargo son el 90% de los registros, lo que indica que en la gran mayoria de las ordenes se solicito mas de un producto."
   ]
  },
  {
   "cell_type": "markdown",
   "id": "efcf7f48",
   "metadata": {},
   "source": [
    "<div class=\"alert alert-block alert-success\">\n",
    "\n",
    "<b>Comentario del revisor</b> <a class=\"tocSkip\"></a>\n",
    "\n",
    "Muy buena seccion.</div>"
   ]
  },
  {
   "cell_type": "markdown",
   "id": "1e46de76",
   "metadata": {
    "id": "1e46de76"
   },
   "source": [
    "## Encuentra y elimina los valores ausentes\n",
    "\n",
    "Al trabajar con valores duplicados, pudimos observar que también nos falta investigar valores ausentes:\n",
    "\n",
    "* La columna `'product_name'` de la tabla products.\n",
    "* La columna `'days_since_prior_order'` de la tabla orders.\n",
    "* La columna `'add_to_cart_order'` de la tabla order_productos."
   ]
  },
  {
   "cell_type": "markdown",
   "id": "c0aebd78",
   "metadata": {
    "id": "c0aebd78"
   },
   "source": [
    "### `products` data frame"
   ]
  },
  {
   "cell_type": "code",
   "execution_count": 23,
   "id": "fe4a8b0f",
   "metadata": {
    "id": "fe4a8b0f"
   },
   "outputs": [
    {
     "name": "stdout",
     "output_type": "stream",
     "text": [
      "       product_id                          product_name  aisle_id  \\\n",
      "21485       21486   CAMOMILE HONEY & VANILLA HERBAL TEA        94   \n",
      "3130         3131             TAKE ALONGS- MEDIUM BOWLS        85   \n",
      "48500       48501                      SMALL GAUZE PADS       118   \n",
      "47680       47681  BATTER DIPPED CHICKEN BREAST TENDERS        34   \n",
      "39121       39122                     FREEZE DRIED DILL       104   \n",
      "\n",
      "       department_id  \n",
      "21485              7  \n",
      "3130              17  \n",
      "48500             11  \n",
      "47680              1  \n",
      "39121             13  \n",
      "\n",
      "product_id          0\n",
      "product_name     1258\n",
      "aisle_id            0\n",
      "department_id       0\n",
      "dtype: int64\n",
      "\n",
      "       product_id product_name  aisle_id  department_id\n",
      "10009       10010          NaN       100             21\n",
      "3940         3941          NaN       100             21\n",
      "3449         3450          NaN       100             21\n",
      "40394       40395          NaN       100             21\n",
      "20706       20707          NaN       100             21\n",
      "26402       26403          NaN       100             21\n",
      "45021       45022          NaN       100             21\n",
      "4419         4420          NaN       100             21\n",
      "44468       44469          NaN       100             21\n",
      "14009       14010          NaN       100             21\n",
      "\n"
     ]
    }
   ],
   "source": [
    "# Encuentra los valores ausentes en la columna 'product_name'\n",
    "\n",
    "df_products['product_name'] =  df_products['product_name'].str.upper()#conversion a mayusculas de 'product_name'\n",
    "print(df_products.sample(5))#muestreo y validacion de cambio a mayusculas \n",
    "print()\n",
    "print(df_products.isna().sum())#revision de valores ausentes\n",
    "print()\n",
    "print(df_products[df_products['product_name'].isna()].sample(10))#filtrado de valores ausentes en columna 'product_name' \n",
    "#print(df_products_upper.dropna(inplace=True))#eliminacion de valores ausentes\n",
    "print()\n",
    "#print(df_products_upper.isna().sum())#validacion de eliminacion de valores ausentes"
   ]
  },
  {
   "cell_type": "markdown",
   "id": "-A6x1AbJhjkp",
   "metadata": {
    "id": "-A6x1AbJhjkp"
   },
   "source": [
    "Describe brevemente cuáles son tus hallazgos.\n",
    "\n",
    "<div class=\"alert alert-block alert-info\">\n",
    "<b>Respuesta del estudiante.</b> <a class=\"tocSkip\"></a>\n",
    "\n",
    "Se encontraron 1,258 valores ausentes en la columna 'product_name', aparentemente la gran mayoria se encuentra en el 'aisle_id' = 100 y 'department_id' = 21"
   ]
  },
  {
   "cell_type": "code",
   "execution_count": 24,
   "id": "e96167bc",
   "metadata": {
    "id": "e96167bc"
   },
   "outputs": [
    {
     "name": "stdout",
     "output_type": "stream",
     "text": [
      "<class 'pandas.core.frame.DataFrame'>\n",
      "Int64Index: 1258 entries, 37 to 49668\n",
      "Data columns (total 4 columns):\n",
      " #   Column         Non-Null Count  Dtype \n",
      "---  ------         --------------  ----- \n",
      " 0   product_id     1258 non-null   int64 \n",
      " 1   product_name   0 non-null      object\n",
      " 2   aisle_id       1258 non-null   int64 \n",
      " 3   department_id  1258 non-null   int64 \n",
      "dtypes: int64(3), object(1)\n",
      "memory usage: 49.1+ KB\n",
      "\n",
      "100    1258\n",
      "Name: aisle_id, dtype: int64\n"
     ]
    }
   ],
   "source": [
    "#  ¿Todos los nombres de productos ausentes están relacionados con el pasillo con ID 100?\n",
    "\n",
    "df_products_NaN = df_products[df_products['product_name'].isna()]#filtrado de valores ausentes en columna 'product_name' \n",
    "df_products_NaN.info()#info del dataframe filtrado\n",
    "print()\n",
    "print(df_products_NaN['aisle_id'].value_counts())#identificacion de valores en la columna 'aisle_id'"
   ]
  },
  {
   "cell_type": "markdown",
   "id": "WRpIfXRphpSL",
   "metadata": {
    "id": "WRpIfXRphpSL"
   },
   "source": [
    "Describe brevemente cuáles son tus hallazgos.\n",
    "\n",
    "<div class=\"alert alert-block alert-info\">\n",
    "<b>Respuesta del estudiante.</b> <a class=\"tocSkip\"></a>\n",
    "    \n",
    "Se confirma que todos los productos ausentes estan relacionados con el pasillo ID 100"
   ]
  },
  {
   "cell_type": "code",
   "execution_count": 25,
   "id": "8fd0a541",
   "metadata": {
    "id": "8fd0a541"
   },
   "outputs": [
    {
     "name": "stdout",
     "output_type": "stream",
     "text": [
      "<class 'pandas.core.frame.DataFrame'>\n",
      "Int64Index: 1258 entries, 37 to 49668\n",
      "Data columns (total 4 columns):\n",
      " #   Column         Non-Null Count  Dtype \n",
      "---  ------         --------------  ----- \n",
      " 0   product_id     1258 non-null   int64 \n",
      " 1   product_name   0 non-null      object\n",
      " 2   aisle_id       1258 non-null   int64 \n",
      " 3   department_id  1258 non-null   int64 \n",
      "dtypes: int64(3), object(1)\n",
      "memory usage: 49.1+ KB\n",
      "\n",
      "21    1258\n",
      "Name: department_id, dtype: int64\n"
     ]
    }
   ],
   "source": [
    "# ¿Todos los nombres de productos ausentes están relacionados con el departamento con ID 21?\n",
    "\n",
    "df_products_NaN.info()#info del dataframe filtrado\n",
    "print()\n",
    "print(df_products_NaN['department_id'].value_counts())#identificacion de valores en la columna 'aisle_id'\n"
   ]
  },
  {
   "cell_type": "markdown",
   "id": "qDpdYn1Fht_I",
   "metadata": {
    "id": "qDpdYn1Fht_I"
   },
   "source": [
    "Describe brevemente cuáles son tus hallazgos.\n",
    "\n",
    "<div class=\"alert alert-block alert-info\">\n",
    "<b>Respuesta del estudiante.</b> <a class=\"tocSkip\"></a>\n",
    "    \n",
    "Se confirma que todos los productos ausentes estan relacionados con el departamento ID 21"
   ]
  },
  {
   "cell_type": "code",
   "execution_count": 26,
   "id": "325c3464",
   "metadata": {
    "id": "325c3464"
   },
   "outputs": [
    {
     "name": "stdout",
     "output_type": "stream",
     "text": [
      "<class 'pandas.core.frame.DataFrame'>\n",
      "RangeIndex: 21 entries, 0 to 20\n",
      "Data columns (total 2 columns):\n",
      " #   Column         Non-Null Count  Dtype \n",
      "---  ------         --------------  ----- \n",
      " 0   department_id  21 non-null     int64 \n",
      " 1   department     21 non-null     object\n",
      "dtypes: int64(1), object(1)\n",
      "memory usage: 464.0+ bytes\n",
      "\n",
      "    department_id department\n",
      "20             21    missing\n",
      "\n",
      "<class 'pandas.core.frame.DataFrame'>\n",
      "RangeIndex: 134 entries, 0 to 133\n",
      "Data columns (total 2 columns):\n",
      " #   Column    Non-Null Count  Dtype \n",
      "---  ------    --------------  ----- \n",
      " 0   aisle_id  134 non-null    int64 \n",
      " 1   aisle     134 non-null    object\n",
      "dtypes: int64(1), object(1)\n",
      "memory usage: 2.2+ KB\n",
      "\n",
      "    aisle_id    aisle\n",
      "99       100  missing\n"
     ]
    }
   ],
   "source": [
    "# Usa las tablas department y aisle para revisar los datos del pasillo con ID 100 y el departamento con ID 21.\n",
    "\n",
    "df_departments.info()\n",
    "print()\n",
    "print(df_departments[df_departments['department_id'] == 21])#filtrado de df_departments para identificar ID 21\n",
    "print()\n",
    "df_aisles.info()\n",
    "print()\n",
    "print(df_aisles[df_aisles['aisle_id'] == 100]) #filtrado de df_asisles para identificar ID 100"
   ]
  },
  {
   "cell_type": "markdown",
   "id": "nqhSTUPhhvEJ",
   "metadata": {
    "id": "nqhSTUPhhvEJ"
   },
   "source": [
    "Describe brevemente cuáles son tus hallazgos.\n",
    "\n",
    "<div class=\"alert alert-block alert-info\">\n",
    "<b>Respuesta del estudiante.</b> <a class=\"tocSkip\"></a>\n",
    "\n",
    "Tanto el 'department_id' 21 como el 'aisle_id' 100 vienen indicados como 'missing'. "
   ]
  },
  {
   "cell_type": "code",
   "execution_count": 27,
   "id": "6b295120",
   "metadata": {
    "id": "6b295120"
   },
   "outputs": [
    {
     "name": "stdout",
     "output_type": "stream",
     "text": [
      "       product_id                     product_name  aisle_id  department_id\n",
      "29392       29393       MARINATED ARTICHOKE HEARTS        81             15\n",
      "38580       38581   COTIJA CILANTRO DRESSING & DIP        89             13\n",
      "34296       34297                  HAWAIIAN PAPAYA        24              4\n",
      "37646       37647                   CREAMLINE MILK        84             16\n",
      "34563       34564  HOME SANDWICH BAGS FOLD & CLOSE        85             17\n",
      "\n",
      "<class 'pandas.core.frame.DataFrame'>\n",
      "RangeIndex: 49694 entries, 0 to 49693\n",
      "Data columns (total 4 columns):\n",
      " #   Column         Non-Null Count  Dtype \n",
      "---  ------         --------------  ----- \n",
      " 0   product_id     49694 non-null  int64 \n",
      " 1   product_name   49694 non-null  object\n",
      " 2   aisle_id       49694 non-null  int64 \n",
      " 3   department_id  49694 non-null  int64 \n",
      "dtypes: int64(3), object(1)\n",
      "memory usage: 1.5+ MB\n"
     ]
    }
   ],
   "source": [
    "# Completa los nombres de productos ausentes con 'Unknown'\n",
    "\n",
    "df_products['product_name'] =  df_products['product_name'].str.upper()#conversion a mayusculas de 'product_name'\n",
    "print(df_products.sample(5))#muestreo y validacion de cambio a mayusculas \n",
    "print()\n",
    "df_products['product_name'].fillna('Unknown', inplace=True) #cambio de valores ausentes a 'Unknown'\n",
    "df_products.info() #comprobacion de eliminacion de valores ausentes"
   ]
  },
  {
   "cell_type": "markdown",
   "id": "fc70e5ad",
   "metadata": {
    "id": "fc70e5ad"
   },
   "source": [
    "Describe brevemente tus hallazgos y lo que hiciste con ellos.\n",
    "\n",
    "<div class=\"alert alert-block alert-info\">\n",
    "<b>Respuesta del estudiante.</b> <a class=\"tocSkip\"></a>\n",
    "\n",
    "Una vez que se comprobo que los valores ausentes coincidian con los ID de departamento y pasillo con la descripcion missing, se procedio a cambiar la descripcion del producto a 'Unknown'."
   ]
  },
  {
   "cell_type": "markdown",
   "id": "54dbef40",
   "metadata": {},
   "source": [
    "<div class=\"alert alert-block alert-success\">\n",
    "\n",
    "<b>Comentario del revisor</b> <a class=\"tocSkip\"></a>\n",
    "\n",
    "Perfecto.</div>"
   ]
  },
  {
   "cell_type": "markdown",
   "id": "7eb45c86",
   "metadata": {
    "id": "7eb45c86"
   },
   "source": [
    "### `orders` data frame"
   ]
  },
  {
   "cell_type": "code",
   "execution_count": 28,
   "id": "93e41d96",
   "metadata": {
    "id": "93e41d96"
   },
   "outputs": [
    {
     "name": "stdout",
     "output_type": "stream",
     "text": [
      "<class 'pandas.core.frame.DataFrame'>\n",
      "Int64Index: 478952 entries, 0 to 478966\n",
      "Data columns (total 6 columns):\n",
      " #   Column                  Non-Null Count   Dtype  \n",
      "---  ------                  --------------   -----  \n",
      " 0   order_id                478952 non-null  int64  \n",
      " 1   user_id                 478952 non-null  int64  \n",
      " 2   order_number            478952 non-null  int64  \n",
      " 3   order_dow               478952 non-null  int64  \n",
      " 4   order_hour_of_day       478952 non-null  int64  \n",
      " 5   days_since_prior_order  450135 non-null  float64\n",
      "dtypes: float64(1), int64(5)\n",
      "memory usage: 25.6 MB\n",
      "\n",
      "order_id                      0\n",
      "user_id                       0\n",
      "order_number                  0\n",
      "order_dow                     0\n",
      "order_hour_of_day             0\n",
      "days_since_prior_order    28817\n",
      "dtype: int64\n",
      "\n",
      "        order_id  user_id  order_number  order_dow  order_hour_of_day  \\\n",
      "378206   1321530   116088             1          4                 12   \n",
      "389417   2561593    67893             1          4                  7   \n",
      "413735    308734   146349             1          5                  9   \n",
      "87752    2335463   108936             1          5                 22   \n",
      "138618   1511242    10209             1          4                 22   \n",
      "60290    1637245    69661             1          6                 17   \n",
      "108710   2435327   136554             1          0                 21   \n",
      "349269   1677196    77830             1          6                 13   \n",
      "53550    1097468   180217             1          4                 16   \n",
      "110451    755672    47637             1          5                 14   \n",
      "\n",
      "        days_since_prior_order  \n",
      "378206                     NaN  \n",
      "389417                     NaN  \n",
      "413735                     NaN  \n",
      "87752                      NaN  \n",
      "138618                     NaN  \n",
      "60290                      NaN  \n",
      "108710                     NaN  \n",
      "349269                     NaN  \n",
      "53550                      NaN  \n",
      "110451                     NaN  \n"
     ]
    }
   ],
   "source": [
    "# Encuentra los valores ausentes\n",
    "\n",
    "df_orders.info(show_counts = True)#identificacion de columna con valores ausentes\n",
    "print()\n",
    "print(df_orders.isna().sum())#conteo de valores ausentes en columna days_since_prior_order\n",
    "print()\n",
    "print(df_orders[df_orders['days_since_prior_order'].isna()].sample(10))#filtrado de valores ausentes en columna days_since_prior_order "
   ]
  },
  {
   "cell_type": "code",
   "execution_count": 29,
   "id": "166e5a86",
   "metadata": {
    "id": "166e5a86"
   },
   "outputs": [
    {
     "name": "stdout",
     "output_type": "stream",
     "text": [
      "28817\n"
     ]
    }
   ],
   "source": [
    "# ¿Hay algún valor ausente que no sea el primer pedido del cliente?\n",
    "\n",
    "print((df_orders['order_number'] == 1).sum())#identificacion de pedidos con order_number igual a 1"
   ]
  },
  {
   "cell_type": "markdown",
   "id": "4e23d089",
   "metadata": {
    "id": "4e23d089"
   },
   "source": [
    "Describe brevemente tus hallazgos y lo que hiciste con ellos.\n",
    "\n",
    "<div class=\"alert alert-block alert-info\">\n",
    "<b>Respuesta del estudiante.</b> <a class=\"tocSkip\"></a>\n",
    "\n",
    "Se encontraron 28,817 valores ausentes en la columna days_since_prior_order. Al hacer el filtro de la columna order_number igual a 1, se confirma que esos valores corresponden al primer pedido del cliente."
   ]
  },
  {
   "cell_type": "markdown",
   "id": "57b22136",
   "metadata": {},
   "source": [
    "<div class=\"alert alert-block alert-success\">\n",
    "\n",
    "<b>Comentario del revisor</b> <a class=\"tocSkip\"></a>\n",
    "\n",
    "Muy bien concluyendo a que se deben los nulos.</div>"
   ]
  },
  {
   "cell_type": "markdown",
   "id": "69dc9ca4",
   "metadata": {
    "id": "69dc9ca4"
   },
   "source": [
    "### `order_products` data frame"
   ]
  },
  {
   "cell_type": "code",
   "execution_count": 30,
   "id": "b8240253",
   "metadata": {
    "id": "b8240253"
   },
   "outputs": [
    {
     "name": "stdout",
     "output_type": "stream",
     "text": [
      "<class 'pandas.core.frame.DataFrame'>\n",
      "RangeIndex: 4545007 entries, 0 to 4545006\n",
      "Data columns (total 4 columns):\n",
      " #   Column             Non-Null Count    Dtype  \n",
      "---  ------             --------------    -----  \n",
      " 0   order_id           4545007 non-null  int64  \n",
      " 1   product_id         4545007 non-null  int64  \n",
      " 2   add_to_cart_order  4544171 non-null  float64\n",
      " 3   reordered          4545007 non-null  int64  \n",
      "dtypes: float64(1), int64(3)\n",
      "memory usage: 138.7 MB\n",
      "\n",
      "order_id               0\n",
      "product_id             0\n",
      "add_to_cart_order    836\n",
      "reordered              0\n",
      "dtype: int64\n",
      "\n",
      "         order_id  product_id  add_to_cart_order  reordered\n",
      "1702593     61355        3390                NaN          0\n",
      "1833945    813364       42710                NaN          0\n",
      "2052455    871281       18150                NaN          1\n",
      "1000255   1832957       11777                NaN          1\n",
      "712578    1968313       42625                NaN          0\n",
      "1943851   2136777       40199                NaN          0\n",
      "658528      61355       35055                NaN          0\n",
      "4297389    293169       23744                NaN          0\n",
      "2744369   1800005          79                NaN          0\n",
      "2875042   1386261       34942                NaN          0\n"
     ]
    }
   ],
   "source": [
    "# Encuentra los valores ausentes\n",
    "\n",
    "df_order_products.info(show_counts = True)#visualizacion general de los datos con show_counts = True\n",
    "print()\n",
    "print(df_order_products.isna().sum()) #identificacion de columna con valores ausentes\n",
    "print()\n",
    "print(df_order_products[df_order_products['add_to_cart_order'].isna()].sample(10))#filtrado de valores ausentes en columna add_to_cart_order"
   ]
  },
  {
   "cell_type": "markdown",
   "id": "988e05b3",
   "metadata": {},
   "source": [
    "<div class=\"alert alert-block alert-danger\">\n",
    "\n",
    "<b>Comentario del revisor</b> <a class=\"tocSkip\"></a>\n",
    "\n",
    "En este caso (para este dataframe) deberias utilizar el parametro show_counts = True para que el metodo te arroje los datos correspondientes (De los no nulos).</div>\n",
    "\n",
    "\n",
    "\n",
    "<div class=\"alert alert-block alert-success\">\n",
    "<b>Comentario del revisor #2</b> <a class=\"tocSkip\"></a>\n",
    "\n",
    "Corregido, muy bien.\n",
    "\n",
    "</div>"
   ]
  },
  {
   "cell_type": "markdown",
   "id": "b473bbd7",
   "metadata": {},
   "source": [
    "<div class=\"alert alert-block alert-info\">\n",
    "<b>Respuesta del estudiante</b> <a class=\"tocSkip\"></a>\n",
    "\n",
    "Se agrega el parametro show_counts = True del metodo info() en el DF.\n",
    "</div>"
   ]
  },
  {
   "cell_type": "code",
   "execution_count": 31,
   "id": "9a78e5ee",
   "metadata": {
    "id": "9a78e5ee"
   },
   "outputs": [
    {
     "name": "stdout",
     "output_type": "stream",
     "text": [
      "1.0\n",
      "64.0\n"
     ]
    }
   ],
   "source": [
    "# ¿Cuáles son los valores mínimos y máximos en esta columna?\n",
    "\n",
    "print(df_order_products['add_to_cart_order'].min())#valor minimo\n",
    "print(df_order_products['add_to_cart_order'].max())#valor maximo"
   ]
  },
  {
   "cell_type": "markdown",
   "id": "-Z2Ja215jW78",
   "metadata": {
    "id": "-Z2Ja215jW78"
   },
   "source": [
    "Describe brevemente cuáles son tus hallazgos.\n",
    "\n",
    "<div class=\"alert alert-block alert-info\">\n",
    "<b>Respuesta del estudiante.</b> <a class=\"tocSkip\"></a>\n",
    "\n",
    "Se encontraron 836 valores ausentes en la columna add_to_cart_order de un total de 4,545,007 de filas. Los valores minimo y maximo de la columna add_to_cart_order son 1 y 64."
   ]
  },
  {
   "cell_type": "code",
   "execution_count": 32,
   "id": "ab9d0c2b",
   "metadata": {
    "id": "ab9d0c2b"
   },
   "outputs": [
    {
     "name": "stdout",
     "output_type": "stream",
     "text": [
      "         order_id  product_id  add_to_cart_order  reordered\n",
      "737       2449164        5068                NaN          0\n",
      "9926      1968313       43867                NaN          0\n",
      "14394     2926893       11688                NaN          0\n",
      "16418     1717990        4142                NaN          0\n",
      "30114     1959075       42828                NaN          1\n",
      "...           ...         ...                ...        ...\n",
      "4505662   1800005        7411                NaN          0\n",
      "4511400   1633337         260                NaN          0\n",
      "4517562    404157        9517                NaN          0\n",
      "4534112   1673227       17835                NaN          0\n",
      "4535739   1832957       17949                NaN          1\n",
      "\n",
      "[836 rows x 4 columns]\n",
      "\n",
      "[   9310   61355  102236  129627  165801  171934  180546  264710  293169\n",
      "  388234  404157  678116  733526  747668  813364  844733  854647  871281\n",
      "  888470  903110  936852 1021563 1038146 1169835 1183255 1220886 1302315\n",
      " 1308785 1386261 1477139 1529171 1564093 1598369 1625713 1633337 1648217\n",
      " 1673227 1677118 1713430 1717990 1730767 1800005 1832957 1888628 1916118\n",
      " 1959075 1961723 1968313 2094761 2136777 2170451 2256933 2409109 2449164\n",
      " 2470674 2479011 2621907 2625444 2652650 2721963 2729254 2849370 2926893\n",
      " 2979697 2997021 2999801 3125735 3308010 3347453 3383594]\n",
      "\n",
      "         order_id  product_id  add_to_cart_order  reordered\n",
      "267       2094761       31469               57.0          1\n",
      "737       2449164        5068                NaN          0\n",
      "1742      2997021        4920               37.0          0\n",
      "3463       871281       40063               61.0          1\n",
      "3535       171934       36397                7.0          0\n",
      "...           ...         ...                ...        ...\n",
      "4543519   2621907       32018               28.0          1\n",
      "4544672    102236       34688               49.0          0\n",
      "4544708   2256933       41544               21.0          0\n",
      "4544771    180546       12741               46.0          1\n",
      "4544810   2136777       20072               10.0          0\n",
      "\n",
      "[5316 rows x 4 columns]\n"
     ]
    }
   ],
   "source": [
    "# Guarda todas las IDs de pedidos que tengan un valor ausente en 'add_to_cart_order'\n",
    "\n",
    "#---Codigo anterior---\n",
    "#df_order_products_missing = df_order_products[df_order_products['add_to_cart_order'].isna()]\n",
    "#print(df_order_products_missing)\n",
    "#df_order_products_missingID = df_order_products_missing['order_id']\n",
    "#print(df_order_products_missingID)\n",
    "\n",
    "df_order_products_missing1 = df_order_products[df_order_products['add_to_cart_order'].isna()]#filtrado de DF con ausentes en 'add_to_cart_order'\n",
    "print(df_order_products_missing1)#verificacion de filtrado\n",
    "print()\n",
    "df_order_products_missing_unique = df_order_products_missing1['order_id'].sort_values().unique()#identificaciones de valores unicos en 'order_id'\n",
    "print(df_order_products_missing_unique)#verificacion de listado\n",
    "print()\n",
    "df_order_products_missing_filtered = df_order_products[df_order_products['order_id'].isin(df_order_products_missing_unique)]#filtrado de DF completo para 'order_id' con valores ausentes\n",
    "print(df_order_products_missing_filtered)#verificacion de filtrado"
   ]
  },
  {
   "cell_type": "code",
   "execution_count": 33,
   "id": "54c31695",
   "metadata": {
    "id": "54c31695"
   },
   "outputs": [
    {
     "name": "stdout",
     "output_type": "stream",
     "text": [
      "order_id\n",
      "9310       64.0\n",
      "61355      64.0\n",
      "102236     64.0\n",
      "129627     64.0\n",
      "165801     64.0\n",
      "           ... \n",
      "2999801    64.0\n",
      "3125735    64.0\n",
      "3308010    64.0\n",
      "3347453    64.0\n",
      "3383594    64.0\n",
      "Name: add_to_cart_order, Length: 70, dtype: float64\n",
      "\n",
      "<pandas.core.groupby.generic.DataFrameGroupBy object at 0x7ff70a064640>\n",
      "\n",
      "order_id\n",
      "9310        65\n",
      "747668      65\n",
      "1598369     65\n",
      "1677118     65\n",
      "2170451     65\n",
      "          ... \n",
      "1959075     98\n",
      "171934     104\n",
      "2136777    108\n",
      "3308010    115\n",
      "61355      127\n",
      "Name: product_id, Length: 70, dtype: int64\n"
     ]
    }
   ],
   "source": [
    "# ¿Todos los pedidos con valores ausentes tienen más de 64 productos?\n",
    "\n",
    "print(df_order_products_missing_filtered.groupby('order_id')['add_to_cart_order'].max())\n",
    "print()\n",
    "\n",
    "# Agrupa todos los pedidos con datos ausentes por su ID de pedido.\n",
    "\n",
    "print(df_order_products_missing_filtered.groupby('order_id'))\n",
    "print()\n",
    "\n",
    "# Cuenta el número de 'product_id' en cada pedido y revisa el valor mínimo del conteo.\n",
    "\n",
    "print(df_order_products_missing_filtered.groupby('order_id')['product_id'].count().sort_values())\n"
   ]
  },
  {
   "cell_type": "markdown",
   "id": "21d634f7",
   "metadata": {},
   "source": [
    "<div class=\"alert alert-block alert-warning\">\n",
    "<b>Comentario del revisor </b> <a class=\"tocSkip\"></a>\n",
    "\n",
    "En razon de la pregunta si `¿Todos los pedidos con valores ausentes tienen más de 64 productos?`\n",
    "\n",
    "Podes buscar las `order_id` que tienen valores ausentes en la columna 'add_to_cart_order'.\n",
    "\n",
    "Después de identificar los IDs -unicos- de pedidos con valores ausentes, asegúrate de filtrar el DataFrame original para incluir solo las filas correspondientes a esos IDs de pedidos antes de realizar la agrupación (Verifica que se encuentren en el primer filtrado los datos). Esto asegurará que estás trabajando solo con los datos relevantes. (Como consejo utiliza en la agrupacion la id de orden pero utilizando el metodo unique para depurar)\n",
    "\n",
    "Al calcular la cantidad mínima de productos, asegúrate de que estás obteniendo la cantidad mínima de productos en un solo pedido con valores ausentes, no la cantidad mínima entre todos los pedidos agrupados. Revisa cómo estás aplicando la función de conteo y la función de mínimo para obtener el resultado correcto.\n",
    "</div>\n",
    "\n",
    "\n",
    "\n",
    "<div class=\"alert alert-block alert-success\">\n",
    "<b>Comentario del revisor #2</b> <a class=\"tocSkip\"></a>\n",
    "\n",
    "Corregido, perfecto.\n",
    "\n",
    "</div>"
   ]
  },
  {
   "cell_type": "markdown",
   "id": "d5263a9f",
   "metadata": {},
   "source": [
    "<div class=\"alert alert-block alert-info\">\n",
    "<b>Respuesta del estudiante.</b> <a class=\"tocSkip\"></a>\n",
    "\n",
    "Listo. Corregido de acuerdo a comentarios.\n",
    "Erroneamente estaba trabajando con el DF filtrado por las filas con valores ausentes, descartando el resto de valores de los mismos pedidos.\n",
    "Utilice el metodo unique para encontrar los pedidos y posteriormente realizar el filtrado adecuado."
   ]
  },
  {
   "cell_type": "markdown",
   "id": "p9V6pddtjglj",
   "metadata": {
    "id": "p9V6pddtjglj"
   },
   "source": [
    "Describe brevemente cuáles son tus hallazgos.\n",
    "\n",
    "<div class=\"alert alert-block alert-info\">\n",
    "<b>Respuesta del estudiante.</b> <a class=\"tocSkip\"></a>\n",
    "\n",
    "En efecto todos los pedidos con valores ausentes tienen mas de 64 productos. Al momento de agrupar por pedido y contar, encuentro que el valor minimo de productos es 65 y el numero mayor de productos en un pedido es 127."
   ]
  },
  {
   "cell_type": "code",
   "execution_count": 34,
   "id": "7a987d08",
   "metadata": {
    "id": "7a987d08"
   },
   "outputs": [
    {
     "name": "stdout",
     "output_type": "stream",
     "text": [
      "order_id             0\n",
      "product_id           0\n",
      "add_to_cart_order    0\n",
      "reordered            0\n",
      "dtype: int64\n",
      "\n",
      "\n",
      "<class 'pandas.core.frame.DataFrame'>\n",
      "RangeIndex: 4545007 entries, 0 to 4545006\n",
      "Data columns (total 4 columns):\n",
      " #   Column             Non-Null Count    Dtype\n",
      "---  ------             --------------    -----\n",
      " 0   order_id           4545007 non-null  int64\n",
      " 1   product_id         4545007 non-null  int64\n",
      " 2   add_to_cart_order  4545007 non-null  int64\n",
      " 3   reordered          4545007 non-null  int64\n",
      "dtypes: int64(4)\n",
      "memory usage: 138.7 MB\n"
     ]
    }
   ],
   "source": [
    "# Remplaza los valores ausentes en la columna 'add_to_cart? con 999 y convierte la columna al tipo entero.\n",
    "\n",
    "df_order_products['add_to_cart_order'].fillna(999, inplace=True)#remplazo de valores ausentes por 999\n",
    "print(df_order_products.isna().sum()) #confirmacion de no valores ausentes\n",
    "print()\n",
    "df_order_products['add_to_cart_order'] = df_order_products['add_to_cart_order'].astype('int')#conversion de columna a entero\n",
    "print()\n",
    "df_order_products.info(show_counts=True)"
   ]
  },
  {
   "cell_type": "markdown",
   "id": "a350d04a",
   "metadata": {},
   "source": [
    "<div class=\"alert alert-block alert-danger\">\n",
    "\n",
    "<b>Comentario del revisor</b> <a class=\"tocSkip\"></a>\n",
    "\n",
    "En este caso tenias nulos en la columna add to cart, todos respondian a un patron de minimos y maximos por lo que hay algo  que no esta bien y por eso se remplazan los nulos.\n",
    "\n",
    "Encontra el porque.</div>\n",
    "\n",
    "\n",
    "\n",
    "\n",
    "<div class=\"alert alert-block alert-success\">\n",
    "<b>Comentario del revisor #2</b> <a class=\"tocSkip\"></a>\n",
    "\n",
    "Corregido.\n",
    "\n",
    "</div>"
   ]
  },
  {
   "cell_type": "markdown",
   "id": "be6ef3c6",
   "metadata": {},
   "source": [
    "<div class=\"alert alert-block alert-info\">\n",
    "<b>Respuesta del estudiante.</b> <a class=\"tocSkip\"></a>\n",
    "    \n",
    "Listo entendido el ejercicio. Comentarios abajo."
   ]
  },
  {
   "cell_type": "markdown",
   "id": "fea4bcc7",
   "metadata": {
    "id": "fea4bcc7"
   },
   "source": [
    "Describe brevemente tus hallazgos y lo que hiciste con ellos.\n",
    "\n",
    "<div class=\"alert alert-block alert-info\">\n",
    "<b>Respuesta del estudiante.</b> <a class=\"tocSkip\"></a>\n",
    "\n",
    "De acuerdo al ejercicio anterior, el conteo de pedidos se detuvo al llegar a 64, por lo que el resto de productos con valores ausentes se remplaza por 999 ya que no se conoce el lugar en el que se agregaron al carrito. \n",
    "Probablemente se detuvo el conteo en 64 debido a algo relacionado con la memoria del programa o porque pedidos de mas de 64 productos se catalogan como pedidos mayoristas o de alto volumen."
   ]
  },
  {
   "cell_type": "markdown",
   "id": "4e999574",
   "metadata": {},
   "source": [
    "<div class=\"alert alert-block alert-warning\">\n",
    "\n",
    "<b>Comentario del revisor</b> <a class=\"tocSkip\"></a>\n",
    "\n",
    "¿Por que crees que el maximo de `add_to_cart_order` se detiene en 64? ¿No crees que es un valor muy arbitrario?</div>\n",
    "\n",
    "<div class=\"alert alert-block alert-success\">\n",
    "\n",
    "<b>Comentario del revisor #2</b> <a class=\"tocSkip\"></a>\n",
    "\n",
    "Corregido, en este caso es muy probable que se haya almacenado como int64 por lo que se limito a solo ese numero -como maximo-, comentarle este tipo de problemas al cliente hara que nuestros datos sean mas completos.</div>"
   ]
  },
  {
   "cell_type": "markdown",
   "id": "RnplPFY1gSrb",
   "metadata": {
    "id": "RnplPFY1gSrb"
   },
   "source": [
    "## Conclusiones\n",
    "\n",
    "Escribe aquí tus conclusiones intermedias sobre el Paso 2. Preprocesamiento de los datos\n",
    "\n",
    "<div class=\"alert alert-block alert-info\">\n",
    "<b>Respuesta del estudiante.</b> <a class=\"tocSkip\"></a>\n",
    "\n",
    "Se realizo el la busqueda de duplicados en los diferentes Dataframes, en la mayoria de los casos las filas duplicadas se eliminaron una vez confirmando que no representaban un volumen significativo para sesgar el resultado. Asi mismo se validaron los datos ausentes, en algunos casos se comprobo que deberian de mantenerse y solo se categorizaron de una manera distinta.\n"
   ]
  },
  {
   "cell_type": "markdown",
   "id": "UjrOIwTcz3ri",
   "metadata": {
    "id": "UjrOIwTcz3ri"
   },
   "source": [
    "# Paso 3. Análisis de los datos\n",
    "\n",
    "Una vez los datos estén procesados y listos, haz el siguiente análisis:"
   ]
  },
  {
   "cell_type": "markdown",
   "id": "turkish-kidney",
   "metadata": {
    "id": "turkish-kidney"
   },
   "source": [
    "# [A] Fácil (deben completarse todos para aprobar)\n",
    "\n",
    "1. Verifica que los valores en las columnas `'order_hour_of_day'` y `'order_dow'` en la tabla orders sean razonables (es decir, `'order_hour_of_day'` oscile entre 0 y 23 y `'order_dow'` oscile entre 0 y 6).\n",
    "2. Crea un gráfico que muestre el número de personas que hacen pedidos dependiendo de la hora del día.\n",
    "3. Crea un gráfico que muestre qué día de la semana la gente hace sus compras.\n",
    "4. Crea un gráfico que muestre el tiempo que la gente espera hasta hacer su siguiente pedido, y comenta sobre los valores mínimos y máximos."
   ]
  },
  {
   "cell_type": "markdown",
   "id": "short-capability",
   "metadata": {
    "id": "short-capability"
   },
   "source": [
    "### [A1] Verifica que los valores sean sensibles"
   ]
  },
  {
   "cell_type": "code",
   "execution_count": 35,
   "id": "growing-fruit",
   "metadata": {
    "id": "growing-fruit"
   },
   "outputs": [
    {
     "name": "stdout",
     "output_type": "stream",
     "text": [
      "[ 0  1  2  3  4  5  6  7  8  9 10 11 12 13 14 15 16 17 18 19 20 21 22 23]\n"
     ]
    }
   ],
   "source": [
    "print(df_orders['order_hour_of_day'].sort_values().unique())#revision de valores "
   ]
  },
  {
   "cell_type": "code",
   "execution_count": 36,
   "id": "accessory-malaysia",
   "metadata": {
    "id": "accessory-malaysia"
   },
   "outputs": [
    {
     "name": "stdout",
     "output_type": "stream",
     "text": [
      "[0 1 2 3 4 5 6]\n"
     ]
    }
   ],
   "source": [
    "print(df_orders['order_dow'].sort_values().unique())#revision de valores "
   ]
  },
  {
   "cell_type": "markdown",
   "id": "hmR2GNQ6lCsX",
   "metadata": {
    "id": "hmR2GNQ6lCsX"
   },
   "source": [
    "Escribe aquí tus conclusiones\n",
    "\n",
    "<div class=\"alert alert-block alert-info\">\n",
    "<b>Respuesta del estudiante.</b> <a class=\"tocSkip\"></a>\n",
    "    \n",
    "Los valores de ambas columnas son razonables.\n",
    "    \n",
    " <div class=\"alert alert-block alert-success\">\n",
    "\n",
    "<b>Comentario del revisor</b> <a class=\"tocSkip\"></a>\n",
    "\n",
    "Excelente.</div>   "
   ]
  },
  {
   "cell_type": "markdown",
   "id": "a6743a70",
   "metadata": {
    "id": "a6743a70"
   },
   "source": [
    "### [A2] Para cada hora del día, ¿cuántas personas hacen órdenes?"
   ]
  },
  {
   "cell_type": "code",
   "execution_count": 37,
   "id": "a36cca27",
   "metadata": {
    "id": "a36cca27"
   },
   "outputs": [
    {
     "name": "stdout",
     "output_type": "stream",
     "text": [
      "<class 'pandas.core.frame.DataFrame'>\n",
      "Int64Index: 478952 entries, 0 to 478966\n",
      "Data columns (total 6 columns):\n",
      " #   Column                  Non-Null Count   Dtype  \n",
      "---  ------                  --------------   -----  \n",
      " 0   order_id                478952 non-null  int64  \n",
      " 1   user_id                 478952 non-null  int64  \n",
      " 2   order_number            478952 non-null  int64  \n",
      " 3   order_dow               478952 non-null  int64  \n",
      " 4   order_hour_of_day       478952 non-null  int64  \n",
      " 5   days_since_prior_order  450135 non-null  float64\n",
      "dtypes: float64(1), int64(5)\n",
      "memory usage: 25.6 MB\n",
      "\n",
      "order_hour_of_day\n",
      "0      3180\n",
      "1      1763\n",
      "2       989\n",
      "3       770\n",
      "4       765\n",
      "5      1371\n",
      "6      4215\n",
      "7     13043\n",
      "8     25024\n",
      "9     35896\n",
      "10    40578\n",
      "11    40032\n",
      "12    38034\n",
      "13    39007\n",
      "14    39631\n",
      "15    39789\n",
      "16    38112\n",
      "17    31930\n",
      "18    25510\n",
      "19    19547\n",
      "20    14624\n",
      "21    11019\n",
      "22     8512\n",
      "23     5611\n",
      "Name: order_id, dtype: int64\n"
     ]
    },
    {
     "data": {
      "image/png": "[encoded data removed]",
      "text/plain": [
       "<Figure size 500x500 with 1 Axes>"
      ]
     },
     "metadata": {},
     "output_type": "display_data"
    }
   ],
   "source": [
    "df_orders.info()\n",
    "print()\n",
    "df_orders_plot = df_orders.groupby('order_hour_of_day')['order_id'].count()#filtrado de DF a graficar\n",
    "print(df_orders_plot)#revision de datos\n",
    "df_orders_plot.plot(x='order_hour_of_day', figsize=[5, 5], kind='bar', xlim=[0,24])#grafica\n",
    "plt.show()"
   ]
  },
  {
   "cell_type": "markdown",
   "id": "11270eed",
   "metadata": {
    "id": "11270eed"
   },
   "source": [
    "Escribe aquí tus conclusiones\n",
    "\n",
    "<div class=\"alert alert-block alert-info\">\n",
    "<b>Respuesta del estudiante.</b> <a class=\"tocSkip\"></a>\n",
    "\n",
    "La mayor cantidad de pedidos se realizan entre las 8 y 18 horas."
   ]
  },
  {
   "cell_type": "markdown",
   "id": "53e3178c",
   "metadata": {},
   "source": [
    " <div class=\"alert alert-block alert-success\">\n",
    "\n",
    "<b>Comentario del revisor</b> <a class=\"tocSkip\"></a>\n",
    "\n",
    "Muy buen grafico.</div>   "
   ]
  },
  {
   "cell_type": "markdown",
   "id": "documented-command",
   "metadata": {
    "id": "documented-command"
   },
   "source": [
    "### [A3] ¿Qué día de la semana compran víveres las personas?"
   ]
  },
  {
   "cell_type": "code",
   "execution_count": 38,
   "id": "chief-digit",
   "metadata": {
    "id": "chief-digit"
   },
   "outputs": [
    {
     "name": "stdout",
     "output_type": "stream",
     "text": [
      "<class 'pandas.core.frame.DataFrame'>\n",
      "Int64Index: 478952 entries, 0 to 478966\n",
      "Data columns (total 6 columns):\n",
      " #   Column                  Non-Null Count   Dtype  \n",
      "---  ------                  --------------   -----  \n",
      " 0   order_id                478952 non-null  int64  \n",
      " 1   user_id                 478952 non-null  int64  \n",
      " 2   order_number            478952 non-null  int64  \n",
      " 3   order_dow               478952 non-null  int64  \n",
      " 4   order_hour_of_day       478952 non-null  int64  \n",
      " 5   days_since_prior_order  450135 non-null  float64\n",
      "dtypes: float64(1), int64(5)\n",
      "memory usage: 25.6 MB\n",
      "\n",
      "order_dow\n",
      "0    84090\n",
      "1    82185\n",
      "2    65833\n",
      "3    60897\n",
      "4    59810\n",
      "5    63488\n",
      "6    62649\n",
      "Name: order_id, dtype: int64\n"
     ]
    },
    {
     "data": {
      "image/png": "[encoded data removed]",
      "text/plain": [
       "<Figure size 500x500 with 1 Axes>"
      ]
     },
     "metadata": {},
     "output_type": "display_data"
    }
   ],
   "source": [
    "df_orders.info()\n",
    "print()\n",
    "df_orders_plot2 = df_orders.groupby('order_dow')['order_id'].count()#filtrado de DF a graficar\n",
    "print(df_orders_plot2)#revision de datos\n",
    "df_orders_plot2.plot(x='order_dow', figsize=[5, 5], kind='bar', xlim=[0,6])#grafica\n",
    "plt.show()"
   ]
  },
  {
   "cell_type": "markdown",
   "id": "dominant-lightning",
   "metadata": {
    "id": "dominant-lightning"
   },
   "source": [
    "Escribe aquí tus conclusiones\n",
    "\n",
    "<div class=\"alert alert-block alert-info\">\n",
    "<b>Respuesta del estudiante.</b> <a class=\"tocSkip\"></a>\n",
    "\n",
    "Se visualiza un mayor numero de pedidos en domingo y lunes. El resto de los dias el volumen es similar."
   ]
  },
  {
   "cell_type": "markdown",
   "id": "0271832b",
   "metadata": {},
   "source": [
    " <div class=\"alert alert-block alert-success\">\n",
    "\n",
    "<b>Comentario del revisor</b> <a class=\"tocSkip\"></a>\n",
    "\n",
    "Perfecto.</div>   "
   ]
  },
  {
   "cell_type": "markdown",
   "id": "cutting-concert",
   "metadata": {
    "id": "cutting-concert"
   },
   "source": [
    "### [A4] ¿Cuánto tiempo esperan las personas hasta hacer otro pedido? Comenta sobre los valores mínimos y máximos."
   ]
  },
  {
   "cell_type": "code",
   "execution_count": 39,
   "id": "c231f523",
   "metadata": {
    "id": "c231f523"
   },
   "outputs": [
    {
     "name": "stdout",
     "output_type": "stream",
     "text": [
      "<class 'pandas.core.frame.DataFrame'>\n",
      "Int64Index: 478952 entries, 0 to 478966\n",
      "Data columns (total 6 columns):\n",
      " #   Column                  Non-Null Count   Dtype  \n",
      "---  ------                  --------------   -----  \n",
      " 0   order_id                478952 non-null  int64  \n",
      " 1   user_id                 478952 non-null  int64  \n",
      " 2   order_number            478952 non-null  int64  \n",
      " 3   order_dow               478952 non-null  int64  \n",
      " 4   order_hour_of_day       478952 non-null  int64  \n",
      " 5   days_since_prior_order  450135 non-null  float64\n",
      "dtypes: float64(1), int64(5)\n",
      "memory usage: 25.6 MB\n",
      "\n",
      "days_since_prior_order\n",
      "0.0      9589\n",
      "1.0     20179\n",
      "2.0     27138\n",
      "3.0     30224\n",
      "4.0     31006\n",
      "5.0     30096\n",
      "6.0     33930\n",
      "7.0     44577\n",
      "8.0     25361\n",
      "9.0     16753\n",
      "10.0    13309\n",
      "11.0    11467\n",
      "12.0    10658\n",
      "13.0    11737\n",
      "14.0    13992\n",
      "15.0     9416\n",
      "16.0     6587\n",
      "17.0     5498\n",
      "18.0     4971\n",
      "19.0     4939\n",
      "20.0     5302\n",
      "21.0     6448\n",
      "22.0     4514\n",
      "23.0     3337\n",
      "24.0     3015\n",
      "25.0     2711\n",
      "26.0     2640\n",
      "27.0     2986\n",
      "28.0     3745\n",
      "29.0     2673\n",
      "30.0    51337\n",
      "Name: order_id, dtype: int64\n"
     ]
    },
    {
     "data": {
      "image/png": "[encoded data removed]",
      "text/plain": [
       "<Figure size 500x500 with 1 Axes>"
      ]
     },
     "metadata": {},
     "output_type": "display_data"
    }
   ],
   "source": [
    "df_orders.info()\n",
    "print()\n",
    "df_orders_plot3 = df_orders.groupby('days_since_prior_order')['order_id'].count()#filtrado de DF a graficar\n",
    "print(df_orders_plot3)#revision de datos\n",
    "df_orders_plot3.plot(x='days_since_prior_orde', figsize=[5, 5], kind='bar', xlim=[0,30])#grafica\n",
    "plt.show()"
   ]
  },
  {
   "cell_type": "markdown",
   "id": "discrete-vertex",
   "metadata": {
    "id": "discrete-vertex"
   },
   "source": [
    "Escribe aquí tus conclusiones\n",
    "\n",
    "<div class=\"alert alert-block alert-info\">\n",
    "<b>Respuesta del estudiante.</b> <a class=\"tocSkip\"></a>\n",
    "\n",
    "Hay grupos significativos de clientes mayores a 10k que tardan entre 1 a 14 dias, el resto de dias son grupos menores a 10k, excepto 30 dias, que seguramente son clientes que solo compraron una vez. "
   ]
  },
  {
   "cell_type": "markdown",
   "id": "2c371906",
   "metadata": {},
   "source": [
    "<div class=\"alert alert-block alert-warning\">\n",
    "<b>Comentario del revisor</b> <a class=\"tocSkip\"></a>\n",
    "\n",
    "¿Los dias entre pedidos que tienen 0 a que corresponderia?\n",
    "\n",
    "¿Porque crees la razon en que estan concentrados los mayores datos en que se piden cada siete dias? .\n",
    "\n",
    "Responder este tipo de preguntas robustecen nuestro proyecto y le dan valor a nuestro rol de analista.</div>\n",
    "\n",
    "<div class=\"alert alert-block alert-success\">\n",
    "\n",
    "<b>Comentario del revisor #2</b> <a class=\"tocSkip\"></a>\n",
    "\n",
    "Corregido, muy bien.</div>"
   ]
  },
  {
   "cell_type": "markdown",
   "id": "aa82caef",
   "metadata": {},
   "source": [
    "<div class=\"alert alert-block alert-info\">\n",
    "<b>Respuesta del estudiante.</b> <a class=\"tocSkip\"></a>\n",
    "\n",
    "Considero que los pedidos correspondientes a 0 es debido a que realizaron mas de un pedido el mismo dia, probablemente debido a que al momento de cerrar la orden olvidaron algo y volvieron a generar un nuevo pedido.\n",
    "    \n",
    "La concentracion de los mayores datos en siete dias podria ser ya que como gran parte de las personas, realizan su super una vez a la semana. Pueden ser clientes recurrentes semanalmente."
   ]
  },
  {
   "cell_type": "markdown",
   "id": "tight-staff",
   "metadata": {
    "id": "tight-staff"
   },
   "source": [
    "# [B] Intermedio (deben completarse todos para aprobar)\n",
    "\n",
    "1. ¿Existe alguna diferencia entre las distribuciones `'order_hour_of_day'` de los miércoles y los sábados? Traza gráficos de barra de `'order_hour_of_day'` para ambos días en la misma figura y describe las diferencias que observes.\n",
    "2. Grafica la distribución para el número de órdenes que hacen los clientes (es decir, cuántos clientes hicieron solo 1 pedido, cuántos hicieron 2, cuántos 3, y así sucesivamente...).\n",
    "3. ¿Cuáles son los 20 principales productos que se piden con más frecuencia (muestra su identificación y nombre)?"
   ]
  },
  {
   "cell_type": "markdown",
   "id": "packed-classic",
   "metadata": {
    "id": "packed-classic"
   },
   "source": [
    "### [B1] Diferencia entre miércoles y sábados para  `'order_hour_of_day'`. Traza gráficos de barra para los dos días y describe las diferencias que veas."
   ]
  },
  {
   "cell_type": "code",
   "execution_count": 40,
   "id": "d89b8403",
   "metadata": {
    "id": "d89b8403",
    "scrolled": false
   },
   "outputs": [
    {
     "name": "stdout",
     "output_type": "stream",
     "text": [
      "<class 'pandas.core.frame.DataFrame'>\n",
      "Int64Index: 478952 entries, 0 to 478966\n",
      "Data columns (total 6 columns):\n",
      " #   Column                  Non-Null Count   Dtype  \n",
      "---  ------                  --------------   -----  \n",
      " 0   order_id                478952 non-null  int64  \n",
      " 1   user_id                 478952 non-null  int64  \n",
      " 2   order_number            478952 non-null  int64  \n",
      " 3   order_dow               478952 non-null  int64  \n",
      " 4   order_hour_of_day       478952 non-null  int64  \n",
      " 5   days_since_prior_order  450135 non-null  float64\n",
      "dtypes: float64(1), int64(5)\n",
      "memory usage: 25.6 MB\n",
      "\n",
      "\n",
      "order_hour_of_day\n",
      "0      373\n",
      "1      215\n",
      "2      106\n",
      "3      101\n",
      "4      108\n",
      "5      170\n",
      "6      643\n",
      "7     1732\n",
      "8     3125\n",
      "9     4490\n",
      "10    5026\n",
      "11    5004\n",
      "12    4688\n",
      "13    4674\n",
      "14    4774\n",
      "15    5163\n",
      "16    4976\n",
      "17    4175\n",
      "18    3463\n",
      "19    2652\n",
      "20    1917\n",
      "21    1450\n",
      "22    1154\n",
      "23     718\n",
      "Name: order_id, dtype: int64\n",
      "\n",
      "order_hour_of_day\n",
      "0      464\n",
      "1      254\n",
      "2      177\n",
      "3      125\n",
      "4      118\n",
      "5      161\n",
      "6      451\n",
      "7     1619\n",
      "8     3246\n",
      "9     4311\n",
      "10    4919\n",
      "11    5116\n",
      "12    5132\n",
      "13    5323\n",
      "14    5375\n",
      "15    5188\n",
      "16    5029\n",
      "17    4295\n",
      "18    3338\n",
      "19    2610\n",
      "20    1847\n",
      "21    1473\n",
      "22    1185\n",
      "23     893\n",
      "Name: order_id, dtype: int64\n",
      "\n",
      "                   Wednesday  Saturday\n",
      "order_hour_of_day                     \n",
      "0                        373       464\n",
      "1                        215       254\n",
      "2                        106       177\n",
      "3                        101       125\n",
      "4                        108       118\n",
      "5                        170       161\n",
      "6                        643       451\n",
      "7                       1732      1619\n",
      "8                       3125      3246\n",
      "9                       4490      4311\n",
      "10                      5026      4919\n",
      "11                      5004      5116\n",
      "12                      4688      5132\n",
      "13                      4674      5323\n",
      "14                      4774      5375\n",
      "15                      5163      5188\n",
      "16                      4976      5029\n",
      "17                      4175      4295\n",
      "18                      3463      3338\n",
      "19                      2652      2610\n",
      "20                      1917      1847\n",
      "21                      1450      1473\n",
      "22                      1154      1185\n",
      "23                       718       893\n"
     ]
    },
    {
     "data": {
      "image/png": "[encoded data removed]",
      "text/plain": [
       "<Figure size 500x500 with 1 Axes>"
      ]
     },
     "metadata": {},
     "output_type": "display_data"
    }
   ],
   "source": [
    "df_orders.info()# verificacion de la info original\n",
    "print()\n",
    "df_orders_wed = df_orders[df_orders['order_dow'] == 3]#filtrado de DF para datos en miercoles\n",
    "df_orders_wed1 = df_orders_wed.groupby('order_hour_of_day')['order_id'].count()#agrupacion por horas del dia\n",
    "print()\n",
    "df_orders_sat = df_orders[df_orders['order_dow'] == 6]#filtrado de DF para datos en sabado\n",
    "df_orders_sat1 = df_orders_sat.groupby('order_hour_of_day')['order_id'].count()#agrupacion por horas del dia\n",
    "print(df_orders_wed1)#revision de datos\n",
    "print()\n",
    "print(df_orders_sat1)#revision de datos\n",
    "print()\n",
    "df_concat = pd.concat([df_orders_wed1, df_orders_sat1], axis=1)#concatenado de ambos DFs con los mismos indices\n",
    "df_concat.columns = ['Wednesday', 'Saturday']#cambio de nombre de columnas\n",
    "print(df_concat)#revision de datos\n",
    "df_concat.plot(figsize=[5, 5], kind='bar', xlim=[0,23])#grafica\n",
    "plt.show()"
   ]
  },
  {
   "cell_type": "markdown",
   "id": "ea6b57c4",
   "metadata": {
    "id": "35bcea30"
   },
   "source": [
    "<div class=\"alert alert-block alert-success\">\n",
    "<b>Comentario del revisor</b> <a class=\"tocSkip\"></a>\n",
    "\n",
    "Excelente grafico, muy claro al unir ambos datos.\n",
    "\n",
    "\n",
    "</div>"
   ]
  },
  {
   "cell_type": "markdown",
   "id": "charitable-congo",
   "metadata": {
    "id": "charitable-congo"
   },
   "source": [
    "Escribe aquí tus conclusiones\n",
    "\n",
    "<div class=\"alert alert-block alert-info\">\n",
    "<b>Respuesta del estudiante.</b> <a class=\"tocSkip\"></a>\n",
    "\n",
    "Entre las 12 y 14 horas hay una diferencia significativa de pedidos con mayor volumen en sabado que en miercoles. En el resto del dia los valores son muy similares. "
   ]
  },
  {
   "cell_type": "markdown",
   "id": "e3891143",
   "metadata": {
    "id": "e3891143"
   },
   "source": [
    "### [B2] ¿Cuál es la distribución para el número de pedidos por cliente?"
   ]
  },
  {
   "cell_type": "code",
   "execution_count": 41,
   "id": "d8c26c23",
   "metadata": {
    "id": "d8c26c23"
   },
   "outputs": [
    {
     "name": "stdout",
     "output_type": "stream",
     "text": [
      "<class 'pandas.core.frame.DataFrame'>\n",
      "Int64Index: 478952 entries, 0 to 478966\n",
      "Data columns (total 6 columns):\n",
      " #   Column                  Non-Null Count   Dtype  \n",
      "---  ------                  --------------   -----  \n",
      " 0   order_id                478952 non-null  int64  \n",
      " 1   user_id                 478952 non-null  int64  \n",
      " 2   order_number            478952 non-null  int64  \n",
      " 3   order_dow               478952 non-null  int64  \n",
      " 4   order_hour_of_day       478952 non-null  int64  \n",
      " 5   days_since_prior_order  450135 non-null  float64\n",
      "dtypes: float64(1), int64(5)\n",
      "memory usage: 25.6 MB\n",
      "\n",
      "        order_id  user_id  order_number  order_dow  order_hour_of_day  \\\n",
      "462858   2185726    40078            17          3                 12   \n",
      "180521   2024380   119515            92          1                 15   \n",
      "81129    3146435   114260             6          0                 14   \n",
      "29365    2855123    35876             3          3                 16   \n",
      "302484    827100   129294             6          6                 22   \n",
      "\n",
      "        days_since_prior_order  \n",
      "462858                     9.0  \n",
      "180521                     3.0  \n",
      "81129                      7.0  \n",
      "29365                      1.0  \n",
      "302484                    21.0  \n",
      "\n",
      "1 100\n",
      "\n",
      "              user_id\n",
      "order_number         \n",
      "1               28817\n",
      "2               28633\n",
      "3               28685\n",
      "4               28703\n",
      "5               25661\n",
      "...               ...\n",
      "96                220\n",
      "97                221\n",
      "98                191\n",
      "99                169\n",
      "100               194\n",
      "\n",
      "[100 rows x 1 columns]\n"
     ]
    },
    {
     "data": {
      "image/png": "[encoded data removed]",
      "text/plain": [
       "<Figure size 1500x500 with 1 Axes>"
      ]
     },
     "metadata": {},
     "output_type": "display_data"
    }
   ],
   "source": [
    "df_orders.info()#verificacion de la info original\n",
    "print()\n",
    "print(df_orders.sample(5))#verificacion de la info original\n",
    "print()\n",
    "print(df_orders['order_number'].min(), df_orders['order_number'].max())#identificacion de valor min y max de 'order_number'\n",
    "print()\n",
    "df_order_distribution = df_orders.pivot_table(index = 'order_number', values = 'user_id', aggfunc = 'count')#pivot de distribucion de ordenes\n",
    "print(df_order_distribution)#validacion de pivot\n",
    "df_order_distribution.plot(figsize=[15, 5], kind='bar')#grafica\n",
    "plt.show()"
   ]
  },
  {
   "cell_type": "markdown",
   "id": "9be5de68",
   "metadata": {
    "id": "00e69a66"
   },
   "source": [
    "<div class=\"alert alert-block alert-success\">\n",
    "<b>Comentario del revisor</b> <a class=\"tocSkip\"></a>\n",
    "\n",
    "Muy bien.\n",
    "\n",
    "</div>"
   ]
  },
  {
   "cell_type": "markdown",
   "id": "d2eff7d5",
   "metadata": {
    "id": "d2eff7d5"
   },
   "source": [
    "Escribe aquí tus conclusiones\n",
    "\n",
    "<div class=\"alert alert-block alert-info\">\n",
    "<b>Respuesta del estudiante.</b> <a class=\"tocSkip\"></a>\n",
    "    \n",
    "La grafica muestra un decrecimiento de cantidad de pedidos significativa a partir del 4o pedido. A partir del pedido 15 el grupo de clientes disminuye a menos de 10k."
   ]
  },
  {
   "cell_type": "markdown",
   "id": "54a0319c",
   "metadata": {
    "id": "54a0319c"
   },
   "source": [
    "### [B3] ¿Cuáles son los 20 productos más populares (muestra su ID y nombre)?"
   ]
  },
  {
   "cell_type": "code",
   "execution_count": 42,
   "id": "exterior-arizona",
   "metadata": {
    "id": "exterior-arizona",
    "scrolled": false
   },
   "outputs": [
    {
     "name": "stdout",
     "output_type": "stream",
     "text": [
      "<class 'pandas.core.frame.DataFrame'>\n",
      "RangeIndex: 4545007 entries, 0 to 4545006\n",
      "Data columns (total 4 columns):\n",
      " #   Column             Dtype\n",
      "---  ------             -----\n",
      " 0   order_id           int64\n",
      " 1   product_id         int64\n",
      " 2   add_to_cart_order  int64\n",
      " 3   reordered          int64\n",
      "dtypes: int64(4)\n",
      "memory usage: 138.7 MB\n",
      "\n",
      "         order_id  product_id  add_to_cart_order  reordered\n",
      "2674510    503777       48666                 26          0\n",
      "2563813    134727       35124                  6          1\n",
      "935215    3243814       42768                  9          1\n",
      "1795890   1922870       21367                  4          1\n",
      "995688    2408800        9018                  6          1\n",
      "\n",
      "45573\n",
      "\n",
      "            order_id\n",
      "product_id          \n",
      "1                280\n",
      "2                 11\n",
      "3                 42\n",
      "4                 49\n",
      "7                  2\n",
      "...              ...\n",
      "49690              5\n",
      "49691             72\n",
      "49692             12\n",
      "49693             25\n",
      "49694              9\n",
      "\n",
      "[45573 rows x 1 columns]\n"
     ]
    }
   ],
   "source": [
    "df_order_products.info()#verificacion de la info original\n",
    "print()\n",
    "print(df_order_products.sample(5))#verificacion de la info original\n",
    "print()\n",
    "print(df_order_products['product_id'].nunique())#confirmacion de valores unicos para 'product_id'\n",
    "print()\n",
    "df_order_products_id = df_order_products.pivot_table(index = 'product_id', values = 'order_id', aggfunc = 'count')#pivot de cantidad de comprar por producto\n",
    "print(df_order_products_id)#validacion de pivot"
   ]
  },
  {
   "cell_type": "code",
   "execution_count": 43,
   "id": "universal-facial",
   "metadata": {
    "id": "universal-facial"
   },
   "outputs": [
    {
     "name": "stdout",
     "output_type": "stream",
     "text": [
      "<class 'pandas.core.frame.DataFrame'>\n",
      "RangeIndex: 49694 entries, 0 to 49693\n",
      "Data columns (total 4 columns):\n",
      " #   Column         Non-Null Count  Dtype \n",
      "---  ------         --------------  ----- \n",
      " 0   product_id     49694 non-null  int64 \n",
      " 1   product_name   49694 non-null  object\n",
      " 2   aisle_id       49694 non-null  int64 \n",
      " 3   department_id  49694 non-null  int64 \n",
      "dtypes: int64(3), object(1)\n",
      "memory usage: 1.5+ MB\n",
      "\n",
      "       product_id                                    product_name  aisle_id  \\\n",
      "2409         2410           ORIGINAL SCENT LIQUID FABRIC SOFTENER        75   \n",
      "33574       33575  DAIRY FREE FRENCH VANILLA COCONUT MILK CREAMER        91   \n",
      "30289       30290                 100% RECYCLED BATH TISSUE ROLLS        54   \n",
      "46140       46141                            ITALIAN PORK SAUSAGE       106   \n",
      "669           670                          COCONUT DRINK- VANILLA        91   \n",
      "\n",
      "       department_id  \n",
      "2409              17  \n",
      "33574             16  \n",
      "30289             17  \n",
      "46140             12  \n",
      "669               16  \n",
      "\n",
      "                                                 product_name\n",
      "product_id                                                   \n",
      "1                                  CHOCOLATE SANDWICH COOKIES\n",
      "2                                            ALL-SEASONS SALT\n",
      "3                        ROBUST GOLDEN UNSWEETENED OOLONG TEA\n",
      "4           SMART ONES CLASSIC FAVORITES MINI RIGATONI WIT...\n",
      "5                                   GREEN CHILE ANYTIME SAUCE\n",
      "...                                                       ...\n",
      "49690                           HIGH PERFORMANCE ENERGY DRINK\n",
      "49691                           ORIGINAL PANCAKE & WAFFLE MIX\n",
      "49692         ORGANIC INSTANT OATMEAL LIGHT MAPLE BROWN SUGAR\n",
      "49693                                  SPRING WATER BODY WASH\n",
      "49694                                 BURRITO- STEAK & CHEESE\n",
      "\n",
      "[49694 rows x 1 columns]\n"
     ]
    }
   ],
   "source": [
    "df_products.info()#verificacion de la info original\n",
    "print()\n",
    "print(df_products.sample(5))#verificacion de la info original\n",
    "print()\n",
    "cols = ['product_id', 'product_name']#delimitacion de columnas a utilizar\n",
    "df_products_cols = df_products[cols].set_index('product_id')#seteo de 'product_id' como index\n",
    "print(df_products_cols)#validacion de DF"
   ]
  },
  {
   "cell_type": "code",
   "execution_count": 61,
   "id": "bbcdd20b",
   "metadata": {
    "id": "bbcdd20b"
   },
   "outputs": [
    {
     "name": "stdout",
     "output_type": "stream",
     "text": [
      "            order_id                                       product_name\n",
      "product_id                                                             \n",
      "1                280                         CHOCOLATE SANDWICH COOKIES\n",
      "2                 11                                   ALL-SEASONS SALT\n",
      "3                 42               ROBUST GOLDEN UNSWEETENED OOLONG TEA\n",
      "4                 49  SMART ONES CLASSIC FAVORITES MINI RIGATONI WIT...\n",
      "7                  2                     PURE COCONUT WATER WITH ORANGE\n",
      "...              ...                                                ...\n",
      "49690              5                      HIGH PERFORMANCE ENERGY DRINK\n",
      "49691             72                      ORIGINAL PANCAKE & WAFFLE MIX\n",
      "49692             12    ORGANIC INSTANT OATMEAL LIGHT MAPLE BROWN SUGAR\n",
      "49693             25                             SPRING WATER BODY WASH\n",
      "49694              9                            BURRITO- STEAK & CHEESE\n",
      "\n",
      "[45573 rows x 2 columns]\n",
      "\n",
      "            order_id                                       product_name\n",
      "product_id                                                             \n",
      "24852          66050                                             BANANA\n",
      "13176          53297                             BAG OF ORGANIC BANANAS\n",
      "21137          37039                               ORGANIC STRAWBERRIES\n",
      "21903          33971                               ORGANIC BABY SPINACH\n",
      "47209          29773                               ORGANIC HASS AVOCADO\n",
      "...              ...                                                ...\n",
      "5836               1                       ARCTIC D COD LIVER OIL LEMON\n",
      "43573              1                                     WHISK- 10 INCH\n",
      "43570              1                                       QUESO COTIJA\n",
      "36174              1                                  WHOLE PINTO BEANS\n",
      "41403              1  EXTRA RICH & THICK SPAGHETTI SAUCE SPICES & SE...\n",
      "\n",
      "[45573 rows x 2 columns]\n",
      "\n",
      "            order_id              product_name\n",
      "product_id                                    \n",
      "24852          66050                    BANANA\n",
      "13176          53297    BAG OF ORGANIC BANANAS\n",
      "21137          37039      ORGANIC STRAWBERRIES\n",
      "21903          33971      ORGANIC BABY SPINACH\n",
      "47209          29773      ORGANIC HASS AVOCADO\n",
      "47766          24689           ORGANIC AVOCADO\n",
      "47626          21495               LARGE LEMON\n",
      "16797          20018              STRAWBERRIES\n",
      "26209          19690                     LIMES\n",
      "27845          19600        ORGANIC WHOLE MILK\n",
      "27966          19197       ORGANIC RASPBERRIES\n",
      "22935          15898      ORGANIC YELLOW ONION\n",
      "24964          15292            ORGANIC GARLIC\n",
      "45007          14584          ORGANIC ZUCCHINI\n",
      "39275          13879       ORGANIC BLUEBERRIES\n",
      "49683          13675            CUCUMBER KIRBY\n",
      "28204          12544        ORGANIC FUJI APPLE\n",
      "5876           12232             ORGANIC LEMON\n",
      "8277           11993  APPLE HONEYCRISP ORGANIC\n",
      "40706          11781    ORGANIC GRAPE TOMATOES\n"
     ]
    },
    {
     "data": {
      "image/png": "[encoded data removed]",
      "text/plain": [
       "<Figure size 1500x500 with 1 Axes>"
      ]
     },
     "metadata": {},
     "output_type": "display_data"
    }
   ],
   "source": [
    "df_order_products_merged = df_order_products_id.merge(df_products_cols, on = 'product_id', how = 'left')#merge izquierdo de DFs por su indice\n",
    "print(df_order_products_merged)#validacion de merge\n",
    "print()\n",
    "df_order_products_top = df_order_products_merged.sort_values(by='order_id', ascending=False)#ordenamiento descendiente por volumen de ventas\n",
    "print(df_order_products_top)#validacion de ordenamiento\n",
    "print()\n",
    "df_order_products_top20 = df_order_products_top.iloc[0:20,0:2]#extraccion de top 20\n",
    "print(df_order_products_top20)\n",
    "df_order_products_top20.plot(figsize=[15, 5], kind='bar', x='product_name', rot=90)#grafica\n",
    "plt.show()"
   ]
  },
  {
   "cell_type": "markdown",
   "id": "b4e98c49",
   "metadata": {},
   "source": [
    "<div class=\"alert alert-block alert-warning\">\n",
    "<b>Comentario del revisor</b> <a class=\"tocSkip\"></a>\n",
    "\n",
    "Recorda que en este caso le agregaria valor graficar ese top 20 con un grafico de barras. Tener a mano el grafico hara mas amena y legible la experiencia del cliente.</div>\n",
    "\n",
    "\n",
    "<div class=\"alert alert-block alert-success\">\n",
    "\n",
    "<b>Comentario del revisor #2</b> <a class=\"tocSkip\"></a>\n",
    "\n",
    "Corregido, buen grafico.</div>"
   ]
  },
  {
   "cell_type": "markdown",
   "id": "1a437d3e",
   "metadata": {},
   "source": [
    "<div class=\"alert alert-block alert-info\">\n",
    "<b>Respuesta del estudiante.</b> <a class=\"tocSkip\"></a>\n",
    "    \n",
    "De acuerdo, gracias por la observacion, se genera grafico."
   ]
  },
  {
   "cell_type": "markdown",
   "id": "7df00f47",
   "metadata": {
    "id": "7df00f47"
   },
   "source": [
    "Escribe aquí tus conclusiones\n",
    "\n",
    "<div class=\"alert alert-block alert-info\">\n",
    "<b>Respuesta del estudiante.</b> <a class=\"tocSkip\"></a>\n",
    "\n",
    "Se visualiza que el top 20 de productos mas adquiridos son frutas y verduras, destacando en su gran mayoria productos organicos."
   ]
  },
  {
   "cell_type": "markdown",
   "id": "gross-theme",
   "metadata": {
    "id": "gross-theme"
   },
   "source": [
    "# [C] Difícil (deben completarse todos para aprobar)\n",
    "\n",
    "1. ¿Cuántos artículos suelen comprar las personas en un pedido? ¿Cómo es la distribución?\n",
    "2. ¿Cuáles son los 20 principales artículos que vuelven a pedirse con mayor frecuencia (muestra sus nombres e IDs de los productos)?\n",
    "3. Para cada producto, ¿cuál es la tasa de repetición del pedido (número de repeticiones de pedido/total de pedidos?\n",
    "4. Para cada cliente, ¿qué proporción de los productos que pidió ya los había pedido? Calcula la tasa de repetición de pedido para cada usuario en lugar de para cada producto.\n",
    "5. ¿Cuáles son los 20 principales artículos que la gente pone primero en sus carritos (muestra las IDs de los productos, sus nombres, y el número de veces en que fueron el primer artículo en añadirse al carrito)?"
   ]
  },
  {
   "cell_type": "markdown",
   "id": "romantic-deposit",
   "metadata": {
    "id": "romantic-deposit"
   },
   "source": [
    "### [C1] ¿Cuántos artículos compran normalmente las personas en un pedido? ¿Cómo es la distribución?"
   ]
  },
  {
   "cell_type": "code",
   "execution_count": 45,
   "id": "virtual-punch",
   "metadata": {
    "id": "virtual-punch"
   },
   "outputs": [
    {
     "name": "stdout",
     "output_type": "stream",
     "text": [
      "         order_id  product_id  add_to_cart_order  reordered\n",
      "0         2141543       11440                 17          0\n",
      "1          567889        1560                  1          1\n",
      "2         2261212       26683                  1          1\n",
      "3          491251        8670                 35          1\n",
      "4         2571142        1940                  5          1\n",
      "...           ...         ...                ...        ...\n",
      "4545002    577211       15290                 12          1\n",
      "4545003   1219554       21914                  9          0\n",
      "4545004    692640       47766                  4          1\n",
      "4545005    319435         691                  8          1\n",
      "4545006   1398151       28733                  9          0\n",
      "\n",
      "[4545007 rows x 4 columns]\n",
      "\n",
      "          product_id\n",
      "order_id            \n",
      "4                 13\n",
      "9                 15\n",
      "11                 5\n",
      "19                 3\n",
      "20                 8\n",
      "...              ...\n",
      "3421034           17\n",
      "3421053            9\n",
      "3421071            5\n",
      "3421077            4\n",
      "3421079            1\n",
      "\n",
      "[450046 rows x 1 columns]\n",
      "\n",
      "5      31923\n",
      "6      31698\n",
      "4      31054\n",
      "7      30822\n",
      "3      29046\n",
      "       ...  \n",
      "80         1\n",
      "87         1\n",
      "85         1\n",
      "72         1\n",
      "127        1\n",
      "Name: product_id, Length: 90, dtype: int64\n"
     ]
    }
   ],
   "source": [
    "print(df_order_products)#validacion del DF original\n",
    "print()\n",
    "df_order_products_pivot = df_order_products.pivot_table(index='order_id', values='product_id', aggfunc='count')#pivot de cantidad de productos por pedido\n",
    "print(df_order_products_pivot)#validacion de pivot\n",
    "print()\n",
    "df_order_products_distribution = df_order_products_pivot['product_id'].value_counts()#distribucion de cantidad de articulos por producto\n",
    "print(df_order_products_distribution)"
   ]
  },
  {
   "cell_type": "code",
   "execution_count": 46,
   "id": "sensitive-breathing",
   "metadata": {
    "id": "sensitive-breathing"
   },
   "outputs": [
    {
     "data": {
      "image/png": "[encoded data removed]",
      "text/plain": [
       "<Figure size 1500x500 with 1 Axes>"
      ]
     },
     "metadata": {},
     "output_type": "display_data"
    }
   ],
   "source": [
    "df_order_products_distribution.plot(figsize=[15, 5], kind='bar')#grafica\n",
    "plt.show()"
   ]
  },
  {
   "cell_type": "code",
   "execution_count": 69,
   "id": "13291ff4",
   "metadata": {},
   "outputs": [
    {
     "name": "stdout",
     "output_type": "stream",
     "text": [
      "5     31923\n",
      "6     31698\n",
      "4     31054\n",
      "7     30822\n",
      "3     29046\n",
      "8     28539\n",
      "2     26292\n",
      "9     25742\n",
      "10    23248\n",
      "1     21847\n",
      "11    20406\n",
      "12    18539\n",
      "13    16497\n",
      "14    14472\n",
      "15    12696\n",
      "16    11465\n",
      "17    10002\n",
      "18     8726\n",
      "19     7612\n",
      "20     6771\n",
      "21     5738\n",
      "22     5096\n",
      "23     4422\n",
      "24     3838\n",
      "25     3382\n",
      "26     2812\n",
      "27     2458\n",
      "28     2137\n",
      "29     1899\n",
      "30     1618\n",
      "31     1328\n",
      "32     1171\n",
      "33     1003\n",
      "34      845\n",
      "35      686\n",
      "36      587\n",
      "37      508\n",
      "38      475\n",
      "39      377\n",
      "40      335\n",
      "Name: product_id, dtype: int64\n"
     ]
    },
    {
     "data": {
      "image/png": "[encoded data removed]",
      "text/plain": [
       "<Figure size 1500x500 with 1 Axes>"
      ]
     },
     "metadata": {},
     "output_type": "display_data"
    }
   ],
   "source": [
    "df_order_products_distribution_top40 = df_order_products_distribution.iloc[0:40]#extraccion de top 40\n",
    "print(df_order_products_distribution_top40)\n",
    "df_order_products_distribution_top40.plot(figsize=[15, 5], kind='bar')#grafica\n",
    "plt.show()"
   ]
  },
  {
   "cell_type": "markdown",
   "id": "0e55fb57",
   "metadata": {
    "id": "completed-frank"
   },
   "source": [
    "<div class=\"alert alert-block alert-warning\">\n",
    "<b>Comentario del revisor</b> <a class=\"tocSkip\"></a>\n",
    "\n",
    "Esta perfecto el grafico, como consejo podrias graficar  (en otra celda) el top 30 o 40 para visualizar mejor los datos ya que a partir de alli practicamente no tenemos informacion.</div>\n",
    "\n",
    "\n",
    "<div class=\"alert alert-block alert-success\">\n",
    "\n",
    "<b>Comentario del revisor #2</b> <a class=\"tocSkip\"></a>\n",
    "\n",
    "Corregido, muy bien.</div>"
   ]
  },
  {
   "cell_type": "markdown",
   "id": "db01a728",
   "metadata": {},
   "source": [
    "<div class=\"alert alert-block alert-info\">\n",
    "<b>Respuesta del estudiante.</b> <a class=\"tocSkip\"></a>\n",
    "    \n",
    " Listo. Se genera grafico del top 40 para mejor visualizacion."
   ]
  },
  {
   "cell_type": "markdown",
   "id": "designed-mortality",
   "metadata": {
    "id": "designed-mortality"
   },
   "source": [
    "Escribe aquí tus conclusiones\n",
    "\n",
    "<div class=\"alert alert-block alert-info\">\n",
    "<b>Respuesta del estudiante.</b> <a class=\"tocSkip\"></a>\n",
    "\n",
    "Los 4 valores top de cantidad de productos por perdido oscila entre los 4 y 7. De ahi la distribucion decrece, teniendo arriba de 10k pedidos hasta la cantidad de 17 productos. A partir de ahi continua la disminucion significativamente."
   ]
  },
  {
   "cell_type": "markdown",
   "id": "5e6b5537",
   "metadata": {
    "id": "5e6b5537"
   },
   "source": [
    "### [C2] ¿Cuáles son los 20 principales artículos que vuelven a pedirse con mayor frecuencia (muestra sus nombres e IDs de los productos)?"
   ]
  },
  {
   "cell_type": "code",
   "execution_count": 47,
   "id": "9374e55a",
   "metadata": {
    "id": "9374e55a"
   },
   "outputs": [
    {
     "name": "stdout",
     "output_type": "stream",
     "text": [
      "<class 'pandas.core.frame.DataFrame'>\n",
      "RangeIndex: 4545007 entries, 0 to 4545006\n",
      "Data columns (total 4 columns):\n",
      " #   Column             Dtype\n",
      "---  ------             -----\n",
      " 0   order_id           int64\n",
      " 1   product_id         int64\n",
      " 2   add_to_cart_order  int64\n",
      " 3   reordered          int64\n",
      "dtypes: int64(4)\n",
      "memory usage: 138.7 MB\n",
      "\n",
      "         order_id  product_id  add_to_cart_order  reordered\n",
      "1442836   2357727       14992                  9          0\n",
      "3409600   3011205        7715                 13          1\n",
      "14529     2228904       23965                  7          1\n",
      "4310428   1654645       39921                  1          1\n",
      "3303397   2870762       24852                 15          1\n",
      "\n",
      "         order_id  product_id  add_to_cart_order  reordered\n",
      "1          567889        1560                  1          1\n",
      "2         2261212       26683                  1          1\n",
      "3          491251        8670                 35          1\n",
      "4         2571142        1940                  5          1\n",
      "5         2456893       21616                  4          1\n",
      "...           ...         ...                ...        ...\n",
      "4544999   1622300       24852                  1          1\n",
      "4545000   1125324       40600                  6          1\n",
      "4545002    577211       15290                 12          1\n",
      "4545004    692640       47766                  4          1\n",
      "4545005    319435         691                  8          1\n",
      "\n",
      "[2683838 rows x 4 columns]\n"
     ]
    }
   ],
   "source": [
    "df_order_products.info()#verificacion de la info original\n",
    "print()\n",
    "print(df_order_products.sample(5))#verificacion de la info original\n",
    "print()\n",
    "df_order_products_filtered = df_order_products[df_order_products['reordered'] == 1]#filtrado de DF con reordered igual a 1\n",
    "print(df_order_products_filtered)"
   ]
  },
  {
   "cell_type": "code",
   "execution_count": 48,
   "id": "possible-change",
   "metadata": {
    "id": "possible-change",
    "scrolled": true
   },
   "outputs": [
    {
     "name": "stdout",
     "output_type": "stream",
     "text": [
      "            order_id\n",
      "product_id          \n",
      "1                158\n",
      "3                 31\n",
      "4                 25\n",
      "7                  1\n",
      "8                  6\n",
      "...              ...\n",
      "49690              4\n",
      "49691             31\n",
      "49692              5\n",
      "49693             11\n",
      "49694              3\n",
      "\n",
      "[36228 rows x 1 columns]\n"
     ]
    }
   ],
   "source": [
    "df_order_products_pivot = df_order_products_filtered.pivot_table(index = 'product_id', values = 'order_id', aggfunc = 'count')#pivot de cantidad pedidos por 'product_id'\n",
    "print(df_order_products_pivot)#validacion de pivot"
   ]
  },
  {
   "cell_type": "code",
   "execution_count": 49,
   "id": "professional-surfing",
   "metadata": {
    "id": "professional-surfing",
    "scrolled": false
   },
   "outputs": [
    {
     "name": "stdout",
     "output_type": "stream",
     "text": [
      "<class 'pandas.core.frame.DataFrame'>\n",
      "RangeIndex: 49694 entries, 0 to 49693\n",
      "Data columns (total 4 columns):\n",
      " #   Column         Non-Null Count  Dtype \n",
      "---  ------         --------------  ----- \n",
      " 0   product_id     49694 non-null  int64 \n",
      " 1   product_name   49694 non-null  object\n",
      " 2   aisle_id       49694 non-null  int64 \n",
      " 3   department_id  49694 non-null  int64 \n",
      "dtypes: int64(3), object(1)\n",
      "memory usage: 1.5+ MB\n",
      "\n",
      "       product_id                                       product_name  \\\n",
      "39390       39391                                   PROSCIUTTO COTTO   \n",
      "32711       32712                             THE SMURFS GUMMI CANDY   \n",
      "9216         9217                 COLD BREW COFFEE WITH COCONUT MILK   \n",
      "28481       28482                     MACH3 TURBO MEN'S RAZOR BLADES   \n",
      "7038         7039  HE TURBO CLEAN PLUS BLEACH ALTERNATIVE LIQUID ...   \n",
      "\n",
      "       aisle_id  department_id  \n",
      "39390        96             20  \n",
      "32711        45             19  \n",
      "9216         26              7  \n",
      "28481        55             11  \n",
      "7038         75             17  \n",
      "\n",
      "                                                 product_name\n",
      "product_id                                                   \n",
      "1                                  CHOCOLATE SANDWICH COOKIES\n",
      "2                                            ALL-SEASONS SALT\n",
      "3                        ROBUST GOLDEN UNSWEETENED OOLONG TEA\n",
      "4           SMART ONES CLASSIC FAVORITES MINI RIGATONI WIT...\n",
      "5                                   GREEN CHILE ANYTIME SAUCE\n",
      "...                                                       ...\n",
      "49690                           HIGH PERFORMANCE ENERGY DRINK\n",
      "49691                           ORIGINAL PANCAKE & WAFFLE MIX\n",
      "49692         ORGANIC INSTANT OATMEAL LIGHT MAPLE BROWN SUGAR\n",
      "49693                                  SPRING WATER BODY WASH\n",
      "49694                                 BURRITO- STEAK & CHEESE\n",
      "\n",
      "[49694 rows x 1 columns]\n"
     ]
    }
   ],
   "source": [
    "df_products.info()#verificacion de la info original\n",
    "print()\n",
    "print(df_products.sample(5))#verificacion de la info original\n",
    "print()\n",
    "cols = ['product_id', 'product_name']#delimitacion de columnas a utilizar\n",
    "df_products_cols = df_products[cols].set_index('product_id')#seteo de 'product_id' como index\n",
    "print(df_products_cols)#validacion de DF"
   ]
  },
  {
   "cell_type": "code",
   "execution_count": 72,
   "id": "48dd3658",
   "metadata": {
    "id": "48dd3658"
   },
   "outputs": [
    {
     "name": "stdout",
     "output_type": "stream",
     "text": [
      "            order_id                                       product_name\n",
      "product_id                                                             \n",
      "1                158                         CHOCOLATE SANDWICH COOKIES\n",
      "3                 31               ROBUST GOLDEN UNSWEETENED OOLONG TEA\n",
      "4                 25  SMART ONES CLASSIC FAVORITES MINI RIGATONI WIT...\n",
      "7                  1                     PURE COCONUT WATER WITH ORANGE\n",
      "8                  6                  CUT RUSSET POTATOES STEAM N' MASH\n",
      "...              ...                                                ...\n",
      "49690              4                      HIGH PERFORMANCE ENERGY DRINK\n",
      "49691             31                      ORIGINAL PANCAKE & WAFFLE MIX\n",
      "49692              5    ORGANIC INSTANT OATMEAL LIGHT MAPLE BROWN SUGAR\n",
      "49693             11                             SPRING WATER BODY WASH\n",
      "49694              3                            BURRITO- STEAK & CHEESE\n",
      "\n",
      "[36228 rows x 2 columns]\n",
      "\n",
      "            order_id                                   product_name\n",
      "product_id                                                         \n",
      "24852          55763                                         BANANA\n",
      "13176          44450                         BAG OF ORGANIC BANANAS\n",
      "21137          28639                           ORGANIC STRAWBERRIES\n",
      "21903          26233                           ORGANIC BABY SPINACH\n",
      "47209          23629                           ORGANIC HASS AVOCADO\n",
      "...              ...                                            ...\n",
      "7092               1  MELATONIN NUTRASPRAY SUBLINGUAL ORANGE FLAVOR\n",
      "21003              1       WHITE CHOCOLATE MACADAMIA COFFEE CREAMER\n",
      "32856              1                                   CRAB RANGOON\n",
      "42727              1          CHOCOLATE LOVERS CHIPS DELUXE COOKIES\n",
      "24091              1                             GARLIC MILL SPICES\n",
      "\n",
      "[36228 rows x 2 columns]\n",
      "\n",
      "            order_id              product_name\n",
      "product_id                                    \n",
      "24852          55763                    BANANA\n",
      "13176          44450    BAG OF ORGANIC BANANAS\n",
      "21137          28639      ORGANIC STRAWBERRIES\n",
      "21903          26233      ORGANIC BABY SPINACH\n",
      "47209          23629      ORGANIC HASS AVOCADO\n",
      "47766          18743           ORGANIC AVOCADO\n",
      "27845          16251        ORGANIC WHOLE MILK\n",
      "47626          15044               LARGE LEMON\n",
      "27966          14748       ORGANIC RASPBERRIES\n",
      "16797          13945              STRAWBERRIES\n",
      "26209          13327                     LIMES\n",
      "22935          11145      ORGANIC YELLOW ONION\n",
      "24964          10411            ORGANIC GARLIC\n",
      "45007          10076          ORGANIC ZUCCHINI\n",
      "49683           9538            CUCUMBER KIRBY\n",
      "28204           8989        ORGANIC FUJI APPLE\n",
      "8277            8836  APPLE HONEYCRISP ORGANIC\n",
      "39275           8799       ORGANIC BLUEBERRIES\n",
      "5876            8412             ORGANIC LEMON\n",
      "49235           8389       ORGANIC HALF & HALF\n"
     ]
    }
   ],
   "source": [
    "df_order_products_merged1 = df_order_products_pivot.merge(df_products_cols, on = 'product_id', how = 'left')#merge izquierdo de DFs por su indice\n",
    "print(df_order_products_merged1)#validacion de merge\n",
    "print()\n",
    "df_order_products_sorted = df_order_products_merged1.sort_values(by='order_id', ascending=False)#ordenamiento descendiente por volumen de ventas\n",
    "print(df_order_products_sorted)#validacion de ordenamiento\n",
    "print()\n",
    "df_order_products_top20 = df_order_products_sorted.iloc[0:20,0:2]#extraccion de top 20\n",
    "print(df_order_products_top20)"
   ]
  },
  {
   "cell_type": "code",
   "execution_count": 73,
   "id": "d454e95f",
   "metadata": {},
   "outputs": [
    {
     "data": {
      "image/png": "[encoded data removed]",
      "text/plain": [
       "<Figure size 1500x500 with 1 Axes>"
      ]
     },
     "metadata": {},
     "output_type": "display_data"
    }
   ],
   "source": [
    "df_order_products_top20.plot(figsize=[15, 5], kind='bar', x='product_name', rot=90)#grafica\n",
    "plt.show()"
   ]
  },
  {
   "cell_type": "markdown",
   "id": "3bca3e64",
   "metadata": {},
   "source": [
    "<div class=\"alert alert-block alert-warning\">\n",
    "<b>Comentario del revisor</b> <a class=\"tocSkip\"></a>\n",
    "\n",
    "Recorda que en este caso le agregaria valor graficar ese top 20 con un grafico de barras. Tener a mano el grafico hara mas amena y legible la experiencia del cliente.</div>\n",
    "\n",
    "\n",
    "<div class=\"alert alert-block alert-success\">\n",
    "\n",
    "<b>Comentario del revisor #2</b> <a class=\"tocSkip\"></a>\n",
    "\n",
    "Corregido.</div>"
   ]
  },
  {
   "cell_type": "markdown",
   "id": "1334d3ee",
   "metadata": {},
   "source": [
    "<div class=\"alert alert-block alert-info\">\n",
    "<b>Respuesta del estudiante.</b> <a class=\"tocSkip\"></a>\n",
    "    \n",
    "Listo. Se genera grafico de barras con top 20."
   ]
  },
  {
   "cell_type": "markdown",
   "id": "80e70c74",
   "metadata": {
    "id": "80e70c74"
   },
   "source": [
    "Escribe aquí tus conclusiones\n",
    "\n",
    "<div class=\"alert alert-block alert-info\">\n",
    "<b>Respuesta del estudiante.</b> <a class=\"tocSkip\"></a>\n",
    "\n",
    "Los top 20 productos con recompra son muy parecidos con el top 20 productos pedidos, predominando las frutas y vegetales organicas."
   ]
  },
  {
   "cell_type": "markdown",
   "id": "9d312b14",
   "metadata": {
    "id": "9d312b14"
   },
   "source": [
    "### [C3] Para cada producto, ¿cuál es la proporción de las veces que se pide y que se vuelve a pedir?"
   ]
  },
  {
   "cell_type": "code",
   "execution_count": 51,
   "id": "8ae9f4b1",
   "metadata": {
    "id": "8ae9f4b1"
   },
   "outputs": [
    {
     "name": "stdout",
     "output_type": "stream",
     "text": [
      "         order_id  product_id  add_to_cart_order  reordered\n",
      "0         2141543       11440                 17          0\n",
      "1          567889        1560                  1          1\n",
      "2         2261212       26683                  1          1\n",
      "3          491251        8670                 35          1\n",
      "4         2571142        1940                  5          1\n",
      "...           ...         ...                ...        ...\n",
      "4545002    577211       15290                 12          1\n",
      "4545003   1219554       21914                  9          0\n",
      "4545004    692640       47766                  4          1\n",
      "4545005    319435         691                  8          1\n",
      "4545006   1398151       28733                  9          0\n",
      "\n",
      "[4545007 rows x 4 columns]\n",
      "\n",
      "product_id\n",
      "1        0.564286\n",
      "2        0.000000\n",
      "3        0.738095\n",
      "4        0.510204\n",
      "7        0.500000\n",
      "           ...   \n",
      "49690    0.800000\n",
      "49691    0.430556\n",
      "49692    0.416667\n",
      "49693    0.440000\n",
      "49694    0.333333\n",
      "Name: reordered, Length: 45573, dtype: float64\n"
     ]
    }
   ],
   "source": [
    "print(df_order_products)#validacion de DF original\n",
    "print()\n",
    "df_products_proportion = df_order_products.groupby('product_id')['reordered'].mean()#proporcion de productos vueltos a pedir\n",
    "print(df_products_proportion)"
   ]
  },
  {
   "cell_type": "markdown",
   "id": "d1214c19",
   "metadata": {
    "id": "social-individual"
   },
   "source": [
    "<div class=\"alert alert-block alert-success\">\n",
    "<b>Comentario del revisor</b> <a class=\"tocSkip\"></a>\n",
    "\n",
    "Excelente extraccion.</div>"
   ]
  },
  {
   "cell_type": "markdown",
   "id": "I10dEIAyldcO",
   "metadata": {
    "id": "I10dEIAyldcO"
   },
   "source": [
    "Escribe aquí tus conclusiones\n",
    "\n",
    "<div class=\"alert alert-block alert-info\">\n",
    "<b>Respuesta del estudiante.</b> <a class=\"tocSkip\"></a>\n",
    "\n",
    "Se muestra la proporcion de recompra de todos los productos."
   ]
  },
  {
   "cell_type": "markdown",
   "id": "subject-boxing",
   "metadata": {
    "id": "subject-boxing"
   },
   "source": [
    "### [C4] Para cada cliente, ¿qué proporción de sus productos ya los había pedido?"
   ]
  },
  {
   "cell_type": "code",
   "execution_count": 52,
   "id": "medical-couple",
   "metadata": {
    "id": "medical-couple",
    "scrolled": true
   },
   "outputs": [
    {
     "name": "stdout",
     "output_type": "stream",
     "text": [
      "          user_id\n",
      "order_id         \n",
      "1515936    183418\n",
      "1690866    163593\n",
      "1454967     39980\n",
      "1768857     82516\n",
      "3007858    196724\n",
      "...           ...\n",
      "3210681      5617\n",
      "3270802    112087\n",
      "885349      82944\n",
      "216274       4391\n",
      "2071924      1730\n",
      "\n",
      "[478952 rows x 1 columns]\n",
      "\n",
      "          reordered\n",
      "order_id           \n",
      "2141543           0\n",
      "567889            1\n",
      "2261212           1\n",
      "491251            1\n",
      "2571142           1\n",
      "...             ...\n",
      "577211            1\n",
      "1219554           0\n",
      "692640            1\n",
      "319435            1\n",
      "1398151           0\n",
      "\n",
      "[4545007 rows x 1 columns]\n",
      "          user_id  reordered\n",
      "order_id                    \n",
      "1515936    183418        1.0\n",
      "1515936    183418        1.0\n",
      "1515936    183418        0.0\n",
      "1515936    183418        0.0\n",
      "1515936    183418        0.0\n",
      "...           ...        ...\n",
      "2071924      1730        0.0\n",
      "2071924      1730        1.0\n",
      "2071924      1730        1.0\n",
      "2071924      1730        1.0\n",
      "2071924      1730        1.0\n",
      "\n",
      "[4573913 rows x 2 columns]\n"
     ]
    }
   ],
   "source": [
    "cols_orders = ['order_id', 'user_id']#delimitacion de columnas a utilizar\n",
    "df_orders_user = df_orders[cols_orders].set_index('order_id')#seteo de 'order_id' como index\n",
    "print(df_orders_user)#validacion de DF\n",
    "print()\n",
    "cols_order_products = ['order_id', 'reordered']#delimitacion de columnas a utilizar\n",
    "df_order_reordered = df_order_products[cols_order_products].set_index('order_id')#seteo de 'order_id' como index\n",
    "print(df_order_reordered)#validacion de DF\n",
    "df_order_clients = df_orders_user.merge(df_order_reordered, on='order_id', how='left')#merge izquierdo \n",
    "print(df_order_clients)#validacion de DF"
   ]
  },
  {
   "cell_type": "code",
   "execution_count": 53,
   "id": "8892e4b4",
   "metadata": {
    "id": "8892e4b4"
   },
   "outputs": [
    {
     "name": "stdout",
     "output_type": "stream",
     "text": [
      "user_id\n",
      "2         0.038462\n",
      "4         0.000000\n",
      "5         0.666667\n",
      "6         0.000000\n",
      "7         0.928571\n",
      "            ...   \n",
      "206203    0.222222\n",
      "206206    0.714286\n",
      "206207    0.891304\n",
      "206208    0.696000\n",
      "206209    0.320000\n",
      "Name: reordered, Length: 157437, dtype: float64\n"
     ]
    }
   ],
   "source": [
    "df_order_clients_proportion = df_order_clients.groupby('user_id')['reordered'].mean()#proporcion de productos reordenados por cliente\n",
    "print(df_order_clients_proportion)#validacion de DF"
   ]
  },
  {
   "cell_type": "markdown",
   "id": "BgJSvXDsleXz",
   "metadata": {
    "id": "BgJSvXDsleXz"
   },
   "source": [
    "Escribe aquí tus conclusiones\n",
    "\n",
    "<div class=\"alert alert-block alert-info\">\n",
    "<b>Respuesta del estudiante.</b> <a class=\"tocSkip\"></a>\n",
    "\n",
    "Se muestra la proporcion de recompra por cliente.\n",
    "    \n",
    "    \n",
    "    "
   ]
  },
  {
   "cell_type": "markdown",
   "id": "aeffce60",
   "metadata": {},
   "source": [
    "<div class=\"alert alert-block alert-success\">\n",
    "<b>Comentario del revisor</b> <a class=\"tocSkip\"></a>\n",
    "\n",
    "Perfecto.</div>"
   ]
  },
  {
   "cell_type": "markdown",
   "id": "92d35137",
   "metadata": {
    "id": "92d35137"
   },
   "source": [
    "### [C5] ¿Cuáles son los 20 principales artículos que las personas ponen primero en sus carritos?"
   ]
  },
  {
   "cell_type": "code",
   "execution_count": 54,
   "id": "0ae57274",
   "metadata": {
    "id": "0ae57274",
    "scrolled": true
   },
   "outputs": [
    {
     "name": "stdout",
     "output_type": "stream",
     "text": [
      "         order_id  product_id  add_to_cart_order  reordered\n",
      "0         2141543       11440                 17          0\n",
      "1          567889        1560                  1          1\n",
      "2         2261212       26683                  1          1\n",
      "3          491251        8670                 35          1\n",
      "4         2571142        1940                  5          1\n",
      "...           ...         ...                ...        ...\n",
      "4545002    577211       15290                 12          1\n",
      "4545003   1219554       21914                  9          0\n",
      "4545004    692640       47766                  4          1\n",
      "4545005    319435         691                  8          1\n",
      "4545006   1398151       28733                  9          0\n",
      "\n",
      "[4545007 rows x 4 columns]\n",
      "         order_id  product_id  add_to_cart_order  reordered\n",
      "1          567889        1560                  1          1\n",
      "2         2261212       26683                  1          1\n",
      "14        1961225       37553                  1          1\n",
      "16         639939       10017                  1          1\n",
      "23         750040        8518                  1          0\n",
      "...           ...         ...                ...        ...\n",
      "4544978   1759009       46175                  1          0\n",
      "4544989    115427       20842                  1          1\n",
      "4544990   2049780       28576                  1          1\n",
      "4544997   2300092       10017                  1          0\n",
      "4544999   1622300       24852                  1          1\n",
      "\n",
      "[450046 rows x 4 columns]\n"
     ]
    }
   ],
   "source": [
    "print(df_order_products)#validacion de DF original\n",
    "df_order_products_1 = df_order_products[df_order_products['add_to_cart_order'] == 1]#filtrado de DF por add_to_cart_order igual a 1\n",
    "print(df_order_products_1)#validacion de DF"
   ]
  },
  {
   "cell_type": "code",
   "execution_count": 55,
   "id": "forty-netherlands",
   "metadata": {
    "id": "forty-netherlands",
    "scrolled": false
   },
   "outputs": [
    {
     "name": "stdout",
     "output_type": "stream",
     "text": [
      "            add_to_cart_order\n",
      "product_id                   \n",
      "24852                   15562\n",
      "13176                   11026\n",
      "27845                    4363\n",
      "21137                    3946\n",
      "47209                    3390\n",
      "...                       ...\n",
      "10981                       1\n",
      "10985                       1\n",
      "38272                       1\n",
      "10989                       1\n",
      "36996                       1\n",
      "\n",
      "[26760 rows x 1 columns]\n",
      "            add_to_cart_order\n",
      "product_id                   \n",
      "24852                   15562\n",
      "13176                   11026\n",
      "27845                    4363\n",
      "21137                    3946\n",
      "47209                    3390\n",
      "21903                    3336\n",
      "47766                    3044\n",
      "19660                    2336\n",
      "16797                    2308\n",
      "27966                    2024\n",
      "44632                    1914\n",
      "49235                    1797\n",
      "47626                    1737\n",
      "196                      1733\n",
      "38689                    1397\n",
      "26209                    1370\n",
      "12341                    1340\n",
      "5785                     1310\n",
      "27086                    1309\n",
      "43352                    1246\n"
     ]
    }
   ],
   "source": [
    "df_order_products_1_pivot = df_order_products_1.pivot_table(index='product_id', values='add_to_cart_order', aggfunc='sum')#pivot de productos agregados en primer lugar\n",
    "df_order_products_pivot_org = (df_order_products_1_pivot.sort_values(by='add_to_cart_order', ascending=False))#ordenamiendo descendiente de pivot\n",
    "print(df_order_products_pivot_org)#validacion de pivot\n",
    "df_top20_products_1st_order = df_order_products_pivot_org.iloc[0:20,0:1]#extraccion de top 20\n",
    "print(df_top20_products_1st_order)#validacion de pivot"
   ]
  },
  {
   "cell_type": "code",
   "execution_count": 74,
   "id": "d31ce860",
   "metadata": {},
   "outputs": [
    {
     "name": "stdout",
     "output_type": "stream",
     "text": [
      "<class 'pandas.core.frame.DataFrame'>\n",
      "RangeIndex: 49694 entries, 0 to 49693\n",
      "Data columns (total 4 columns):\n",
      " #   Column         Non-Null Count  Dtype \n",
      "---  ------         --------------  ----- \n",
      " 0   product_id     49694 non-null  int64 \n",
      " 1   product_name   49694 non-null  object\n",
      " 2   aisle_id       49694 non-null  int64 \n",
      " 3   department_id  49694 non-null  int64 \n",
      "dtypes: int64(3), object(1)\n",
      "memory usage: 1.5+ MB\n",
      "\n",
      "       product_id                                       product_name  \\\n",
      "11165       11166           VOLCANO SHRIMP CHEESE & JALAPENO STUFFED   \n",
      "30557       30558                                PRETZEL SLIDER BUNS   \n",
      "33064       33065                                 CABERNET SAUVIGNON   \n",
      "5939         5940  HOMESTYLE CHICKEN NOODLE FAMILY SIZE R&W CONDE...   \n",
      "26997       26998                                            Unknown   \n",
      "\n",
      "       aisle_id  department_id  \n",
      "11165        34              1  \n",
      "30557        43              3  \n",
      "33064        28              5  \n",
      "5939         69             15  \n",
      "26997       100             21  \n",
      "\n",
      "                                                 product_name\n",
      "product_id                                                   \n",
      "1                                  CHOCOLATE SANDWICH COOKIES\n",
      "2                                            ALL-SEASONS SALT\n",
      "3                        ROBUST GOLDEN UNSWEETENED OOLONG TEA\n",
      "4           SMART ONES CLASSIC FAVORITES MINI RIGATONI WIT...\n",
      "5                                   GREEN CHILE ANYTIME SAUCE\n",
      "...                                                       ...\n",
      "49690                           HIGH PERFORMANCE ENERGY DRINK\n",
      "49691                           ORIGINAL PANCAKE & WAFFLE MIX\n",
      "49692         ORGANIC INSTANT OATMEAL LIGHT MAPLE BROWN SUGAR\n",
      "49693                                  SPRING WATER BODY WASH\n",
      "49694                                 BURRITO- STEAK & CHEESE\n",
      "\n",
      "[49694 rows x 1 columns]\n"
     ]
    }
   ],
   "source": [
    "df_products.info()#verificacion de la info original\n",
    "print()\n",
    "print(df_products.sample(5))#verificacion de la info original\n",
    "print()\n",
    "cols = ['product_id', 'product_name']#delimitacion de columnas a utilizar\n",
    "df_products_cols = df_products[cols].set_index('product_id')#seteo de 'product_id' como index\n",
    "print(df_products_cols)#validacion de DF"
   ]
  },
  {
   "cell_type": "code",
   "execution_count": 76,
   "id": "2784f7f1",
   "metadata": {},
   "outputs": [
    {
     "name": "stdout",
     "output_type": "stream",
     "text": [
      "            add_to_cart_order                 product_name\n",
      "product_id                                                \n",
      "24852                   15562                       BANANA\n",
      "13176                   11026       BAG OF ORGANIC BANANAS\n",
      "27845                    4363           ORGANIC WHOLE MILK\n",
      "21137                    3946         ORGANIC STRAWBERRIES\n",
      "47209                    3390         ORGANIC HASS AVOCADO\n",
      "21903                    3336         ORGANIC BABY SPINACH\n",
      "47766                    3044              ORGANIC AVOCADO\n",
      "19660                    2336                 SPRING WATER\n",
      "16797                    2308                 STRAWBERRIES\n",
      "27966                    2024          ORGANIC RASPBERRIES\n",
      "44632                    1914   SPARKLING WATER GRAPEFRUIT\n",
      "49235                    1797          ORGANIC HALF & HALF\n",
      "47626                    1737                  LARGE LEMON\n",
      "196                      1733                         SODA\n",
      "38689                    1397     ORGANIC REDUCED FAT MILK\n",
      "26209                    1370                        LIMES\n",
      "12341                    1340                HASS AVOCADOS\n",
      "5785                     1310  ORGANIC REDUCED FAT 2% MILK\n",
      "27086                    1309                  HALF & HALF\n",
      "43352                    1246                  RASPBERRIES\n",
      "\n"
     ]
    },
    {
     "data": {
      "image/png": "[encoded data removed]",
      "text/plain": [
       "<Figure size 1500x500 with 1 Axes>"
      ]
     },
     "metadata": {},
     "output_type": "display_data"
    }
   ],
   "source": [
    "df_top20_products_1st_order_merged = df_top20_products_1st_order.merge(df_products_cols, on = 'product_id', how = 'left')#merge izquierdo de DFs por su indice\n",
    "print(df_top20_products_1st_order_merged)#validacion de merge\n",
    "print()\n",
    "df_top20_products_1st_order_merged.plot(figsize=[15, 5], kind='bar', x='product_name', rot=90)#grafica\n",
    "plt.show()"
   ]
  },
  {
   "cell_type": "markdown",
   "id": "e510cdb9",
   "metadata": {
    "id": "08e41ec2"
   },
   "source": [
    "<div class=\"alert alert-block alert-danger\">\n",
    "<b>Comentario del revisor</b> <a class=\"tocSkip\"></a>\n",
    "\n",
    "Cuidado. Tambien necesitamos sacar el nombre  del producto, de lo contrario seria muy poco practico tener que buscarlo por el id.\n",
    "\n",
    "El resto esta excelente como lo planteaste</div>\n",
    "\n",
    "<div class=\"alert alert-block alert-warning\">\n",
    "<b>Comentario del revisor</b> <a class=\"tocSkip\"></a>\n",
    "\n",
    "Recorda que en este caso le agregaria valor graficar ese top 20 con un grafico de barras. Tener a mano el grafico hara mas amena y legible la experiencia del cliente.</div>\n",
    "\n",
    "\n",
    "<div class=\"alert alert-block alert-success\">\n",
    "\n",
    "<b>Comentario del revisor #2</b> <a class=\"tocSkip\"></a>\n",
    "\n",
    "Corregido, muy bien.</div>"
   ]
  },
  {
   "cell_type": "markdown",
   "id": "e4bbb485",
   "metadata": {},
   "source": [
    "<div class=\"alert alert-block alert-info\">\n",
    "<b>Respuesta del estudiante.</b> <a class=\"tocSkip\"></a>\n",
    "\n",
    "Listo. Se agregan los nombres de producto al top 20 y se genera grafico."
   ]
  },
  {
   "cell_type": "markdown",
   "id": "28ce9872",
   "metadata": {
    "id": "28ce9872"
   },
   "source": [
    "Escribe aquí tus conclusiones\n",
    "\n",
    "<div class=\"alert alert-block alert-info\">\n",
    "<b>Respuesta del estudiante.</b> <a class=\"tocSkip\"></a>\n",
    "\n",
    "Se muestra el top 20 de productos añadidos en primer lugar."
   ]
  },
  {
   "cell_type": "markdown",
   "id": "uITbFCEoDosC",
   "metadata": {
    "id": "uITbFCEoDosC"
   },
   "source": [
    "### Conclusion general del proyecto:"
   ]
  },
  {
   "cell_type": "markdown",
   "id": "d2fde23e",
   "metadata": {
    "id": "Nk-4GS7mDwqY"
   },
   "source": [
    "<div class=\"alert alert-block alert-info\">\n",
    "<b>Respuesta del estudiante.</b> <a class=\"tocSkip\"></a>\n",
    "\n",
    "Sin duda un proyecto bastante retador. Se necesitaron basicamente todas las funciones y metodos revisadas durante el Sprint. Se trabajo con la visualizacion inicial de los datos, revision de valores duplicados y ausentes, para posteriormente realizar el analisis del comportamiento de compras. Tantos "
   ]
  },
  {
   "cell_type": "markdown",
   "id": "865212ad",
   "metadata": {},
   "source": [
    "<div class=\"alert alert-block alert-danger\">\n",
    "\n",
    "<b>Comentario del revisor</b> <a class=\"tocSkip\"></a>\n",
    "\n",
    "Recorda realizar una conclusion general orientada al cliente. Esta debe contener todo lo que se hizo en el proyecto de forma enumerada o items.\n",
    "\n",
    "Desde la carga e importacion, pasando por los cambios realizado (Y el porque de esas decisiones). Agregando lo que se hizo en cada seccion a modo resumen y las conclusiones del  trabajo.\n",
    "\n",
    "Sirve como resumen de lo realizado en cada proyecto.</div>\n",
    "\n",
    "\n",
    "<div class=\"alert alert-block alert-success\">\n",
    "\n",
    "<b>Comentario del revisor #2</b> <a class=\"tocSkip\"></a>\n",
    "\n",
    "Corregido, excelente conclusion general.</div>"
   ]
  },
  {
   "cell_type": "markdown",
   "id": "8543885a",
   "metadata": {},
   "source": [
    "Para este proyecto se realizaron los siguientes pasos:\n",
    "1) Carga de 5 conjuntos de datos, los cuales fueron factibles de leer mediante el parametro 'sep=;.\n",
    "    - instacart_orders.csv: cada fila corresponde a un pedido en la aplicación Instacart.\n",
    "    - products.csv: cada fila corresponde a un producto único que pueden comprar los clientes.\n",
    "    - order_products.csv: cada fila corresponde a un artículo pedido en un pedido.\n",
    "    - aisles.csv\n",
    "    - departments.csv\n",
    "2) Preprocesamiento de los datos.\n",
    "    - Datos duplicados: se encontraron filas completas y datos duplicados en columnas en distintos datasets, los cuales no representavan un valor significativo para el volumen de informacion, por lo que se procedio a eliminarlos.\n",
    "    - Datos ausentes: en algunos casos se comprobo que deberian de mantenerse y solo se categorizaron de una manera distinta.\n",
    "3) Analisis de los datos.\n",
    "     - 1a parte: \n",
    "         - Se verifico las horas del día que hacen pedido los clientes, destacando que la mayor cantidad de pedidos se realizan entre las 8 y 18 horas.\n",
    "         - Se verifico el dia de la semana que la gente hace sus compras, destacando que el mayor numero de pedidos es en domingo y lunes.\n",
    "         - Se verifico el tiempo que la gente espera para hacer su siguiente pedido, destacando que el mayor numero de clientes tarda 7 dias, lo que representa la compra de su super semanal.\n",
    "\n",
    "    - 2a parte:\n",
    "        - Se verifico las distribuciones de pedidos por hora entre miércoles y los sábados, destacando que entre las 12 y 14 horas hay una diferencia significativa de pedidos con mayor volumen en sabado que en miercoles.\n",
    "        - Se verifico el número de órdenes que hacen los clientes, destacando que hay un decrecimiento de cantidad de pedidos significativo a partir del 4o pedido.\n",
    "        - Se verifico cuáles son los 20 principales productos que se piden con más frecuencia, destacando en el top frutas y verduras, en su gran mayoria productos organicos.\n",
    "\n",
    "    - 3a parte:\n",
    "        - Se verifico cuántos artículos suelen comprar las personas en un pedido, destacando los valores top entre los 4 y 7 productos.\n",
    "        - Se verifico cuáles son los 20 principales artículos que vuelven a pedirse con mayor frecuencia, donde tambien predominan las frutas y vegetales organicos.\n",
    "        - Se verifico la proporcion de recompra de todos los productos.\n",
    "        - Se verifico la proporcion de recompra por cliente.\n",
    "        - Se verifico cuáles son los 20 principales artículos que la gente pone primero en sus carritos, destacando nuevamente las frutas y vegetales organicos, y productos basicos como agua. \n"
   ]
  },
  {
   "cell_type": "code",
   "execution_count": null,
   "id": "1fbc0624",
   "metadata": {},
   "outputs": [],
   "source": []
  }
 ],
 "metadata": {
  "ExecuteTimeLog": [
   {
    "duration": 473,
    "start_time": "2024-08-19T21:00:05.329Z"
   },
   {
    "duration": 487,
    "start_time": "2024-08-19T21:00:07.096Z"
   },
   {
    "duration": 9,
    "start_time": "2024-08-19T21:00:08.708Z"
   },
   {
    "duration": 204,
    "start_time": "2024-08-19T21:01:12.269Z"
   },
   {
    "duration": 9,
    "start_time": "2024-08-19T21:01:14.712Z"
   },
   {
    "duration": 256,
    "start_time": "2024-08-19T21:03:36.044Z"
   },
   {
    "duration": 9,
    "start_time": "2024-08-19T21:03:40.400Z"
   },
   {
    "duration": 274,
    "start_time": "2024-08-19T21:10:26.512Z"
   },
   {
    "duration": 9,
    "start_time": "2024-08-19T21:10:29.849Z"
   },
   {
    "duration": 236,
    "start_time": "2024-08-19T21:11:16.087Z"
   },
   {
    "duration": 8,
    "start_time": "2024-08-19T21:11:20.098Z"
   },
   {
    "duration": 229,
    "start_time": "2024-08-19T21:12:44.414Z"
   },
   {
    "duration": 6,
    "start_time": "2024-08-19T21:12:51.452Z"
   },
   {
    "duration": 1565,
    "start_time": "2024-08-19T21:14:50.039Z"
   },
   {
    "duration": 8,
    "start_time": "2024-08-19T21:14:54.625Z"
   },
   {
    "duration": 322,
    "start_time": "2024-08-19T22:23:42.296Z"
   },
   {
    "duration": 22,
    "start_time": "2024-08-19T22:23:52.672Z"
   },
   {
    "duration": 498,
    "start_time": "2024-08-19T22:24:23.056Z"
   },
   {
    "duration": 1712,
    "start_time": "2024-08-19T22:24:23.558Z"
   },
   {
    "duration": 11,
    "start_time": "2024-08-19T22:24:25.274Z"
   },
   {
    "duration": 11,
    "start_time": "2024-08-19T22:24:25.290Z"
   },
   {
    "duration": 7,
    "start_time": "2024-08-19T22:24:25.307Z"
   },
   {
    "duration": 7,
    "start_time": "2024-08-19T22:24:25.317Z"
   },
   {
    "duration": 11,
    "start_time": "2024-08-19T22:24:25.368Z"
   },
   {
    "duration": 9,
    "start_time": "2024-08-19T22:24:25.382Z"
   },
   {
    "duration": 3,
    "start_time": "2024-08-19T22:24:25.394Z"
   },
   {
    "duration": 4,
    "start_time": "2024-08-19T22:24:25.400Z"
   },
   {
    "duration": 3,
    "start_time": "2024-08-19T22:24:25.407Z"
   },
   {
    "duration": 4,
    "start_time": "2024-08-19T22:24:25.469Z"
   },
   {
    "duration": 5,
    "start_time": "2024-08-19T22:24:25.477Z"
   },
   {
    "duration": 3,
    "start_time": "2024-08-19T22:24:25.492Z"
   },
   {
    "duration": 4,
    "start_time": "2024-08-19T22:24:25.499Z"
   },
   {
    "duration": 4,
    "start_time": "2024-08-19T22:24:25.506Z"
   },
   {
    "duration": 3,
    "start_time": "2024-08-19T22:24:25.514Z"
   },
   {
    "duration": 50,
    "start_time": "2024-08-19T22:24:25.520Z"
   },
   {
    "duration": 4,
    "start_time": "2024-08-19T22:24:25.574Z"
   },
   {
    "duration": 5,
    "start_time": "2024-08-19T22:24:25.581Z"
   },
   {
    "duration": 4,
    "start_time": "2024-08-19T22:24:25.588Z"
   },
   {
    "duration": 3,
    "start_time": "2024-08-19T22:24:25.595Z"
   },
   {
    "duration": 3,
    "start_time": "2024-08-19T22:24:25.602Z"
   },
   {
    "duration": 4,
    "start_time": "2024-08-19T22:24:25.667Z"
   },
   {
    "duration": 4,
    "start_time": "2024-08-19T22:24:25.673Z"
   },
   {
    "duration": 5,
    "start_time": "2024-08-19T22:24:25.680Z"
   },
   {
    "duration": 3,
    "start_time": "2024-08-19T22:24:25.690Z"
   },
   {
    "duration": 4,
    "start_time": "2024-08-19T22:24:25.696Z"
   },
   {
    "duration": 3,
    "start_time": "2024-08-19T22:24:25.704Z"
   },
   {
    "duration": 4,
    "start_time": "2024-08-19T22:24:25.710Z"
   },
   {
    "duration": 4,
    "start_time": "2024-08-19T22:24:25.767Z"
   },
   {
    "duration": 3,
    "start_time": "2024-08-19T22:24:25.776Z"
   },
   {
    "duration": 4,
    "start_time": "2024-08-19T22:24:25.782Z"
   },
   {
    "duration": 3,
    "start_time": "2024-08-19T22:24:25.790Z"
   },
   {
    "duration": 21,
    "start_time": "2024-08-19T22:25:16.992Z"
   },
   {
    "duration": 23,
    "start_time": "2024-08-19T22:25:25.548Z"
   },
   {
    "duration": 149,
    "start_time": "2024-08-19T22:26:07.642Z"
   },
   {
    "duration": 540,
    "start_time": "2024-08-19T22:27:02.798Z"
   },
   {
    "duration": 29,
    "start_time": "2024-08-19T22:28:08.994Z"
   },
   {
    "duration": 32,
    "start_time": "2024-08-19T22:28:31.310Z"
   },
   {
    "duration": 27,
    "start_time": "2024-08-19T22:32:24.227Z"
   },
   {
    "duration": 30,
    "start_time": "2024-08-19T22:32:43.394Z"
   },
   {
    "duration": 30,
    "start_time": "2024-08-19T22:33:22.668Z"
   },
   {
    "duration": 27,
    "start_time": "2024-08-19T22:34:56.413Z"
   },
   {
    "duration": 224,
    "start_time": "2024-08-19T22:39:17.729Z"
   },
   {
    "duration": 404,
    "start_time": "2024-08-19T22:40:28.528Z"
   },
   {
    "duration": 200,
    "start_time": "2024-08-19T22:40:49.424Z"
   },
   {
    "duration": 386,
    "start_time": "2024-08-19T22:40:55.613Z"
   },
   {
    "duration": 360,
    "start_time": "2024-08-19T22:44:52.333Z"
   },
   {
    "duration": 368,
    "start_time": "2024-08-19T22:45:11.634Z"
   },
   {
    "duration": 26,
    "start_time": "2024-08-19T22:50:51.843Z"
   },
   {
    "duration": 14,
    "start_time": "2024-08-19T22:53:01.986Z"
   },
   {
    "duration": 9,
    "start_time": "2024-08-19T22:54:05.338Z"
   },
   {
    "duration": 9,
    "start_time": "2024-08-19T22:54:29.510Z"
   },
   {
    "duration": 11,
    "start_time": "2024-08-19T22:54:49.787Z"
   },
   {
    "duration": 15,
    "start_time": "2024-08-19T22:55:08.164Z"
   },
   {
    "duration": 11,
    "start_time": "2024-08-19T22:55:14.118Z"
   },
   {
    "duration": 19,
    "start_time": "2024-08-19T22:55:34.830Z"
   },
   {
    "duration": 23,
    "start_time": "2024-08-19T22:57:20.489Z"
   },
   {
    "duration": 20,
    "start_time": "2024-08-19T22:57:36.878Z"
   },
   {
    "duration": 194,
    "start_time": "2024-08-19T23:02:27.507Z"
   },
   {
    "duration": 354,
    "start_time": "2024-08-19T23:03:16.501Z"
   },
   {
    "duration": 158,
    "start_time": "2024-08-19T23:03:28.810Z"
   },
   {
    "duration": 43,
    "start_time": "2024-08-19T23:04:54.141Z"
   },
   {
    "duration": 6,
    "start_time": "2024-08-19T23:05:15.389Z"
   },
   {
    "duration": 6,
    "start_time": "2024-08-19T23:05:31.783Z"
   },
   {
    "duration": 38,
    "start_time": "2024-08-19T23:05:42.379Z"
   },
   {
    "duration": 40,
    "start_time": "2024-08-19T23:05:48.391Z"
   },
   {
    "duration": 447,
    "start_time": "2024-08-20T02:22:38.467Z"
   },
   {
    "duration": 1700,
    "start_time": "2024-08-20T02:22:38.918Z"
   },
   {
    "duration": 13,
    "start_time": "2024-08-20T02:22:40.621Z"
   },
   {
    "duration": 11,
    "start_time": "2024-08-20T02:22:40.637Z"
   },
   {
    "duration": 8,
    "start_time": "2024-08-20T02:22:40.653Z"
   },
   {
    "duration": 46,
    "start_time": "2024-08-20T02:22:40.664Z"
   },
   {
    "duration": 11,
    "start_time": "2024-08-20T02:22:40.715Z"
   },
   {
    "duration": 423,
    "start_time": "2024-08-20T02:22:40.730Z"
   },
   {
    "duration": 21,
    "start_time": "2024-08-20T02:22:41.156Z"
   },
   {
    "duration": 211,
    "start_time": "2024-08-20T02:22:41.180Z"
   },
   {
    "duration": 170,
    "start_time": "2024-08-20T02:22:41.394Z"
   },
   {
    "duration": 58,
    "start_time": "2024-08-20T02:22:41.567Z"
   },
   {
    "duration": 4,
    "start_time": "2024-08-20T02:22:41.627Z"
   },
   {
    "duration": 3,
    "start_time": "2024-08-20T02:22:41.639Z"
   },
   {
    "duration": 3,
    "start_time": "2024-08-20T02:22:41.645Z"
   },
   {
    "duration": 5,
    "start_time": "2024-08-20T02:22:41.651Z"
   },
   {
    "duration": 47,
    "start_time": "2024-08-20T02:22:41.659Z"
   },
   {
    "duration": 3,
    "start_time": "2024-08-20T02:22:41.709Z"
   },
   {
    "duration": 4,
    "start_time": "2024-08-20T02:22:41.715Z"
   },
   {
    "duration": 3,
    "start_time": "2024-08-20T02:22:41.722Z"
   },
   {
    "duration": 4,
    "start_time": "2024-08-20T02:22:41.729Z"
   },
   {
    "duration": 3,
    "start_time": "2024-08-20T02:22:41.736Z"
   },
   {
    "duration": 3,
    "start_time": "2024-08-20T02:22:41.743Z"
   },
   {
    "duration": 57,
    "start_time": "2024-08-20T02:22:41.749Z"
   },
   {
    "duration": 4,
    "start_time": "2024-08-20T02:22:41.809Z"
   },
   {
    "duration": 3,
    "start_time": "2024-08-20T02:22:41.816Z"
   },
   {
    "duration": 4,
    "start_time": "2024-08-20T02:22:41.823Z"
   },
   {
    "duration": 3,
    "start_time": "2024-08-20T02:22:41.830Z"
   },
   {
    "duration": 3,
    "start_time": "2024-08-20T02:22:41.837Z"
   },
   {
    "duration": 4,
    "start_time": "2024-08-20T02:22:41.843Z"
   },
   {
    "duration": 3,
    "start_time": "2024-08-20T02:22:41.907Z"
   },
   {
    "duration": 4,
    "start_time": "2024-08-20T02:22:41.913Z"
   },
   {
    "duration": 4,
    "start_time": "2024-08-20T02:22:41.920Z"
   },
   {
    "duration": 5,
    "start_time": "2024-08-20T02:22:41.927Z"
   },
   {
    "duration": 7,
    "start_time": "2024-08-20T02:23:07.402Z"
   },
   {
    "duration": 20,
    "start_time": "2024-08-20T02:23:45.957Z"
   },
   {
    "duration": 29,
    "start_time": "2024-08-20T02:24:43.100Z"
   },
   {
    "duration": 40,
    "start_time": "2024-08-20T02:25:21.225Z"
   },
   {
    "duration": 270,
    "start_time": "2024-08-20T02:25:40.772Z"
   },
   {
    "duration": 97,
    "start_time": "2024-08-20T02:26:13.201Z"
   },
   {
    "duration": 5,
    "start_time": "2024-08-20T02:27:35.167Z"
   },
   {
    "duration": 16,
    "start_time": "2024-08-20T02:28:58.938Z"
   },
   {
    "duration": 445,
    "start_time": "2024-08-20T02:29:10.422Z"
   },
   {
    "duration": 7,
    "start_time": "2024-08-20T02:29:31.586Z"
   },
   {
    "duration": 22,
    "start_time": "2024-08-20T02:29:41.882Z"
   },
   {
    "duration": 14,
    "start_time": "2024-08-20T02:30:05.253Z"
   },
   {
    "duration": 10,
    "start_time": "2024-08-20T02:30:14.000Z"
   },
   {
    "duration": 43,
    "start_time": "2024-08-20T02:31:52.508Z"
   },
   {
    "duration": 34,
    "start_time": "2024-08-20T02:32:06.758Z"
   },
   {
    "duration": 48,
    "start_time": "2024-08-20T02:33:13.416Z"
   },
   {
    "duration": 456,
    "start_time": "2024-08-20T02:33:40.236Z"
   },
   {
    "duration": 86,
    "start_time": "2024-08-20T02:34:20.366Z"
   },
   {
    "duration": 100,
    "start_time": "2024-08-20T02:34:38.391Z"
   },
   {
    "duration": 97,
    "start_time": "2024-08-20T02:35:42.047Z"
   },
   {
    "duration": 30,
    "start_time": "2024-08-20T02:35:56.666Z"
   },
   {
    "duration": 37,
    "start_time": "2024-08-20T02:39:51.637Z"
   },
   {
    "duration": 45,
    "start_time": "2024-08-20T02:40:32.730Z"
   },
   {
    "duration": 3,
    "start_time": "2024-08-20T02:41:12.948Z"
   },
   {
    "duration": 491,
    "start_time": "2024-08-20T02:41:21.164Z"
   },
   {
    "duration": 1596,
    "start_time": "2024-08-20T02:41:21.659Z"
   },
   {
    "duration": 12,
    "start_time": "2024-08-20T02:41:23.258Z"
   },
   {
    "duration": 10,
    "start_time": "2024-08-20T02:41:23.273Z"
   },
   {
    "duration": 10,
    "start_time": "2024-08-20T02:41:23.308Z"
   },
   {
    "duration": 9,
    "start_time": "2024-08-20T02:41:23.322Z"
   },
   {
    "duration": 15,
    "start_time": "2024-08-20T02:41:23.337Z"
   },
   {
    "duration": 492,
    "start_time": "2024-08-20T02:41:23.356Z"
   },
   {
    "duration": 25,
    "start_time": "2024-08-20T02:41:23.851Z"
   },
   {
    "duration": 232,
    "start_time": "2024-08-20T02:41:23.879Z"
   },
   {
    "duration": 172,
    "start_time": "2024-08-20T02:41:24.118Z"
   },
   {
    "duration": 61,
    "start_time": "2024-08-20T02:41:24.293Z"
   },
   {
    "duration": 64,
    "start_time": "2024-08-20T02:41:24.358Z"
   },
   {
    "duration": 6,
    "start_time": "2024-08-20T02:41:24.430Z"
   },
   {
    "duration": 78,
    "start_time": "2024-08-20T02:41:24.441Z"
   },
   {
    "duration": 4,
    "start_time": "2024-08-20T02:41:24.522Z"
   },
   {
    "duration": 4,
    "start_time": "2024-08-20T02:41:24.530Z"
   },
   {
    "duration": 4,
    "start_time": "2024-08-20T02:41:24.536Z"
   },
   {
    "duration": 4,
    "start_time": "2024-08-20T02:41:24.543Z"
   },
   {
    "duration": 4,
    "start_time": "2024-08-20T02:41:24.551Z"
   },
   {
    "duration": 13,
    "start_time": "2024-08-20T02:41:24.607Z"
   },
   {
    "duration": 4,
    "start_time": "2024-08-20T02:41:24.626Z"
   },
   {
    "duration": 3,
    "start_time": "2024-08-20T02:41:24.633Z"
   },
   {
    "duration": 5,
    "start_time": "2024-08-20T02:41:24.642Z"
   },
   {
    "duration": 4,
    "start_time": "2024-08-20T02:41:24.651Z"
   },
   {
    "duration": 4,
    "start_time": "2024-08-20T02:41:24.658Z"
   },
   {
    "duration": 4,
    "start_time": "2024-08-20T02:41:24.665Z"
   },
   {
    "duration": 4,
    "start_time": "2024-08-20T02:41:24.672Z"
   },
   {
    "duration": 29,
    "start_time": "2024-08-20T02:41:24.679Z"
   },
   {
    "duration": 3,
    "start_time": "2024-08-20T02:41:24.712Z"
   },
   {
    "duration": 6,
    "start_time": "2024-08-20T02:41:24.719Z"
   },
   {
    "duration": 8,
    "start_time": "2024-08-20T02:41:24.729Z"
   },
   {
    "duration": 3,
    "start_time": "2024-08-20T02:41:24.742Z"
   },
   {
    "duration": 4,
    "start_time": "2024-08-20T02:41:24.750Z"
   },
   {
    "duration": 48,
    "start_time": "2024-08-20T02:41:44.133Z"
   },
   {
    "duration": 59,
    "start_time": "2024-08-20T02:42:53.408Z"
   },
   {
    "duration": 57,
    "start_time": "2024-08-20T02:44:02.521Z"
   },
   {
    "duration": 52,
    "start_time": "2024-08-20T02:44:29.210Z"
   },
   {
    "duration": 46,
    "start_time": "2024-08-20T02:44:41.939Z"
   },
   {
    "duration": 44,
    "start_time": "2024-08-20T02:45:21.436Z"
   },
   {
    "duration": 4,
    "start_time": "2024-08-20T02:45:23.929Z"
   },
   {
    "duration": 46,
    "start_time": "2024-08-20T02:45:44.136Z"
   },
   {
    "duration": 56,
    "start_time": "2024-08-20T02:45:59.504Z"
   },
   {
    "duration": 82,
    "start_time": "2024-08-20T02:47:48.493Z"
   },
   {
    "duration": 63,
    "start_time": "2024-08-20T02:53:14.824Z"
   },
   {
    "duration": 58,
    "start_time": "2024-08-20T02:56:42.226Z"
   },
   {
    "duration": 65,
    "start_time": "2024-08-20T02:57:26.527Z"
   },
   {
    "duration": 74,
    "start_time": "2024-08-20T02:57:40.182Z"
   },
   {
    "duration": 20,
    "start_time": "2024-08-20T02:58:15.562Z"
   },
   {
    "duration": 73,
    "start_time": "2024-08-20T02:58:20.491Z"
   },
   {
    "duration": 7,
    "start_time": "2024-08-20T03:16:18.574Z"
   },
   {
    "duration": 16,
    "start_time": "2024-08-20T03:16:52.952Z"
   },
   {
    "duration": 17,
    "start_time": "2024-08-20T03:17:54.826Z"
   },
   {
    "duration": 4,
    "start_time": "2024-08-20T03:18:42.040Z"
   },
   {
    "duration": 6,
    "start_time": "2024-08-20T03:19:42.314Z"
   },
   {
    "duration": 5,
    "start_time": "2024-08-20T03:19:59.808Z"
   },
   {
    "duration": 9,
    "start_time": "2024-08-20T03:29:45.160Z"
   },
   {
    "duration": 16,
    "start_time": "2024-08-20T03:30:01.775Z"
   },
   {
    "duration": 18,
    "start_time": "2024-08-20T03:30:23.427Z"
   },
   {
    "duration": 21,
    "start_time": "2024-08-20T03:30:51.597Z"
   },
   {
    "duration": 5,
    "start_time": "2024-08-20T03:36:05.100Z"
   },
   {
    "duration": 6,
    "start_time": "2024-08-20T03:36:18.569Z"
   },
   {
    "duration": 6,
    "start_time": "2024-08-20T03:36:25.334Z"
   },
   {
    "duration": 349,
    "start_time": "2024-08-20T03:43:22.412Z"
   },
   {
    "duration": 329,
    "start_time": "2024-08-20T03:44:39.057Z"
   },
   {
    "duration": 343,
    "start_time": "2024-08-20T03:45:10.904Z"
   },
   {
    "duration": 1127,
    "start_time": "2024-08-20T03:47:22.033Z"
   },
   {
    "duration": 1689,
    "start_time": "2024-08-20T03:48:02.472Z"
   },
   {
    "duration": 257,
    "start_time": "2024-08-20T03:48:31.516Z"
   },
   {
    "duration": 490,
    "start_time": "2024-08-20T15:25:17.965Z"
   },
   {
    "duration": 1684,
    "start_time": "2024-08-20T15:25:18.468Z"
   },
   {
    "duration": 18,
    "start_time": "2024-08-20T15:25:20.155Z"
   },
   {
    "duration": 10,
    "start_time": "2024-08-20T15:25:20.177Z"
   },
   {
    "duration": 10,
    "start_time": "2024-08-20T15:25:20.190Z"
   },
   {
    "duration": 6,
    "start_time": "2024-08-20T15:25:20.203Z"
   },
   {
    "duration": 59,
    "start_time": "2024-08-20T15:25:20.212Z"
   },
   {
    "duration": 388,
    "start_time": "2024-08-20T15:25:20.274Z"
   },
   {
    "duration": 22,
    "start_time": "2024-08-20T15:25:20.669Z"
   },
   {
    "duration": 210,
    "start_time": "2024-08-20T15:25:20.699Z"
   },
   {
    "duration": 173,
    "start_time": "2024-08-20T15:25:20.912Z"
   },
   {
    "duration": 48,
    "start_time": "2024-08-20T15:25:21.088Z"
   },
   {
    "duration": 54,
    "start_time": "2024-08-20T15:25:21.140Z"
   },
   {
    "duration": 6,
    "start_time": "2024-08-20T15:25:21.197Z"
   },
   {
    "duration": 91,
    "start_time": "2024-08-20T15:25:21.206Z"
   },
   {
    "duration": 16,
    "start_time": "2024-08-20T15:25:21.300Z"
   },
   {
    "duration": 16,
    "start_time": "2024-08-20T15:25:21.319Z"
   },
   {
    "duration": 5,
    "start_time": "2024-08-20T15:25:21.367Z"
   },
   {
    "duration": 18,
    "start_time": "2024-08-20T15:25:21.375Z"
   },
   {
    "duration": 5,
    "start_time": "2024-08-20T15:25:21.396Z"
   },
   {
    "duration": 1679,
    "start_time": "2024-08-20T15:25:21.404Z"
   },
   {
    "duration": 261,
    "start_time": "2024-08-20T15:25:23.086Z"
   },
   {
    "duration": 4,
    "start_time": "2024-08-20T15:25:23.350Z"
   },
   {
    "duration": 14,
    "start_time": "2024-08-20T15:25:23.356Z"
   },
   {
    "duration": 4,
    "start_time": "2024-08-20T15:25:23.373Z"
   },
   {
    "duration": 5,
    "start_time": "2024-08-20T15:25:23.380Z"
   },
   {
    "duration": 3,
    "start_time": "2024-08-20T15:25:23.388Z"
   },
   {
    "duration": 3,
    "start_time": "2024-08-20T15:25:23.398Z"
   },
   {
    "duration": 3,
    "start_time": "2024-08-20T15:25:23.404Z"
   },
   {
    "duration": 57,
    "start_time": "2024-08-20T15:25:23.410Z"
   },
   {
    "duration": 4,
    "start_time": "2024-08-20T15:25:23.470Z"
   },
   {
    "duration": 3,
    "start_time": "2024-08-20T15:25:23.477Z"
   },
   {
    "duration": 4,
    "start_time": "2024-08-20T15:25:23.484Z"
   },
   {
    "duration": 4,
    "start_time": "2024-08-20T15:25:23.491Z"
   },
   {
    "duration": 13,
    "start_time": "2024-08-20T15:27:24.303Z"
   },
   {
    "duration": 30,
    "start_time": "2024-08-20T15:27:37.070Z"
   },
   {
    "duration": 57,
    "start_time": "2024-08-20T15:27:44.655Z"
   },
   {
    "duration": 40,
    "start_time": "2024-08-20T15:27:52.722Z"
   },
   {
    "duration": 976,
    "start_time": "2024-08-20T15:29:26.534Z"
   },
   {
    "duration": 82,
    "start_time": "2024-08-20T15:29:53.361Z"
   },
   {
    "duration": 96,
    "start_time": "2024-08-20T15:30:09.871Z"
   },
   {
    "duration": 77,
    "start_time": "2024-08-20T15:30:38.595Z"
   },
   {
    "duration": 105,
    "start_time": "2024-08-20T15:31:56.573Z"
   },
   {
    "duration": 13,
    "start_time": "2024-08-20T15:32:16.110Z"
   },
   {
    "duration": 18,
    "start_time": "2024-08-20T15:32:32.393Z"
   },
   {
    "duration": 80,
    "start_time": "2024-08-20T15:32:50.413Z"
   },
   {
    "duration": 37,
    "start_time": "2024-08-20T15:33:08.909Z"
   },
   {
    "duration": 78,
    "start_time": "2024-08-20T15:33:59.835Z"
   },
   {
    "duration": 103,
    "start_time": "2024-08-20T15:34:17.801Z"
   },
   {
    "duration": 79,
    "start_time": "2024-08-20T15:35:52.296Z"
   },
   {
    "duration": 77,
    "start_time": "2024-08-20T15:36:34.775Z"
   },
   {
    "duration": 75,
    "start_time": "2024-08-20T15:36:49.210Z"
   },
   {
    "duration": 410,
    "start_time": "2024-08-20T15:37:09.322Z"
   },
   {
    "duration": 1501,
    "start_time": "2024-08-20T15:37:09.735Z"
   },
   {
    "duration": 12,
    "start_time": "2024-08-20T15:37:11.238Z"
   },
   {
    "duration": 10,
    "start_time": "2024-08-20T15:37:11.267Z"
   },
   {
    "duration": 9,
    "start_time": "2024-08-20T15:37:11.280Z"
   },
   {
    "duration": 7,
    "start_time": "2024-08-20T15:37:11.292Z"
   },
   {
    "duration": 10,
    "start_time": "2024-08-20T15:37:11.302Z"
   },
   {
    "duration": 435,
    "start_time": "2024-08-20T15:37:11.315Z"
   },
   {
    "duration": 28,
    "start_time": "2024-08-20T15:37:11.754Z"
   },
   {
    "duration": 209,
    "start_time": "2024-08-20T15:37:11.789Z"
   },
   {
    "duration": 188,
    "start_time": "2024-08-20T15:37:12.001Z"
   },
   {
    "duration": 48,
    "start_time": "2024-08-20T15:37:12.193Z"
   },
   {
    "duration": 56,
    "start_time": "2024-08-20T15:37:12.244Z"
   },
   {
    "duration": 6,
    "start_time": "2024-08-20T15:37:12.302Z"
   },
   {
    "duration": 86,
    "start_time": "2024-08-20T15:37:12.310Z"
   },
   {
    "duration": 15,
    "start_time": "2024-08-20T15:37:12.399Z"
   },
   {
    "duration": 17,
    "start_time": "2024-08-20T15:37:12.416Z"
   },
   {
    "duration": 5,
    "start_time": "2024-08-20T15:37:12.467Z"
   },
   {
    "duration": 18,
    "start_time": "2024-08-20T15:37:12.475Z"
   },
   {
    "duration": 5,
    "start_time": "2024-08-20T15:37:12.496Z"
   },
   {
    "duration": 1674,
    "start_time": "2024-08-20T15:37:12.505Z"
   },
   {
    "duration": 262,
    "start_time": "2024-08-20T15:37:14.183Z"
   },
   {
    "duration": 986,
    "start_time": "2024-08-20T15:37:14.448Z"
   },
   {
    "duration": 0,
    "start_time": "2024-08-20T15:37:15.438Z"
   },
   {
    "duration": 0,
    "start_time": "2024-08-20T15:37:15.440Z"
   },
   {
    "duration": 0,
    "start_time": "2024-08-20T15:37:15.443Z"
   },
   {
    "duration": 0,
    "start_time": "2024-08-20T15:37:15.444Z"
   },
   {
    "duration": 0,
    "start_time": "2024-08-20T15:37:15.448Z"
   },
   {
    "duration": 0,
    "start_time": "2024-08-20T15:37:15.450Z"
   },
   {
    "duration": 0,
    "start_time": "2024-08-20T15:37:15.470Z"
   },
   {
    "duration": 0,
    "start_time": "2024-08-20T15:37:15.473Z"
   },
   {
    "duration": 0,
    "start_time": "2024-08-20T15:37:15.475Z"
   },
   {
    "duration": 0,
    "start_time": "2024-08-20T15:37:15.477Z"
   },
   {
    "duration": 0,
    "start_time": "2024-08-20T15:37:15.480Z"
   },
   {
    "duration": 78,
    "start_time": "2024-08-20T15:37:41.786Z"
   },
   {
    "duration": 8,
    "start_time": "2024-08-20T15:38:16.057Z"
   },
   {
    "duration": 12,
    "start_time": "2024-08-20T15:38:25.375Z"
   },
   {
    "duration": 19,
    "start_time": "2024-08-20T15:39:18.558Z"
   },
   {
    "duration": 98,
    "start_time": "2024-08-20T15:40:33.366Z"
   },
   {
    "duration": 36,
    "start_time": "2024-08-20T15:46:27.270Z"
   },
   {
    "duration": 60,
    "start_time": "2024-08-20T15:47:14.069Z"
   },
   {
    "duration": 51,
    "start_time": "2024-08-20T15:47:46.571Z"
   },
   {
    "duration": 46,
    "start_time": "2024-08-20T15:48:09.125Z"
   },
   {
    "duration": 40,
    "start_time": "2024-08-20T15:50:56.058Z"
   },
   {
    "duration": 47,
    "start_time": "2024-08-20T15:52:45.031Z"
   },
   {
    "duration": 10,
    "start_time": "2024-08-20T15:53:19.299Z"
   },
   {
    "duration": 38,
    "start_time": "2024-08-20T15:53:54.189Z"
   },
   {
    "duration": 50,
    "start_time": "2024-08-20T15:55:08.938Z"
   },
   {
    "duration": 7,
    "start_time": "2024-08-20T15:55:49.067Z"
   },
   {
    "duration": 45,
    "start_time": "2024-08-20T15:56:04.799Z"
   },
   {
    "duration": 48,
    "start_time": "2024-08-20T15:56:56.718Z"
   },
   {
    "duration": 44,
    "start_time": "2024-08-20T15:59:47.208Z"
   },
   {
    "duration": 5,
    "start_time": "2024-08-20T16:04:03.744Z"
   },
   {
    "duration": 12,
    "start_time": "2024-08-20T16:04:20.809Z"
   },
   {
    "duration": 12,
    "start_time": "2024-08-20T16:04:34.284Z"
   },
   {
    "duration": 15,
    "start_time": "2024-08-20T16:05:22.851Z"
   },
   {
    "duration": 13,
    "start_time": "2024-08-20T16:05:30.523Z"
   },
   {
    "duration": 15,
    "start_time": "2024-08-20T16:05:49.575Z"
   },
   {
    "duration": 20,
    "start_time": "2024-08-20T16:06:22.406Z"
   },
   {
    "duration": 18,
    "start_time": "2024-08-20T16:06:43.455Z"
   },
   {
    "duration": 15,
    "start_time": "2024-08-20T16:17:20.046Z"
   },
   {
    "duration": 16,
    "start_time": "2024-08-20T16:17:41.598Z"
   },
   {
    "duration": 353,
    "start_time": "2024-08-20T17:39:33.045Z"
   },
   {
    "duration": 522,
    "start_time": "2024-08-20T17:39:44.599Z"
   },
   {
    "duration": 1836,
    "start_time": "2024-08-20T17:39:45.125Z"
   },
   {
    "duration": 11,
    "start_time": "2024-08-20T17:39:46.965Z"
   },
   {
    "duration": 37,
    "start_time": "2024-08-20T17:39:46.981Z"
   },
   {
    "duration": 11,
    "start_time": "2024-08-20T17:39:47.021Z"
   },
   {
    "duration": 7,
    "start_time": "2024-08-20T17:39:47.035Z"
   },
   {
    "duration": 13,
    "start_time": "2024-08-20T17:39:47.046Z"
   },
   {
    "duration": 455,
    "start_time": "2024-08-20T17:39:47.063Z"
   },
   {
    "duration": 25,
    "start_time": "2024-08-20T17:39:47.522Z"
   },
   {
    "duration": 230,
    "start_time": "2024-08-20T17:39:47.555Z"
   },
   {
    "duration": 182,
    "start_time": "2024-08-20T17:39:47.789Z"
   },
   {
    "duration": 61,
    "start_time": "2024-08-20T17:39:47.974Z"
   },
   {
    "duration": 39,
    "start_time": "2024-08-20T17:39:48.039Z"
   },
   {
    "duration": 32,
    "start_time": "2024-08-20T17:39:48.081Z"
   },
   {
    "duration": 60,
    "start_time": "2024-08-20T17:39:48.115Z"
   },
   {
    "duration": 39,
    "start_time": "2024-08-20T17:39:48.178Z"
   },
   {
    "duration": 21,
    "start_time": "2024-08-20T17:39:48.221Z"
   },
   {
    "duration": 7,
    "start_time": "2024-08-20T17:39:48.246Z"
   },
   {
    "duration": 62,
    "start_time": "2024-08-20T17:39:48.257Z"
   },
   {
    "duration": 6,
    "start_time": "2024-08-20T17:39:48.322Z"
   },
   {
    "duration": 1774,
    "start_time": "2024-08-20T17:39:48.332Z"
   },
   {
    "duration": 279,
    "start_time": "2024-08-20T17:39:50.114Z"
   },
   {
    "duration": 51,
    "start_time": "2024-08-20T17:39:50.397Z"
   },
   {
    "duration": 20,
    "start_time": "2024-08-20T17:39:50.451Z"
   },
   {
    "duration": 45,
    "start_time": "2024-08-20T17:39:50.475Z"
   },
   {
    "duration": 359,
    "start_time": "2024-08-20T17:39:50.523Z"
   },
   {
    "duration": 0,
    "start_time": "2024-08-20T17:39:50.888Z"
   },
   {
    "duration": 0,
    "start_time": "2024-08-20T17:39:50.890Z"
   },
   {
    "duration": 1,
    "start_time": "2024-08-20T17:39:50.891Z"
   },
   {
    "duration": 0,
    "start_time": "2024-08-20T17:39:50.894Z"
   },
   {
    "duration": 0,
    "start_time": "2024-08-20T17:39:50.895Z"
   },
   {
    "duration": 0,
    "start_time": "2024-08-20T17:39:50.897Z"
   },
   {
    "duration": 0,
    "start_time": "2024-08-20T17:39:50.898Z"
   },
   {
    "duration": 0,
    "start_time": "2024-08-20T17:39:50.899Z"
   },
   {
    "duration": 7,
    "start_time": "2024-08-20T17:40:14.003Z"
   },
   {
    "duration": 888,
    "start_time": "2024-08-20T17:40:55.371Z"
   },
   {
    "duration": 85,
    "start_time": "2024-08-20T17:41:30.967Z"
   },
   {
    "duration": 77,
    "start_time": "2024-08-20T17:41:49.053Z"
   },
   {
    "duration": 86,
    "start_time": "2024-08-20T17:42:04.220Z"
   },
   {
    "duration": 97,
    "start_time": "2024-08-20T17:42:30.164Z"
   },
   {
    "duration": 81,
    "start_time": "2024-08-20T17:43:05.531Z"
   },
   {
    "duration": 8,
    "start_time": "2024-08-20T17:43:35.890Z"
   },
   {
    "duration": 91,
    "start_time": "2024-08-20T17:43:42.182Z"
   },
   {
    "duration": 8,
    "start_time": "2024-08-20T17:44:04.421Z"
   },
   {
    "duration": 12,
    "start_time": "2024-08-20T17:44:33.731Z"
   },
   {
    "duration": 19,
    "start_time": "2024-08-20T17:44:57.775Z"
   },
   {
    "duration": 40,
    "start_time": "2024-08-20T17:45:29.498Z"
   },
   {
    "duration": 24,
    "start_time": "2024-08-20T17:45:58.648Z"
   },
   {
    "duration": 26,
    "start_time": "2024-08-20T17:46:42.490Z"
   },
   {
    "duration": 39,
    "start_time": "2024-08-20T17:54:48.372Z"
   },
   {
    "duration": 33,
    "start_time": "2024-08-20T17:55:32.145Z"
   },
   {
    "duration": 381,
    "start_time": "2024-08-20T17:56:01.731Z"
   },
   {
    "duration": 33,
    "start_time": "2024-08-20T17:56:50.658Z"
   },
   {
    "duration": 42,
    "start_time": "2024-08-20T17:59:28.607Z"
   },
   {
    "duration": 60,
    "start_time": "2024-08-20T18:00:09.981Z"
   },
   {
    "duration": 16,
    "start_time": "2024-08-20T18:06:29.307Z"
   },
   {
    "duration": 25,
    "start_time": "2024-08-20T18:10:25.150Z"
   },
   {
    "duration": 24,
    "start_time": "2024-08-20T18:12:40.725Z"
   },
   {
    "duration": 32,
    "start_time": "2024-08-20T18:12:49.635Z"
   },
   {
    "duration": 17,
    "start_time": "2024-08-20T18:16:52.704Z"
   },
   {
    "duration": 5,
    "start_time": "2024-08-20T18:17:56.605Z"
   },
   {
    "duration": 36,
    "start_time": "2024-08-20T18:18:30.385Z"
   },
   {
    "duration": 34,
    "start_time": "2024-08-20T18:19:00.028Z"
   },
   {
    "duration": 29,
    "start_time": "2024-08-20T18:19:32.650Z"
   },
   {
    "duration": 20,
    "start_time": "2024-08-20T18:19:45.778Z"
   },
   {
    "duration": 15,
    "start_time": "2024-08-20T18:20:32.756Z"
   },
   {
    "duration": 7,
    "start_time": "2024-08-20T18:20:46.277Z"
   },
   {
    "duration": 7,
    "start_time": "2024-08-20T18:21:11.477Z"
   },
   {
    "duration": 6,
    "start_time": "2024-08-20T18:21:26.149Z"
   },
   {
    "duration": 6,
    "start_time": "2024-08-20T18:23:53.229Z"
   },
   {
    "duration": 8,
    "start_time": "2024-08-20T18:24:03.969Z"
   },
   {
    "duration": 6,
    "start_time": "2024-08-20T18:24:22.925Z"
   },
   {
    "duration": 7,
    "start_time": "2024-08-20T18:24:58.645Z"
   },
   {
    "duration": 12,
    "start_time": "2024-08-20T18:25:12.805Z"
   },
   {
    "duration": 12,
    "start_time": "2024-08-20T18:25:50.726Z"
   },
   {
    "duration": 5,
    "start_time": "2024-08-20T18:26:39.478Z"
   },
   {
    "duration": 13,
    "start_time": "2024-08-20T18:37:10.612Z"
   },
   {
    "duration": 13,
    "start_time": "2024-08-20T18:37:58.134Z"
   },
   {
    "duration": 34,
    "start_time": "2024-08-20T18:39:49.669Z"
   },
   {
    "duration": 47,
    "start_time": "2024-08-20T18:41:23.186Z"
   },
   {
    "duration": 6,
    "start_time": "2024-08-20T18:44:00.873Z"
   },
   {
    "duration": 36,
    "start_time": "2024-08-20T18:44:15.683Z"
   },
   {
    "duration": 53,
    "start_time": "2024-08-20T18:45:03.345Z"
   },
   {
    "duration": 46,
    "start_time": "2024-08-20T18:46:29.855Z"
   },
   {
    "duration": 4,
    "start_time": "2024-08-20T18:53:48.946Z"
   },
   {
    "duration": 3,
    "start_time": "2024-08-20T18:53:49.106Z"
   },
   {
    "duration": 1112,
    "start_time": "2024-08-20T18:54:15.039Z"
   },
   {
    "duration": 11,
    "start_time": "2024-08-20T18:56:45.077Z"
   },
   {
    "duration": 17,
    "start_time": "2024-08-20T18:57:01.385Z"
   },
   {
    "duration": 17,
    "start_time": "2024-08-20T19:02:55.225Z"
   },
   {
    "duration": 37,
    "start_time": "2024-08-20T19:03:35.480Z"
   },
   {
    "duration": 20,
    "start_time": "2024-08-20T19:03:49.334Z"
   },
   {
    "duration": 21,
    "start_time": "2024-08-20T19:05:34.333Z"
   },
   {
    "duration": 32,
    "start_time": "2024-08-20T19:06:01.508Z"
   },
   {
    "duration": 18,
    "start_time": "2024-08-20T19:35:59.161Z"
   },
   {
    "duration": 4,
    "start_time": "2024-08-20T19:39:25.718Z"
   },
   {
    "duration": 15,
    "start_time": "2024-08-20T19:39:57.532Z"
   },
   {
    "duration": 11,
    "start_time": "2024-08-20T19:40:13.376Z"
   },
   {
    "duration": 19,
    "start_time": "2024-08-20T19:42:03.640Z"
   },
   {
    "duration": 13,
    "start_time": "2024-08-20T19:42:44.672Z"
   },
   {
    "duration": 5,
    "start_time": "2024-08-20T19:43:03.581Z"
   },
   {
    "duration": 9,
    "start_time": "2024-08-20T19:43:57.724Z"
   },
   {
    "duration": 8,
    "start_time": "2024-08-20T19:44:04.982Z"
   },
   {
    "duration": 26,
    "start_time": "2024-08-20T19:44:22.148Z"
   },
   {
    "duration": 8,
    "start_time": "2024-08-20T19:45:19.906Z"
   },
   {
    "duration": 35,
    "start_time": "2024-08-20T19:50:09.457Z"
   },
   {
    "duration": 518,
    "start_time": "2024-08-20T19:50:50.713Z"
   },
   {
    "duration": 34,
    "start_time": "2024-08-20T19:52:18.937Z"
   },
   {
    "duration": 59,
    "start_time": "2024-08-20T19:52:31.781Z"
   },
   {
    "duration": 35,
    "start_time": "2024-08-20T19:52:47.090Z"
   },
   {
    "duration": 43,
    "start_time": "2024-08-20T19:53:05.180Z"
   },
   {
    "duration": 216,
    "start_time": "2024-08-20T19:55:22.174Z"
   },
   {
    "duration": 62,
    "start_time": "2024-08-20T20:00:07.101Z"
   },
   {
    "duration": 487,
    "start_time": "2024-08-20T20:06:01.934Z"
   },
   {
    "duration": 1609,
    "start_time": "2024-08-20T20:06:02.425Z"
   },
   {
    "duration": 14,
    "start_time": "2024-08-20T20:06:04.038Z"
   },
   {
    "duration": 13,
    "start_time": "2024-08-20T20:06:04.056Z"
   },
   {
    "duration": 12,
    "start_time": "2024-08-20T20:06:04.072Z"
   },
   {
    "duration": 8,
    "start_time": "2024-08-20T20:06:04.116Z"
   },
   {
    "duration": 11,
    "start_time": "2024-08-20T20:06:04.127Z"
   },
   {
    "duration": 425,
    "start_time": "2024-08-20T20:06:04.142Z"
   },
   {
    "duration": 23,
    "start_time": "2024-08-20T20:06:04.570Z"
   },
   {
    "duration": 241,
    "start_time": "2024-08-20T20:06:04.617Z"
   },
   {
    "duration": 179,
    "start_time": "2024-08-20T20:06:04.861Z"
   },
   {
    "duration": 48,
    "start_time": "2024-08-20T20:06:05.043Z"
   },
   {
    "duration": 42,
    "start_time": "2024-08-20T20:06:05.113Z"
   },
   {
    "duration": 6,
    "start_time": "2024-08-20T20:06:05.158Z"
   },
   {
    "duration": 89,
    "start_time": "2024-08-20T20:06:05.168Z"
   },
   {
    "duration": 17,
    "start_time": "2024-08-20T20:06:05.260Z"
   },
   {
    "duration": 46,
    "start_time": "2024-08-20T20:06:05.279Z"
   },
   {
    "duration": 6,
    "start_time": "2024-08-20T20:06:05.329Z"
   },
   {
    "duration": 20,
    "start_time": "2024-08-20T20:06:05.339Z"
   },
   {
    "duration": 5,
    "start_time": "2024-08-20T20:06:05.362Z"
   },
   {
    "duration": 1722,
    "start_time": "2024-08-20T20:06:05.413Z"
   },
   {
    "duration": 302,
    "start_time": "2024-08-20T20:06:07.138Z"
   },
   {
    "duration": 42,
    "start_time": "2024-08-20T20:06:07.444Z"
   },
   {
    "duration": 33,
    "start_time": "2024-08-20T20:06:07.492Z"
   },
   {
    "duration": 16,
    "start_time": "2024-08-20T20:06:07.529Z"
   },
   {
    "duration": 63,
    "start_time": "2024-08-20T20:06:07.549Z"
   },
   {
    "duration": 55,
    "start_time": "2024-08-20T20:06:07.615Z"
   },
   {
    "duration": 55,
    "start_time": "2024-08-20T20:06:07.678Z"
   },
   {
    "duration": 7,
    "start_time": "2024-08-20T20:06:07.737Z"
   },
   {
    "duration": 76,
    "start_time": "2024-08-20T20:06:07.747Z"
   },
   {
    "duration": 52,
    "start_time": "2024-08-20T20:06:07.826Z"
   },
   {
    "duration": 36,
    "start_time": "2024-08-20T20:06:07.881Z"
   },
   {
    "duration": 8,
    "start_time": "2024-08-20T20:06:07.923Z"
   },
   {
    "duration": 100,
    "start_time": "2024-08-20T20:06:07.934Z"
   },
   {
    "duration": 27,
    "start_time": "2024-08-20T20:11:40.738Z"
   },
   {
    "duration": 8,
    "start_time": "2024-08-20T20:12:08.821Z"
   },
   {
    "duration": 9,
    "start_time": "2024-08-20T20:12:18.929Z"
   },
   {
    "duration": 371,
    "start_time": "2024-08-20T20:12:32.551Z"
   },
   {
    "duration": 32,
    "start_time": "2024-08-20T20:12:55.166Z"
   },
   {
    "duration": 32,
    "start_time": "2024-08-20T20:13:19.389Z"
   },
   {
    "duration": 45,
    "start_time": "2024-08-20T20:13:35.023Z"
   },
   {
    "duration": 49,
    "start_time": "2024-08-20T20:13:54.593Z"
   },
   {
    "duration": 49,
    "start_time": "2024-08-20T20:14:20.359Z"
   },
   {
    "duration": 17948,
    "start_time": "2024-08-20T20:18:48.707Z"
   },
   {
    "duration": 3879,
    "start_time": "2024-08-20T20:20:53.863Z"
   },
   {
    "duration": 2472,
    "start_time": "2024-08-20T20:22:09.053Z"
   },
   {
    "duration": 349,
    "start_time": "2024-08-20T20:23:29.727Z"
   },
   {
    "duration": 327,
    "start_time": "2024-08-20T20:24:56.891Z"
   },
   {
    "duration": 315,
    "start_time": "2024-08-20T20:25:08.306Z"
   },
   {
    "duration": 326,
    "start_time": "2024-08-20T20:26:29.598Z"
   },
   {
    "duration": 329,
    "start_time": "2024-08-20T20:26:43.639Z"
   },
   {
    "duration": 449,
    "start_time": "2024-08-20T20:27:13.093Z"
   },
   {
    "duration": 5,
    "start_time": "2024-08-20T20:27:53.638Z"
   },
   {
    "duration": 358,
    "start_time": "2024-08-20T20:28:03.233Z"
   },
   {
    "duration": 8,
    "start_time": "2024-08-20T20:28:56.423Z"
   },
   {
    "duration": 316,
    "start_time": "2024-08-20T20:29:01.798Z"
   },
   {
    "duration": 202,
    "start_time": "2024-08-20T20:29:29.830Z"
   },
   {
    "duration": 369,
    "start_time": "2024-08-20T20:29:41.937Z"
   },
   {
    "duration": 49,
    "start_time": "2024-08-20T20:30:15.347Z"
   },
   {
    "duration": 334,
    "start_time": "2024-08-20T20:30:27.673Z"
   },
   {
    "duration": 397,
    "start_time": "2024-08-20T20:31:10.778Z"
   },
   {
    "duration": 729,
    "start_time": "2024-08-20T20:31:59.696Z"
   },
   {
    "duration": 1618,
    "start_time": "2024-08-20T20:32:00.428Z"
   },
   {
    "duration": 11,
    "start_time": "2024-08-20T20:32:02.049Z"
   },
   {
    "duration": 13,
    "start_time": "2024-08-20T20:32:02.063Z"
   },
   {
    "duration": 10,
    "start_time": "2024-08-20T20:32:02.111Z"
   },
   {
    "duration": 9,
    "start_time": "2024-08-20T20:32:02.124Z"
   },
   {
    "duration": 11,
    "start_time": "2024-08-20T20:32:02.136Z"
   },
   {
    "duration": 449,
    "start_time": "2024-08-20T20:32:02.150Z"
   },
   {
    "duration": 32,
    "start_time": "2024-08-20T20:32:02.602Z"
   },
   {
    "duration": 236,
    "start_time": "2024-08-20T20:32:02.640Z"
   },
   {
    "duration": 226,
    "start_time": "2024-08-20T20:32:02.879Z"
   },
   {
    "duration": 55,
    "start_time": "2024-08-20T20:32:03.108Z"
   },
   {
    "duration": 75,
    "start_time": "2024-08-20T20:32:03.165Z"
   },
   {
    "duration": 5,
    "start_time": "2024-08-20T20:32:03.247Z"
   },
   {
    "duration": 93,
    "start_time": "2024-08-20T20:32:03.256Z"
   },
   {
    "duration": 20,
    "start_time": "2024-08-20T20:32:03.352Z"
   },
   {
    "duration": 48,
    "start_time": "2024-08-20T20:32:03.376Z"
   },
   {
    "duration": 8,
    "start_time": "2024-08-20T20:32:03.428Z"
   },
   {
    "duration": 24,
    "start_time": "2024-08-20T20:32:03.439Z"
   },
   {
    "duration": 6,
    "start_time": "2024-08-20T20:32:03.468Z"
   },
   {
    "duration": 1836,
    "start_time": "2024-08-20T20:32:03.476Z"
   },
   {
    "duration": 299,
    "start_time": "2024-08-20T20:32:05.316Z"
   },
   {
    "duration": 43,
    "start_time": "2024-08-20T20:32:05.618Z"
   },
   {
    "duration": 48,
    "start_time": "2024-08-20T20:32:05.664Z"
   },
   {
    "duration": 17,
    "start_time": "2024-08-20T20:32:05.715Z"
   },
   {
    "duration": 32,
    "start_time": "2024-08-20T20:32:05.735Z"
   },
   {
    "duration": 84,
    "start_time": "2024-08-20T20:32:05.770Z"
   },
   {
    "duration": 30,
    "start_time": "2024-08-20T20:32:05.857Z"
   },
   {
    "duration": 27,
    "start_time": "2024-08-20T20:32:05.890Z"
   },
   {
    "duration": 51,
    "start_time": "2024-08-20T20:32:05.921Z"
   },
   {
    "duration": 82,
    "start_time": "2024-08-20T20:32:05.975Z"
   },
   {
    "duration": 16,
    "start_time": "2024-08-20T20:32:06.060Z"
   },
   {
    "duration": 8,
    "start_time": "2024-08-20T20:32:06.111Z"
   },
   {
    "duration": 93,
    "start_time": "2024-08-20T20:32:06.123Z"
   },
   {
    "duration": 44,
    "start_time": "2024-08-20T20:32:06.220Z"
   },
   {
    "duration": 63,
    "start_time": "2024-08-20T20:32:06.267Z"
   },
   {
    "duration": 351,
    "start_time": "2024-08-20T20:32:06.333Z"
   },
   {
    "duration": 4080,
    "start_time": "2024-08-20T20:32:49.589Z"
   },
   {
    "duration": 709,
    "start_time": "2024-08-20T20:35:55.738Z"
   },
   {
    "duration": 1787,
    "start_time": "2024-08-20T20:35:56.453Z"
   },
   {
    "duration": 14,
    "start_time": "2024-08-20T20:35:58.243Z"
   },
   {
    "duration": 9,
    "start_time": "2024-08-20T20:35:58.262Z"
   },
   {
    "duration": 41,
    "start_time": "2024-08-20T20:35:58.274Z"
   },
   {
    "duration": 8,
    "start_time": "2024-08-20T20:35:58.318Z"
   },
   {
    "duration": 10,
    "start_time": "2024-08-20T20:35:58.329Z"
   },
   {
    "duration": 439,
    "start_time": "2024-08-20T20:35:58.342Z"
   },
   {
    "duration": 39,
    "start_time": "2024-08-20T20:35:58.785Z"
   },
   {
    "duration": 226,
    "start_time": "2024-08-20T20:35:58.830Z"
   },
   {
    "duration": 200,
    "start_time": "2024-08-20T20:35:59.059Z"
   },
   {
    "duration": 75,
    "start_time": "2024-08-20T20:35:59.262Z"
   },
   {
    "duration": 39,
    "start_time": "2024-08-20T20:35:59.341Z"
   },
   {
    "duration": 28,
    "start_time": "2024-08-20T20:35:59.385Z"
   },
   {
    "duration": 59,
    "start_time": "2024-08-20T20:35:59.416Z"
   },
   {
    "duration": 38,
    "start_time": "2024-08-20T20:35:59.480Z"
   },
   {
    "duration": 17,
    "start_time": "2024-08-20T20:35:59.523Z"
   },
   {
    "duration": 6,
    "start_time": "2024-08-20T20:35:59.543Z"
   },
   {
    "duration": 23,
    "start_time": "2024-08-20T20:35:59.552Z"
   },
   {
    "duration": 9,
    "start_time": "2024-08-20T20:35:59.613Z"
   },
   {
    "duration": 1828,
    "start_time": "2024-08-20T20:35:59.625Z"
   },
   {
    "duration": 297,
    "start_time": "2024-08-20T20:36:01.456Z"
   },
   {
    "duration": 62,
    "start_time": "2024-08-20T20:36:01.756Z"
   },
   {
    "duration": 24,
    "start_time": "2024-08-20T20:36:01.821Z"
   },
   {
    "duration": 15,
    "start_time": "2024-08-20T20:36:01.851Z"
   },
   {
    "duration": 63,
    "start_time": "2024-08-20T20:36:01.870Z"
   },
   {
    "duration": 48,
    "start_time": "2024-08-20T20:36:01.936Z"
   },
   {
    "duration": 52,
    "start_time": "2024-08-20T20:36:01.991Z"
   },
   {
    "duration": 6,
    "start_time": "2024-08-20T20:36:02.048Z"
   },
   {
    "duration": 82,
    "start_time": "2024-08-20T20:36:02.058Z"
   },
   {
    "duration": 69,
    "start_time": "2024-08-20T20:36:02.144Z"
   },
   {
    "duration": 16,
    "start_time": "2024-08-20T20:36:02.216Z"
   },
   {
    "duration": 13,
    "start_time": "2024-08-20T20:36:02.235Z"
   },
   {
    "duration": 97,
    "start_time": "2024-08-20T20:36:02.252Z"
   },
   {
    "duration": 66,
    "start_time": "2024-08-20T20:36:02.351Z"
   },
   {
    "duration": 49,
    "start_time": "2024-08-20T20:36:02.420Z"
   },
   {
    "duration": 12,
    "start_time": "2024-08-20T20:39:29.966Z"
   },
   {
    "duration": 0,
    "start_time": "2024-08-20T20:39:29.982Z"
   },
   {
    "duration": 0,
    "start_time": "2024-08-20T20:39:29.984Z"
   },
   {
    "duration": 0,
    "start_time": "2024-08-20T20:39:29.986Z"
   },
   {
    "duration": 0,
    "start_time": "2024-08-20T20:39:29.988Z"
   },
   {
    "duration": 0,
    "start_time": "2024-08-20T20:39:29.990Z"
   },
   {
    "duration": 0,
    "start_time": "2024-08-20T20:39:29.992Z"
   },
   {
    "duration": 0,
    "start_time": "2024-08-20T20:39:29.995Z"
   },
   {
    "duration": 0,
    "start_time": "2024-08-20T20:39:29.997Z"
   },
   {
    "duration": 0,
    "start_time": "2024-08-20T20:39:29.999Z"
   },
   {
    "duration": 0,
    "start_time": "2024-08-20T20:39:30.001Z"
   },
   {
    "duration": 363,
    "start_time": "2024-08-20T20:39:30.008Z"
   },
   {
    "duration": 0,
    "start_time": "2024-08-20T20:39:30.374Z"
   },
   {
    "duration": 0,
    "start_time": "2024-08-20T20:39:30.377Z"
   },
   {
    "duration": 0,
    "start_time": "2024-08-20T20:39:30.378Z"
   },
   {
    "duration": 0,
    "start_time": "2024-08-20T20:39:30.381Z"
   },
   {
    "duration": 0,
    "start_time": "2024-08-20T20:39:30.383Z"
   },
   {
    "duration": 0,
    "start_time": "2024-08-20T20:39:30.385Z"
   },
   {
    "duration": 0,
    "start_time": "2024-08-20T20:39:30.388Z"
   },
   {
    "duration": 0,
    "start_time": "2024-08-20T20:39:30.412Z"
   },
   {
    "duration": 0,
    "start_time": "2024-08-20T20:39:30.414Z"
   },
   {
    "duration": 0,
    "start_time": "2024-08-20T20:39:30.417Z"
   },
   {
    "duration": 0,
    "start_time": "2024-08-20T20:39:30.419Z"
   },
   {
    "duration": 0,
    "start_time": "2024-08-20T20:39:30.422Z"
   },
   {
    "duration": 0,
    "start_time": "2024-08-20T20:39:30.424Z"
   },
   {
    "duration": 0,
    "start_time": "2024-08-20T20:39:30.427Z"
   },
   {
    "duration": 0,
    "start_time": "2024-08-20T20:39:30.429Z"
   },
   {
    "duration": 0,
    "start_time": "2024-08-20T20:39:30.432Z"
   },
   {
    "duration": 0,
    "start_time": "2024-08-20T20:39:30.434Z"
   },
   {
    "duration": 0,
    "start_time": "2024-08-20T20:39:30.436Z"
   },
   {
    "duration": 0,
    "start_time": "2024-08-20T20:39:30.438Z"
   },
   {
    "duration": 0,
    "start_time": "2024-08-20T20:39:30.440Z"
   },
   {
    "duration": 1,
    "start_time": "2024-08-20T20:39:30.441Z"
   },
   {
    "duration": 0,
    "start_time": "2024-08-20T20:39:30.444Z"
   },
   {
    "duration": 0,
    "start_time": "2024-08-20T20:39:30.446Z"
   },
   {
    "duration": 0,
    "start_time": "2024-08-20T20:39:30.448Z"
   },
   {
    "duration": 0,
    "start_time": "2024-08-20T20:39:30.450Z"
   },
   {
    "duration": 29,
    "start_time": "2024-08-20T20:39:53.198Z"
   },
   {
    "duration": 39,
    "start_time": "2024-08-20T20:40:17.386Z"
   },
   {
    "duration": 15,
    "start_time": "2024-08-20T20:40:32.840Z"
   },
   {
    "duration": 0,
    "start_time": "2024-08-20T20:40:32.858Z"
   },
   {
    "duration": 0,
    "start_time": "2024-08-20T20:40:32.860Z"
   },
   {
    "duration": 0,
    "start_time": "2024-08-20T20:40:32.863Z"
   },
   {
    "duration": 0,
    "start_time": "2024-08-20T20:40:32.866Z"
   },
   {
    "duration": 0,
    "start_time": "2024-08-20T20:40:32.868Z"
   },
   {
    "duration": 0,
    "start_time": "2024-08-20T20:40:32.870Z"
   },
   {
    "duration": 382,
    "start_time": "2024-08-20T20:40:32.876Z"
   },
   {
    "duration": 0,
    "start_time": "2024-08-20T20:40:33.263Z"
   },
   {
    "duration": 0,
    "start_time": "2024-08-20T20:40:33.266Z"
   },
   {
    "duration": 0,
    "start_time": "2024-08-20T20:40:33.268Z"
   },
   {
    "duration": 0,
    "start_time": "2024-08-20T20:40:33.270Z"
   },
   {
    "duration": 0,
    "start_time": "2024-08-20T20:40:33.272Z"
   },
   {
    "duration": 0,
    "start_time": "2024-08-20T20:40:33.275Z"
   },
   {
    "duration": 1,
    "start_time": "2024-08-20T20:40:33.278Z"
   },
   {
    "duration": 0,
    "start_time": "2024-08-20T20:40:33.281Z"
   },
   {
    "duration": 0,
    "start_time": "2024-08-20T20:40:33.317Z"
   },
   {
    "duration": 0,
    "start_time": "2024-08-20T20:40:33.320Z"
   },
   {
    "duration": 0,
    "start_time": "2024-08-20T20:40:33.322Z"
   },
   {
    "duration": 0,
    "start_time": "2024-08-20T20:40:33.325Z"
   },
   {
    "duration": 0,
    "start_time": "2024-08-20T20:40:33.327Z"
   },
   {
    "duration": 0,
    "start_time": "2024-08-20T20:40:33.330Z"
   },
   {
    "duration": 1,
    "start_time": "2024-08-20T20:40:33.332Z"
   },
   {
    "duration": 0,
    "start_time": "2024-08-20T20:40:33.335Z"
   },
   {
    "duration": 0,
    "start_time": "2024-08-20T20:40:33.338Z"
   },
   {
    "duration": 0,
    "start_time": "2024-08-20T20:40:33.341Z"
   },
   {
    "duration": 0,
    "start_time": "2024-08-20T20:40:33.343Z"
   },
   {
    "duration": 0,
    "start_time": "2024-08-20T20:40:33.346Z"
   },
   {
    "duration": 1,
    "start_time": "2024-08-20T20:40:33.347Z"
   },
   {
    "duration": 0,
    "start_time": "2024-08-20T20:40:33.350Z"
   },
   {
    "duration": 0,
    "start_time": "2024-08-20T20:40:33.351Z"
   },
   {
    "duration": 0,
    "start_time": "2024-08-20T20:40:33.353Z"
   },
   {
    "duration": 0,
    "start_time": "2024-08-20T20:40:33.356Z"
   },
   {
    "duration": 0,
    "start_time": "2024-08-20T20:40:33.357Z"
   },
   {
    "duration": 0,
    "start_time": "2024-08-20T20:40:33.359Z"
   },
   {
    "duration": 0,
    "start_time": "2024-08-20T20:40:33.361Z"
   },
   {
    "duration": 0,
    "start_time": "2024-08-20T20:40:33.413Z"
   },
   {
    "duration": 709,
    "start_time": "2024-08-20T20:41:42.339Z"
   },
   {
    "duration": 1914,
    "start_time": "2024-08-20T20:41:43.054Z"
   },
   {
    "duration": 12,
    "start_time": "2024-08-20T20:41:44.971Z"
   },
   {
    "duration": 27,
    "start_time": "2024-08-20T20:41:44.988Z"
   },
   {
    "duration": 9,
    "start_time": "2024-08-20T20:41:45.019Z"
   },
   {
    "duration": 7,
    "start_time": "2024-08-20T20:41:45.031Z"
   },
   {
    "duration": 10,
    "start_time": "2024-08-20T20:41:45.042Z"
   },
   {
    "duration": 487,
    "start_time": "2024-08-20T20:41:45.056Z"
   },
   {
    "duration": 24,
    "start_time": "2024-08-20T20:41:45.546Z"
   },
   {
    "duration": 221,
    "start_time": "2024-08-20T20:41:45.576Z"
   },
   {
    "duration": 194,
    "start_time": "2024-08-20T20:41:45.800Z"
   },
   {
    "duration": 55,
    "start_time": "2024-08-20T20:41:45.997Z"
   },
   {
    "duration": 38,
    "start_time": "2024-08-20T20:41:46.055Z"
   },
   {
    "duration": 6,
    "start_time": "2024-08-20T20:41:46.113Z"
   },
   {
    "duration": 61,
    "start_time": "2024-08-20T20:41:46.123Z"
   },
   {
    "duration": 17,
    "start_time": "2024-08-20T20:41:46.213Z"
   },
   {
    "duration": 18,
    "start_time": "2024-08-20T20:41:46.234Z"
   },
   {
    "duration": 5,
    "start_time": "2024-08-20T20:41:46.257Z"
   },
   {
    "duration": 62,
    "start_time": "2024-08-20T20:41:46.265Z"
   },
   {
    "duration": 6,
    "start_time": "2024-08-20T20:41:46.330Z"
   },
   {
    "duration": 1746,
    "start_time": "2024-08-20T20:41:46.339Z"
   },
   {
    "duration": 277,
    "start_time": "2024-08-20T20:41:48.089Z"
   },
   {
    "duration": 56,
    "start_time": "2024-08-20T20:41:48.370Z"
   },
   {
    "duration": 20,
    "start_time": "2024-08-20T20:41:48.429Z"
   },
   {
    "duration": 18,
    "start_time": "2024-08-20T20:41:48.453Z"
   },
   {
    "duration": 62,
    "start_time": "2024-08-20T20:41:48.474Z"
   },
   {
    "duration": 79,
    "start_time": "2024-08-20T20:41:48.539Z"
   },
   {
    "duration": 30,
    "start_time": "2024-08-20T20:41:48.626Z"
   },
   {
    "duration": 7,
    "start_time": "2024-08-20T20:41:48.659Z"
   },
   {
    "duration": 77,
    "start_time": "2024-08-20T20:41:48.669Z"
   },
   {
    "duration": 79,
    "start_time": "2024-08-20T20:41:48.749Z"
   },
   {
    "duration": 21,
    "start_time": "2024-08-20T20:41:48.831Z"
   },
   {
    "duration": 9,
    "start_time": "2024-08-20T20:41:48.857Z"
   },
   {
    "duration": 98,
    "start_time": "2024-08-20T20:41:48.869Z"
   },
   {
    "duration": 65,
    "start_time": "2024-08-20T20:41:48.970Z"
   },
   {
    "duration": 41,
    "start_time": "2024-08-20T20:41:49.038Z"
   },
   {
    "duration": 360,
    "start_time": "2024-08-20T20:41:49.084Z"
   },
   {
    "duration": 1204,
    "start_time": "2024-08-20T20:46:54.472Z"
   },
   {
    "duration": 128,
    "start_time": "2024-08-20T20:47:25.907Z"
   },
   {
    "duration": 56,
    "start_time": "2024-08-20T20:47:43.766Z"
   },
   {
    "duration": 29,
    "start_time": "2024-08-20T20:48:24.781Z"
   },
   {
    "duration": 40,
    "start_time": "2024-08-20T20:48:43.837Z"
   },
   {
    "duration": 266,
    "start_time": "2024-08-20T20:49:18.139Z"
   },
   {
    "duration": 675,
    "start_time": "2024-08-20T20:51:14.873Z"
   },
   {
    "duration": 1633,
    "start_time": "2024-08-20T20:51:15.552Z"
   },
   {
    "duration": 25,
    "start_time": "2024-08-20T20:51:17.188Z"
   },
   {
    "duration": 13,
    "start_time": "2024-08-20T20:51:17.216Z"
   },
   {
    "duration": 9,
    "start_time": "2024-08-20T20:51:17.232Z"
   },
   {
    "duration": 9,
    "start_time": "2024-08-20T20:51:17.245Z"
   },
   {
    "duration": 12,
    "start_time": "2024-08-20T20:51:17.260Z"
   },
   {
    "duration": 449,
    "start_time": "2024-08-20T20:51:17.275Z"
   },
   {
    "duration": 29,
    "start_time": "2024-08-20T20:51:17.729Z"
   },
   {
    "duration": 237,
    "start_time": "2024-08-20T20:51:17.765Z"
   },
   {
    "duration": 189,
    "start_time": "2024-08-20T20:51:18.005Z"
   },
   {
    "duration": 66,
    "start_time": "2024-08-20T20:51:18.199Z"
   },
   {
    "duration": 52,
    "start_time": "2024-08-20T20:51:18.268Z"
   },
   {
    "duration": 6,
    "start_time": "2024-08-20T20:51:18.324Z"
   },
   {
    "duration": 86,
    "start_time": "2024-08-20T20:51:18.334Z"
   },
   {
    "duration": 18,
    "start_time": "2024-08-20T20:51:18.423Z"
   },
   {
    "duration": 20,
    "start_time": "2024-08-20T20:51:18.445Z"
   },
   {
    "duration": 5,
    "start_time": "2024-08-20T20:51:18.469Z"
   },
   {
    "duration": 19,
    "start_time": "2024-08-20T20:51:18.514Z"
   },
   {
    "duration": 8,
    "start_time": "2024-08-20T20:51:18.536Z"
   },
   {
    "duration": 1764,
    "start_time": "2024-08-20T20:51:18.548Z"
   },
   {
    "duration": 266,
    "start_time": "2024-08-20T20:51:20.315Z"
   },
   {
    "duration": 61,
    "start_time": "2024-08-20T20:51:20.584Z"
   },
   {
    "duration": 22,
    "start_time": "2024-08-20T20:51:20.648Z"
   },
   {
    "duration": 39,
    "start_time": "2024-08-20T20:51:20.673Z"
   },
   {
    "duration": 27,
    "start_time": "2024-08-20T20:51:20.716Z"
   },
   {
    "duration": 86,
    "start_time": "2024-08-20T20:51:20.747Z"
   },
   {
    "duration": 34,
    "start_time": "2024-08-20T20:51:20.843Z"
   },
   {
    "duration": 33,
    "start_time": "2024-08-20T20:51:20.881Z"
   },
   {
    "duration": 60,
    "start_time": "2024-08-20T20:51:20.917Z"
   },
   {
    "duration": 82,
    "start_time": "2024-08-20T20:51:20.980Z"
   },
   {
    "duration": 17,
    "start_time": "2024-08-20T20:51:21.066Z"
   },
   {
    "duration": 8,
    "start_time": "2024-08-20T20:51:21.114Z"
   },
   {
    "duration": 97,
    "start_time": "2024-08-20T20:51:21.127Z"
   },
   {
    "duration": 46,
    "start_time": "2024-08-20T20:51:21.228Z"
   },
   {
    "duration": 66,
    "start_time": "2024-08-20T20:51:21.277Z"
   },
   {
    "duration": 323,
    "start_time": "2024-08-20T20:51:21.349Z"
   },
   {
    "duration": 354,
    "start_time": "2024-08-20T20:53:13.148Z"
   },
   {
    "duration": 769,
    "start_time": "2024-08-20T20:53:23.682Z"
   },
   {
    "duration": 1792,
    "start_time": "2024-08-20T20:53:24.455Z"
   },
   {
    "duration": 12,
    "start_time": "2024-08-20T20:53:26.251Z"
   },
   {
    "duration": 10,
    "start_time": "2024-08-20T20:53:26.266Z"
   },
   {
    "duration": 36,
    "start_time": "2024-08-20T20:53:26.281Z"
   },
   {
    "duration": 7,
    "start_time": "2024-08-20T20:53:26.321Z"
   },
   {
    "duration": 13,
    "start_time": "2024-08-20T20:53:26.331Z"
   },
   {
    "duration": 438,
    "start_time": "2024-08-20T20:53:26.347Z"
   },
   {
    "duration": 44,
    "start_time": "2024-08-20T20:53:26.788Z"
   },
   {
    "duration": 213,
    "start_time": "2024-08-20T20:53:26.835Z"
   },
   {
    "duration": 207,
    "start_time": "2024-08-20T20:53:27.051Z"
   },
   {
    "duration": 62,
    "start_time": "2024-08-20T20:53:27.262Z"
   },
   {
    "duration": 42,
    "start_time": "2024-08-20T20:53:27.327Z"
   },
   {
    "duration": 6,
    "start_time": "2024-08-20T20:53:27.379Z"
   },
   {
    "duration": 63,
    "start_time": "2024-08-20T20:53:27.413Z"
   },
   {
    "duration": 40,
    "start_time": "2024-08-20T20:53:27.481Z"
   },
   {
    "duration": 21,
    "start_time": "2024-08-20T20:53:27.524Z"
   },
   {
    "duration": 7,
    "start_time": "2024-08-20T20:53:27.548Z"
   },
   {
    "duration": 57,
    "start_time": "2024-08-20T20:53:27.560Z"
   },
   {
    "duration": 6,
    "start_time": "2024-08-20T20:53:27.621Z"
   },
   {
    "duration": 1753,
    "start_time": "2024-08-20T20:53:27.630Z"
   },
   {
    "duration": 286,
    "start_time": "2024-08-20T20:53:29.386Z"
   },
   {
    "duration": 58,
    "start_time": "2024-08-20T20:53:29.676Z"
   },
   {
    "duration": 21,
    "start_time": "2024-08-20T20:53:29.738Z"
   },
   {
    "duration": 15,
    "start_time": "2024-08-20T20:53:29.765Z"
   },
   {
    "duration": 52,
    "start_time": "2024-08-20T20:53:29.783Z"
   },
   {
    "duration": 79,
    "start_time": "2024-08-20T20:53:29.839Z"
   },
   {
    "duration": 29,
    "start_time": "2024-08-20T20:53:29.922Z"
   },
   {
    "duration": 6,
    "start_time": "2024-08-20T20:53:29.957Z"
   },
   {
    "duration": 84,
    "start_time": "2024-08-20T20:53:29.965Z"
   },
   {
    "duration": 70,
    "start_time": "2024-08-20T20:53:30.055Z"
   },
   {
    "duration": 16,
    "start_time": "2024-08-20T20:53:30.129Z"
   },
   {
    "duration": 9,
    "start_time": "2024-08-20T20:53:30.152Z"
   },
   {
    "duration": 101,
    "start_time": "2024-08-20T20:53:30.167Z"
   },
   {
    "duration": 61,
    "start_time": "2024-08-20T20:53:30.272Z"
   },
   {
    "duration": 48,
    "start_time": "2024-08-20T20:53:30.337Z"
   },
   {
    "duration": 264,
    "start_time": "2024-08-20T20:53:30.389Z"
   },
   {
    "duration": 33,
    "start_time": "2024-08-20T20:55:45.627Z"
   },
   {
    "duration": 6,
    "start_time": "2024-08-20T20:56:41.339Z"
   },
   {
    "duration": 34,
    "start_time": "2024-08-20T20:56:52.079Z"
   },
   {
    "duration": 226,
    "start_time": "2024-08-20T20:57:16.160Z"
   },
   {
    "duration": 372,
    "start_time": "2024-08-20T20:57:47.199Z"
   },
   {
    "duration": 347,
    "start_time": "2024-08-20T20:58:07.516Z"
   },
   {
    "duration": 17,
    "start_time": "2024-08-20T21:02:53.894Z"
   },
   {
    "duration": 29,
    "start_time": "2024-08-20T21:03:29.837Z"
   },
   {
    "duration": 32,
    "start_time": "2024-08-20T21:03:38.992Z"
   },
   {
    "duration": 206,
    "start_time": "2024-08-20T21:04:02.322Z"
   },
   {
    "duration": 30,
    "start_time": "2024-08-20T21:09:19.564Z"
   },
   {
    "duration": 32,
    "start_time": "2024-08-20T21:09:30.704Z"
   },
   {
    "duration": 34,
    "start_time": "2024-08-20T21:10:23.099Z"
   },
   {
    "duration": 405,
    "start_time": "2024-08-20T21:10:56.552Z"
   },
   {
    "duration": 32,
    "start_time": "2024-08-20T21:11:06.123Z"
   },
   {
    "duration": 413,
    "start_time": "2024-08-20T21:11:55.906Z"
   },
   {
    "duration": 20,
    "start_time": "2024-08-20T21:18:36.810Z"
   },
   {
    "duration": 51,
    "start_time": "2024-08-20T21:22:30.183Z"
   },
   {
    "duration": 44,
    "start_time": "2024-08-20T21:22:46.697Z"
   },
   {
    "duration": 38,
    "start_time": "2024-08-20T21:24:35.423Z"
   },
   {
    "duration": 713,
    "start_time": "2024-08-20T21:25:07.055Z"
   },
   {
    "duration": 1582,
    "start_time": "2024-08-20T21:25:07.772Z"
   },
   {
    "duration": 16,
    "start_time": "2024-08-20T21:25:09.370Z"
   },
   {
    "duration": 10,
    "start_time": "2024-08-20T21:25:09.390Z"
   },
   {
    "duration": 10,
    "start_time": "2024-08-20T21:25:09.412Z"
   },
   {
    "duration": 9,
    "start_time": "2024-08-20T21:25:09.425Z"
   },
   {
    "duration": 13,
    "start_time": "2024-08-20T21:25:09.437Z"
   },
   {
    "duration": 424,
    "start_time": "2024-08-20T21:25:09.455Z"
   },
   {
    "duration": 41,
    "start_time": "2024-08-20T21:25:09.882Z"
   },
   {
    "duration": 209,
    "start_time": "2024-08-20T21:25:09.930Z"
   },
   {
    "duration": 207,
    "start_time": "2024-08-20T21:25:10.142Z"
   },
   {
    "duration": 72,
    "start_time": "2024-08-20T21:25:10.357Z"
   },
   {
    "duration": 49,
    "start_time": "2024-08-20T21:25:10.433Z"
   },
   {
    "duration": 26,
    "start_time": "2024-08-20T21:25:10.488Z"
   },
   {
    "duration": 64,
    "start_time": "2024-08-20T21:25:10.517Z"
   },
   {
    "duration": 41,
    "start_time": "2024-08-20T21:25:10.584Z"
   },
   {
    "duration": 19,
    "start_time": "2024-08-20T21:25:10.629Z"
   },
   {
    "duration": 5,
    "start_time": "2024-08-20T21:25:10.652Z"
   },
   {
    "duration": 60,
    "start_time": "2024-08-20T21:25:10.661Z"
   },
   {
    "duration": 14,
    "start_time": "2024-08-20T21:25:10.724Z"
   },
   {
    "duration": 1929,
    "start_time": "2024-08-20T21:25:10.741Z"
   },
   {
    "duration": 275,
    "start_time": "2024-08-20T21:25:12.674Z"
   },
   {
    "duration": 66,
    "start_time": "2024-08-20T21:25:12.952Z"
   },
   {
    "duration": 29,
    "start_time": "2024-08-20T21:25:13.021Z"
   },
   {
    "duration": 15,
    "start_time": "2024-08-20T21:25:13.061Z"
   },
   {
    "duration": 52,
    "start_time": "2024-08-20T21:25:13.080Z"
   },
   {
    "duration": 49,
    "start_time": "2024-08-20T21:25:13.137Z"
   },
   {
    "duration": 55,
    "start_time": "2024-08-20T21:25:13.194Z"
   },
   {
    "duration": 7,
    "start_time": "2024-08-20T21:25:13.252Z"
   },
   {
    "duration": 85,
    "start_time": "2024-08-20T21:25:13.262Z"
   },
   {
    "duration": 72,
    "start_time": "2024-08-20T21:25:13.351Z"
   },
   {
    "duration": 18,
    "start_time": "2024-08-20T21:25:13.430Z"
   },
   {
    "duration": 9,
    "start_time": "2024-08-20T21:25:13.451Z"
   },
   {
    "duration": 102,
    "start_time": "2024-08-20T21:25:13.462Z"
   },
   {
    "duration": 91,
    "start_time": "2024-08-20T21:25:13.568Z"
   },
   {
    "duration": 69,
    "start_time": "2024-08-20T21:25:13.665Z"
   },
   {
    "duration": 395,
    "start_time": "2024-08-20T21:25:13.738Z"
   },
   {
    "duration": 225,
    "start_time": "2024-08-20T21:25:14.136Z"
   },
   {
    "duration": 428,
    "start_time": "2024-08-20T21:25:14.365Z"
   },
   {
    "duration": 200,
    "start_time": "2024-08-20T21:25:14.797Z"
   },
   {
    "duration": 144,
    "start_time": "2024-08-20T21:25:51.102Z"
   },
   {
    "duration": 158,
    "start_time": "2024-08-20T21:26:02.634Z"
   },
   {
    "duration": 157,
    "start_time": "2024-08-20T21:26:46.465Z"
   },
   {
    "duration": 159,
    "start_time": "2024-08-20T21:27:13.714Z"
   },
   {
    "duration": 678,
    "start_time": "2024-08-20T21:28:25.159Z"
   },
   {
    "duration": 1602,
    "start_time": "2024-08-20T21:28:25.841Z"
   },
   {
    "duration": 16,
    "start_time": "2024-08-20T21:28:27.447Z"
   },
   {
    "duration": 11,
    "start_time": "2024-08-20T21:28:27.469Z"
   },
   {
    "duration": 10,
    "start_time": "2024-08-20T21:28:27.515Z"
   },
   {
    "duration": 8,
    "start_time": "2024-08-20T21:28:27.528Z"
   },
   {
    "duration": 14,
    "start_time": "2024-08-20T21:28:27.539Z"
   },
   {
    "duration": 481,
    "start_time": "2024-08-20T21:28:27.556Z"
   },
   {
    "duration": 26,
    "start_time": "2024-08-20T21:28:28.041Z"
   },
   {
    "duration": 242,
    "start_time": "2024-08-20T21:28:28.073Z"
   },
   {
    "duration": 186,
    "start_time": "2024-08-20T21:28:28.319Z"
   },
   {
    "duration": 50,
    "start_time": "2024-08-20T21:28:28.513Z"
   },
   {
    "duration": 67,
    "start_time": "2024-08-20T21:28:28.567Z"
   },
   {
    "duration": 9,
    "start_time": "2024-08-20T21:28:28.637Z"
   },
   {
    "duration": 87,
    "start_time": "2024-08-20T21:28:28.649Z"
   },
   {
    "duration": 17,
    "start_time": "2024-08-20T21:28:28.740Z"
   },
   {
    "duration": 19,
    "start_time": "2024-08-20T21:28:28.760Z"
   },
   {
    "duration": 6,
    "start_time": "2024-08-20T21:28:28.814Z"
   },
   {
    "duration": 18,
    "start_time": "2024-08-20T21:28:28.824Z"
   },
   {
    "duration": 8,
    "start_time": "2024-08-20T21:28:28.845Z"
   },
   {
    "duration": 1806,
    "start_time": "2024-08-20T21:28:28.856Z"
   },
   {
    "duration": 306,
    "start_time": "2024-08-20T21:28:30.665Z"
   },
   {
    "duration": 55,
    "start_time": "2024-08-20T21:28:30.977Z"
   },
   {
    "duration": 22,
    "start_time": "2024-08-20T21:28:31.036Z"
   },
   {
    "duration": 51,
    "start_time": "2024-08-20T21:28:31.061Z"
   },
   {
    "duration": 28,
    "start_time": "2024-08-20T21:28:31.116Z"
   },
   {
    "duration": 87,
    "start_time": "2024-08-20T21:28:31.147Z"
   },
   {
    "duration": 38,
    "start_time": "2024-08-20T21:28:31.242Z"
   },
   {
    "duration": 7,
    "start_time": "2024-08-20T21:28:31.284Z"
   },
   {
    "duration": 46,
    "start_time": "2024-08-20T21:28:31.314Z"
   },
   {
    "duration": 88,
    "start_time": "2024-08-20T21:28:31.365Z"
   },
   {
    "duration": 17,
    "start_time": "2024-08-20T21:28:31.457Z"
   },
   {
    "duration": 36,
    "start_time": "2024-08-20T21:28:31.479Z"
   },
   {
    "duration": 72,
    "start_time": "2024-08-20T21:28:31.525Z"
   },
   {
    "duration": 53,
    "start_time": "2024-08-20T21:28:31.600Z"
   },
   {
    "duration": 71,
    "start_time": "2024-08-20T21:28:31.656Z"
   },
   {
    "duration": 395,
    "start_time": "2024-08-20T21:28:31.730Z"
   },
   {
    "duration": 239,
    "start_time": "2024-08-20T21:28:32.129Z"
   },
   {
    "duration": 415,
    "start_time": "2024-08-20T21:28:32.373Z"
   },
   {
    "duration": 153,
    "start_time": "2024-08-20T21:28:32.796Z"
   },
   {
    "duration": 88,
    "start_time": "2024-08-20T21:30:01.140Z"
   },
   {
    "duration": 154,
    "start_time": "2024-08-20T21:30:27.710Z"
   },
   {
    "duration": 101,
    "start_time": "2024-08-20T21:31:17.965Z"
   },
   {
    "duration": 89,
    "start_time": "2024-08-20T21:33:20.228Z"
   },
   {
    "duration": 101,
    "start_time": "2024-08-20T21:33:32.390Z"
   },
   {
    "duration": 117,
    "start_time": "2024-08-20T21:34:23.307Z"
   },
   {
    "duration": 100,
    "start_time": "2024-08-20T21:34:41.547Z"
   },
   {
    "duration": 34,
    "start_time": "2024-08-20T21:36:01.830Z"
   },
   {
    "duration": 40,
    "start_time": "2024-08-20T21:36:22.411Z"
   },
   {
    "duration": 41,
    "start_time": "2024-08-20T21:41:04.574Z"
   },
   {
    "duration": 837,
    "start_time": "2024-08-20T21:42:10.379Z"
   },
   {
    "duration": 44,
    "start_time": "2024-08-20T21:42:58.861Z"
   },
   {
    "duration": 652,
    "start_time": "2024-08-20T21:43:40.610Z"
   },
   {
    "duration": 144,
    "start_time": "2024-08-20T21:44:29.563Z"
   },
   {
    "duration": 532,
    "start_time": "2024-08-20T21:45:43.289Z"
   },
   {
    "duration": 316,
    "start_time": "2024-08-21T15:43:54.727Z"
   },
   {
    "duration": 4283,
    "start_time": "2024-08-21T15:44:02.056Z"
   },
   {
    "duration": 1670,
    "start_time": "2024-08-21T15:44:06.343Z"
   },
   {
    "duration": 18,
    "start_time": "2024-08-21T15:44:08.016Z"
   },
   {
    "duration": 9,
    "start_time": "2024-08-21T15:44:08.037Z"
   },
   {
    "duration": 8,
    "start_time": "2024-08-21T15:44:08.051Z"
   },
   {
    "duration": 7,
    "start_time": "2024-08-21T15:44:08.063Z"
   },
   {
    "duration": 9,
    "start_time": "2024-08-21T15:44:08.074Z"
   },
   {
    "duration": 375,
    "start_time": "2024-08-21T15:44:08.135Z"
   },
   {
    "duration": 30,
    "start_time": "2024-08-21T15:44:08.514Z"
   },
   {
    "duration": 210,
    "start_time": "2024-08-21T15:44:08.547Z"
   },
   {
    "duration": 167,
    "start_time": "2024-08-21T15:44:08.761Z"
   },
   {
    "duration": 44,
    "start_time": "2024-08-21T15:44:08.935Z"
   },
   {
    "duration": 58,
    "start_time": "2024-08-21T15:44:08.985Z"
   },
   {
    "duration": 5,
    "start_time": "2024-08-21T15:44:09.050Z"
   },
   {
    "duration": 73,
    "start_time": "2024-08-21T15:44:09.061Z"
   },
   {
    "duration": 16,
    "start_time": "2024-08-21T15:44:09.137Z"
   },
   {
    "duration": 18,
    "start_time": "2024-08-21T15:44:09.157Z"
   },
   {
    "duration": 5,
    "start_time": "2024-08-21T15:44:09.179Z"
   },
   {
    "duration": 60,
    "start_time": "2024-08-21T15:44:09.187Z"
   },
   {
    "duration": 8,
    "start_time": "2024-08-21T15:44:09.250Z"
   },
   {
    "duration": 1652,
    "start_time": "2024-08-21T15:44:09.261Z"
   },
   {
    "duration": 257,
    "start_time": "2024-08-21T15:44:10.916Z"
   },
   {
    "duration": 40,
    "start_time": "2024-08-21T15:44:11.176Z"
   },
   {
    "duration": 20,
    "start_time": "2024-08-21T15:44:11.234Z"
   },
   {
    "duration": 17,
    "start_time": "2024-08-21T15:44:11.257Z"
   },
   {
    "duration": 59,
    "start_time": "2024-08-21T15:44:11.278Z"
   },
   {
    "duration": 49,
    "start_time": "2024-08-21T15:44:11.340Z"
   },
   {
    "duration": 63,
    "start_time": "2024-08-21T15:44:11.392Z"
   },
   {
    "duration": 6,
    "start_time": "2024-08-21T15:44:11.458Z"
   },
   {
    "duration": 74,
    "start_time": "2024-08-21T15:44:11.467Z"
   },
   {
    "duration": 48,
    "start_time": "2024-08-21T15:44:11.544Z"
   },
   {
    "duration": 44,
    "start_time": "2024-08-21T15:44:11.595Z"
   },
   {
    "duration": 9,
    "start_time": "2024-08-21T15:44:11.646Z"
   },
   {
    "duration": 87,
    "start_time": "2024-08-21T15:44:11.660Z"
   },
   {
    "duration": 42,
    "start_time": "2024-08-21T15:44:11.750Z"
   },
   {
    "duration": 62,
    "start_time": "2024-08-21T15:44:11.794Z"
   },
   {
    "duration": 379,
    "start_time": "2024-08-21T15:44:11.859Z"
   },
   {
    "duration": 217,
    "start_time": "2024-08-21T15:44:12.241Z"
   },
   {
    "duration": 379,
    "start_time": "2024-08-21T15:44:12.461Z"
   },
   {
    "duration": 483,
    "start_time": "2024-08-21T15:44:12.844Z"
   },
   {
    "duration": 19,
    "start_time": "2024-08-21T15:44:13.338Z"
   },
   {
    "duration": 18,
    "start_time": "2024-08-21T15:44:32.983Z"
   },
   {
    "duration": 32,
    "start_time": "2024-08-21T15:44:56.386Z"
   },
   {
    "duration": 32,
    "start_time": "2024-08-21T15:45:13.693Z"
   },
   {
    "duration": 32,
    "start_time": "2024-08-21T15:45:20.817Z"
   },
   {
    "duration": 42,
    "start_time": "2024-08-21T15:47:24.461Z"
   },
   {
    "duration": 44,
    "start_time": "2024-08-21T15:47:33.388Z"
   },
   {
    "duration": 195,
    "start_time": "2024-08-21T15:49:32.482Z"
   },
   {
    "duration": 225,
    "start_time": "2024-08-21T15:49:59.073Z"
   },
   {
    "duration": 8,
    "start_time": "2024-08-21T15:50:38.607Z"
   },
   {
    "duration": 1938,
    "start_time": "2024-08-21T15:50:58.470Z"
   },
   {
    "duration": 122,
    "start_time": "2024-08-21T15:51:47.714Z"
   },
   {
    "duration": 116,
    "start_time": "2024-08-21T15:52:29.642Z"
   },
   {
    "duration": 118,
    "start_time": "2024-08-21T15:53:38.816Z"
   },
   {
    "duration": 125,
    "start_time": "2024-08-21T15:55:52.537Z"
   },
   {
    "duration": 65,
    "start_time": "2024-08-21T15:56:49.229Z"
   },
   {
    "duration": 65,
    "start_time": "2024-08-21T15:57:10.319Z"
   },
   {
    "duration": 62,
    "start_time": "2024-08-21T15:57:19.756Z"
   },
   {
    "duration": 1945,
    "start_time": "2024-08-21T15:59:25.566Z"
   },
   {
    "duration": 1732,
    "start_time": "2024-08-21T15:59:53.235Z"
   },
   {
    "duration": 1796,
    "start_time": "2024-08-21T16:00:03.859Z"
   },
   {
    "duration": 1711,
    "start_time": "2024-08-21T16:02:51.133Z"
   },
   {
    "duration": 13,
    "start_time": "2024-08-21T16:14:49.397Z"
   },
   {
    "duration": 384,
    "start_time": "2024-08-21T16:15:31.435Z"
   },
   {
    "duration": 682,
    "start_time": "2024-08-21T16:24:23.508Z"
   },
   {
    "duration": 1232,
    "start_time": "2024-08-21T16:25:14.422Z"
   },
   {
    "duration": 449,
    "start_time": "2024-08-21T16:25:35.724Z"
   },
   {
    "duration": 449,
    "start_time": "2024-08-21T16:26:07.272Z"
   },
   {
    "duration": 474,
    "start_time": "2024-08-21T16:26:26.955Z"
   },
   {
    "duration": 545,
    "start_time": "2024-08-21T16:29:22.270Z"
   },
   {
    "duration": 554,
    "start_time": "2024-08-21T16:29:59.423Z"
   },
   {
    "duration": 1628,
    "start_time": "2024-08-21T16:30:36.352Z"
   },
   {
    "duration": 615,
    "start_time": "2024-08-21T16:31:01.659Z"
   },
   {
    "duration": 479,
    "start_time": "2024-08-21T16:31:25.931Z"
   },
   {
    "duration": 1418,
    "start_time": "2024-08-21T16:31:39.907Z"
   },
   {
    "duration": 1296,
    "start_time": "2024-08-21T16:31:55.840Z"
   },
   {
    "duration": 1457,
    "start_time": "2024-08-21T16:32:15.483Z"
   },
   {
    "duration": 1432,
    "start_time": "2024-08-21T16:33:13.542Z"
   },
   {
    "duration": 1313,
    "start_time": "2024-08-21T16:33:27.161Z"
   },
   {
    "duration": 561,
    "start_time": "2024-08-21T16:34:19.810Z"
   },
   {
    "duration": 548,
    "start_time": "2024-08-21T16:36:58.057Z"
   },
   {
    "duration": 563,
    "start_time": "2024-08-21T16:37:42.021Z"
   },
   {
    "duration": 548,
    "start_time": "2024-08-21T16:38:57.310Z"
   },
   {
    "duration": 524,
    "start_time": "2024-08-21T16:42:59.844Z"
   },
   {
    "duration": 574,
    "start_time": "2024-08-21T16:43:39.237Z"
   },
   {
    "duration": 548,
    "start_time": "2024-08-21T16:46:32.396Z"
   },
   {
    "duration": 560,
    "start_time": "2024-08-21T16:47:38.758Z"
   },
   {
    "duration": 551,
    "start_time": "2024-08-21T16:48:00.225Z"
   },
   {
    "duration": 534,
    "start_time": "2024-08-21T16:49:10.633Z"
   },
   {
    "duration": 566,
    "start_time": "2024-08-21T16:49:54.838Z"
   },
   {
    "duration": 20,
    "start_time": "2024-08-21T16:51:31.970Z"
   },
   {
    "duration": 581,
    "start_time": "2024-08-21T16:52:35.921Z"
   },
   {
    "duration": 22,
    "start_time": "2024-08-21T16:54:26.272Z"
   },
   {
    "duration": 581,
    "start_time": "2024-08-21T16:55:37.696Z"
   },
   {
    "duration": 4373,
    "start_time": "2024-08-21T18:32:45.972Z"
   },
   {
    "duration": 1715,
    "start_time": "2024-08-21T18:32:50.350Z"
   },
   {
    "duration": 13,
    "start_time": "2024-08-21T18:32:52.068Z"
   },
   {
    "duration": 25,
    "start_time": "2024-08-21T18:32:52.084Z"
   },
   {
    "duration": 9,
    "start_time": "2024-08-21T18:32:52.115Z"
   },
   {
    "duration": 7,
    "start_time": "2024-08-21T18:32:52.127Z"
   },
   {
    "duration": 11,
    "start_time": "2024-08-21T18:32:52.137Z"
   },
   {
    "duration": 451,
    "start_time": "2024-08-21T18:32:52.150Z"
   },
   {
    "duration": 21,
    "start_time": "2024-08-21T18:32:52.605Z"
   },
   {
    "duration": 205,
    "start_time": "2024-08-21T18:32:52.629Z"
   },
   {
    "duration": 173,
    "start_time": "2024-08-21T18:32:52.837Z"
   },
   {
    "duration": 45,
    "start_time": "2024-08-21T18:32:53.013Z"
   },
   {
    "duration": 64,
    "start_time": "2024-08-21T18:32:53.061Z"
   },
   {
    "duration": 6,
    "start_time": "2024-08-21T18:32:53.132Z"
   },
   {
    "duration": 88,
    "start_time": "2024-08-21T18:32:53.142Z"
   },
   {
    "duration": 17,
    "start_time": "2024-08-21T18:32:53.234Z"
   },
   {
    "duration": 51,
    "start_time": "2024-08-21T18:32:53.256Z"
   },
   {
    "duration": 6,
    "start_time": "2024-08-21T18:32:53.310Z"
   },
   {
    "duration": 22,
    "start_time": "2024-08-21T18:32:53.319Z"
   },
   {
    "duration": 5,
    "start_time": "2024-08-21T18:32:53.347Z"
   },
   {
    "duration": 1751,
    "start_time": "2024-08-21T18:32:53.355Z"
   },
   {
    "duration": 300,
    "start_time": "2024-08-21T18:32:55.110Z"
   },
   {
    "duration": 43,
    "start_time": "2024-08-21T18:32:55.414Z"
   },
   {
    "duration": 45,
    "start_time": "2024-08-21T18:32:55.460Z"
   },
   {
    "duration": 16,
    "start_time": "2024-08-21T18:32:55.508Z"
   },
   {
    "duration": 29,
    "start_time": "2024-08-21T18:32:55.528Z"
   },
   {
    "duration": 87,
    "start_time": "2024-08-21T18:32:55.561Z"
   },
   {
    "duration": 51,
    "start_time": "2024-08-21T18:32:55.651Z"
   },
   {
    "duration": 7,
    "start_time": "2024-08-21T18:32:55.705Z"
   },
   {
    "duration": 87,
    "start_time": "2024-08-21T18:32:55.715Z"
   },
   {
    "duration": 55,
    "start_time": "2024-08-21T18:32:55.806Z"
   },
   {
    "duration": 46,
    "start_time": "2024-08-21T18:32:55.864Z"
   },
   {
    "duration": 9,
    "start_time": "2024-08-21T18:32:55.914Z"
   },
   {
    "duration": 109,
    "start_time": "2024-08-21T18:32:55.927Z"
   },
   {
    "duration": 41,
    "start_time": "2024-08-21T18:32:56.039Z"
   },
   {
    "duration": 38,
    "start_time": "2024-08-21T18:32:56.103Z"
   },
   {
    "duration": 405,
    "start_time": "2024-08-21T18:32:56.144Z"
   },
   {
    "duration": 217,
    "start_time": "2024-08-21T18:32:56.553Z"
   },
   {
    "duration": 412,
    "start_time": "2024-08-21T18:32:56.773Z"
   },
   {
    "duration": 485,
    "start_time": "2024-08-21T18:32:57.189Z"
   },
   {
    "duration": 1810,
    "start_time": "2024-08-21T18:32:57.682Z"
   },
   {
    "duration": 686,
    "start_time": "2024-08-21T18:32:59.502Z"
   },
   {
    "duration": 1475,
    "start_time": "2024-08-21T18:33:00.192Z"
   },
   {
    "duration": 11,
    "start_time": "2024-08-21T18:34:58.338Z"
   },
   {
    "duration": 7,
    "start_time": "2024-08-21T18:35:03.083Z"
   },
   {
    "duration": 564,
    "start_time": "2024-08-21T18:35:14.487Z"
   },
   {
    "duration": 21,
    "start_time": "2024-08-21T18:35:46.538Z"
   },
   {
    "duration": 93,
    "start_time": "2024-08-21T18:36:33.930Z"
   },
   {
    "duration": 71,
    "start_time": "2024-08-21T18:36:57.420Z"
   },
   {
    "duration": 22,
    "start_time": "2024-08-21T18:37:12.100Z"
   },
   {
    "duration": 348,
    "start_time": "2024-08-21T18:37:26.562Z"
   },
   {
    "duration": 25,
    "start_time": "2024-08-21T18:38:09.907Z"
   },
   {
    "duration": 32,
    "start_time": "2024-08-21T18:39:06.074Z"
   },
   {
    "duration": 563,
    "start_time": "2024-08-21T18:43:06.329Z"
   },
   {
    "duration": 26,
    "start_time": "2024-08-21T18:44:08.989Z"
   },
   {
    "duration": 22,
    "start_time": "2024-08-21T18:44:24.544Z"
   },
   {
    "duration": 6,
    "start_time": "2024-08-21T18:45:38.611Z"
   },
   {
    "duration": 23,
    "start_time": "2024-08-21T18:45:46.599Z"
   },
   {
    "duration": 42,
    "start_time": "2024-08-21T18:46:23.825Z"
   },
   {
    "duration": 37,
    "start_time": "2024-08-21T18:47:19.453Z"
   },
   {
    "duration": 8,
    "start_time": "2024-08-21T18:49:09.087Z"
   },
   {
    "duration": 35,
    "start_time": "2024-08-21T18:49:25.807Z"
   },
   {
    "duration": 35,
    "start_time": "2024-08-21T18:49:37.903Z"
   },
   {
    "duration": 8,
    "start_time": "2024-08-21T18:59:51.035Z"
   },
   {
    "duration": 577,
    "start_time": "2024-08-21T19:02:35.015Z"
   },
   {
    "duration": 559,
    "start_time": "2024-08-21T19:03:17.400Z"
   },
   {
    "duration": 527,
    "start_time": "2024-08-21T19:04:17.462Z"
   },
   {
    "duration": 552,
    "start_time": "2024-08-21T19:06:22.824Z"
   },
   {
    "duration": 583,
    "start_time": "2024-08-21T19:07:10.863Z"
   },
   {
    "duration": 612,
    "start_time": "2024-08-21T19:08:29.636Z"
   },
   {
    "duration": 572,
    "start_time": "2024-08-21T19:08:50.376Z"
   },
   {
    "duration": 1470,
    "start_time": "2024-08-21T19:09:08.860Z"
   },
   {
    "duration": 12,
    "start_time": "2024-08-21T19:20:10.270Z"
   },
   {
    "duration": 332,
    "start_time": "2024-08-21T19:20:19.264Z"
   },
   {
    "duration": 415,
    "start_time": "2024-08-21T19:20:34.467Z"
   },
   {
    "duration": 460,
    "start_time": "2024-08-21T19:23:29.426Z"
   },
   {
    "duration": 408,
    "start_time": "2024-08-21T19:23:44.135Z"
   },
   {
    "duration": 436,
    "start_time": "2024-08-21T19:23:58.058Z"
   },
   {
    "duration": 132,
    "start_time": "2024-08-21T19:25:45.679Z"
   },
   {
    "duration": 34,
    "start_time": "2024-08-21T19:26:35.387Z"
   },
   {
    "duration": 22,
    "start_time": "2024-08-21T19:28:15.220Z"
   },
   {
    "duration": 21,
    "start_time": "2024-08-21T19:29:11.639Z"
   },
   {
    "duration": 31,
    "start_time": "2024-08-21T19:30:12.921Z"
   },
   {
    "duration": 33,
    "start_time": "2024-08-21T19:30:35.222Z"
   },
   {
    "duration": 8,
    "start_time": "2024-08-21T19:47:35.870Z"
   },
   {
    "duration": 26,
    "start_time": "2024-08-21T19:50:39.843Z"
   },
   {
    "duration": 9,
    "start_time": "2024-08-21T19:50:48.797Z"
   },
   {
    "duration": 175,
    "start_time": "2024-08-21T19:51:08.976Z"
   },
   {
    "duration": 10,
    "start_time": "2024-08-21T20:05:01.276Z"
   },
   {
    "duration": 13,
    "start_time": "2024-08-21T20:05:45.896Z"
   },
   {
    "duration": 60,
    "start_time": "2024-08-21T20:09:28.208Z"
   },
   {
    "duration": 57,
    "start_time": "2024-08-21T20:09:50.403Z"
   },
   {
    "duration": 1430,
    "start_time": "2024-08-21T20:12:06.897Z"
   },
   {
    "duration": 225,
    "start_time": "2024-08-21T20:13:35.838Z"
   },
   {
    "duration": 8,
    "start_time": "2024-08-21T20:14:42.954Z"
   },
   {
    "duration": 27,
    "start_time": "2024-08-21T20:16:13.707Z"
   },
   {
    "duration": 27,
    "start_time": "2024-08-21T20:16:29.408Z"
   },
   {
    "duration": 82,
    "start_time": "2024-08-21T20:16:39.634Z"
   },
   {
    "duration": 48,
    "start_time": "2024-08-21T20:16:55.320Z"
   },
   {
    "duration": 34,
    "start_time": "2024-08-21T20:19:15.055Z"
   },
   {
    "duration": 39,
    "start_time": "2024-08-21T20:20:11.895Z"
   },
   {
    "duration": 36,
    "start_time": "2024-08-21T20:20:24.762Z"
   },
   {
    "duration": 35,
    "start_time": "2024-08-21T20:21:51.730Z"
   },
   {
    "duration": 41,
    "start_time": "2024-08-21T20:23:48.076Z"
   },
   {
    "duration": 12,
    "start_time": "2024-08-22T21:20:47.529Z"
   },
   {
    "duration": 8,
    "start_time": "2024-08-22T21:28:35.952Z"
   },
   {
    "duration": 176,
    "start_time": "2024-08-30T15:31:27.063Z"
   },
   {
    "duration": 2126,
    "start_time": "2024-08-30T15:31:40.256Z"
   },
   {
    "duration": 1017,
    "start_time": "2024-08-30T15:31:42.384Z"
   },
   {
    "duration": 16,
    "start_time": "2024-08-30T15:31:43.402Z"
   },
   {
    "duration": 6,
    "start_time": "2024-08-30T15:31:43.420Z"
   },
   {
    "duration": 4,
    "start_time": "2024-08-30T15:31:43.428Z"
   },
   {
    "duration": 4,
    "start_time": "2024-08-30T15:31:43.434Z"
   },
   {
    "duration": 33,
    "start_time": "2024-08-30T15:31:43.439Z"
   },
   {
    "duration": 210,
    "start_time": "2024-08-30T15:31:43.474Z"
   },
   {
    "duration": 11,
    "start_time": "2024-08-30T15:31:43.686Z"
   },
   {
    "duration": 120,
    "start_time": "2024-08-30T15:31:43.701Z"
   },
   {
    "duration": 90,
    "start_time": "2024-08-30T15:31:43.824Z"
   },
   {
    "duration": 28,
    "start_time": "2024-08-30T15:31:43.916Z"
   },
   {
    "duration": 34,
    "start_time": "2024-08-30T15:31:43.945Z"
   },
   {
    "duration": 4,
    "start_time": "2024-08-30T15:31:43.980Z"
   },
   {
    "duration": 28,
    "start_time": "2024-08-30T15:31:43.986Z"
   },
   {
    "duration": 8,
    "start_time": "2024-08-30T15:31:44.015Z"
   },
   {
    "duration": 10,
    "start_time": "2024-08-30T15:31:44.024Z"
   },
   {
    "duration": 3,
    "start_time": "2024-08-30T15:31:44.035Z"
   },
   {
    "duration": 10,
    "start_time": "2024-08-30T15:31:44.071Z"
   },
   {
    "duration": 3,
    "start_time": "2024-08-30T15:31:44.082Z"
   },
   {
    "duration": 968,
    "start_time": "2024-08-30T15:31:44.087Z"
   },
   {
    "duration": 82,
    "start_time": "2024-08-30T15:31:45.057Z"
   },
   {
    "duration": 22,
    "start_time": "2024-08-30T15:31:45.141Z"
   },
   {
    "duration": 12,
    "start_time": "2024-08-30T15:31:45.170Z"
   },
   {
    "duration": 8,
    "start_time": "2024-08-30T15:31:45.183Z"
   },
   {
    "duration": 15,
    "start_time": "2024-08-30T15:31:45.193Z"
   },
   {
    "duration": 25,
    "start_time": "2024-08-30T15:31:45.210Z"
   },
   {
    "duration": 43,
    "start_time": "2024-08-30T15:31:45.239Z"
   },
   {
    "duration": 4,
    "start_time": "2024-08-30T15:31:45.283Z"
   },
   {
    "duration": 27,
    "start_time": "2024-08-30T15:31:45.288Z"
   },
   {
    "duration": 58,
    "start_time": "2024-08-30T15:31:45.317Z"
   },
   {
    "duration": 9,
    "start_time": "2024-08-30T15:31:45.377Z"
   },
   {
    "duration": 4,
    "start_time": "2024-08-30T15:31:45.388Z"
   },
   {
    "duration": 39,
    "start_time": "2024-08-30T15:31:45.394Z"
   },
   {
    "duration": 51,
    "start_time": "2024-08-30T15:31:45.435Z"
   },
   {
    "duration": 21,
    "start_time": "2024-08-30T15:31:45.488Z"
   },
   {
    "duration": 204,
    "start_time": "2024-08-30T15:31:45.511Z"
   },
   {
    "duration": 111,
    "start_time": "2024-08-30T15:31:45.719Z"
   },
   {
    "duration": 234,
    "start_time": "2024-08-30T15:31:45.833Z"
   },
   {
    "duration": 213,
    "start_time": "2024-08-30T15:31:46.070Z"
   },
   {
    "duration": 1052,
    "start_time": "2024-08-30T15:31:46.284Z"
   },
   {
    "duration": 320,
    "start_time": "2024-08-30T15:31:47.339Z"
   },
   {
    "duration": 19,
    "start_time": "2024-08-30T15:31:47.661Z"
   },
   {
    "duration": 17,
    "start_time": "2024-08-30T15:31:47.682Z"
   },
   {
    "duration": 307,
    "start_time": "2024-08-30T15:31:47.700Z"
   },
   {
    "duration": 833,
    "start_time": "2024-08-30T15:31:48.009Z"
   },
   {
    "duration": 176,
    "start_time": "2024-08-30T15:31:48.845Z"
   },
   {
    "duration": 77,
    "start_time": "2024-08-30T15:31:49.023Z"
   },
   {
    "duration": 15,
    "start_time": "2024-08-30T15:31:49.102Z"
   },
   {
    "duration": 17,
    "start_time": "2024-08-30T15:31:49.119Z"
   },
   {
    "duration": 126,
    "start_time": "2024-08-30T15:31:49.138Z"
   },
   {
    "duration": 652,
    "start_time": "2024-08-30T15:31:49.266Z"
   },
   {
    "duration": 108,
    "start_time": "2024-08-30T15:31:49.920Z"
   },
   {
    "duration": 28,
    "start_time": "2024-08-30T15:31:50.030Z"
   },
   {
    "duration": 25,
    "start_time": "2024-08-30T15:31:50.070Z"
   },
   {
    "duration": 18,
    "start_time": "2024-08-30T15:32:29.025Z"
   },
   {
    "duration": 12,
    "start_time": "2024-08-30T15:34:19.013Z"
   },
   {
    "duration": 12,
    "start_time": "2024-08-30T15:34:34.962Z"
   },
   {
    "duration": 10,
    "start_time": "2024-08-30T15:34:45.393Z"
   },
   {
    "duration": 10,
    "start_time": "2024-08-30T15:34:58.684Z"
   },
   {
    "duration": 97,
    "start_time": "2024-08-30T15:35:04.446Z"
   },
   {
    "duration": 457,
    "start_time": "2024-08-30T15:42:04.898Z"
   },
   {
    "duration": 899,
    "start_time": "2024-08-30T15:42:05.358Z"
   },
   {
    "duration": 24,
    "start_time": "2024-08-30T15:42:06.259Z"
   },
   {
    "duration": 11,
    "start_time": "2024-08-30T15:42:06.285Z"
   },
   {
    "duration": 8,
    "start_time": "2024-08-30T15:42:06.299Z"
   },
   {
    "duration": 9,
    "start_time": "2024-08-30T15:42:06.309Z"
   },
   {
    "duration": 146,
    "start_time": "2024-08-30T15:42:06.320Z"
   },
   {
    "duration": 234,
    "start_time": "2024-08-30T15:42:06.470Z"
   },
   {
    "duration": 11,
    "start_time": "2024-08-30T15:42:06.706Z"
   },
   {
    "duration": 126,
    "start_time": "2024-08-30T15:42:06.719Z"
   },
   {
    "duration": 100,
    "start_time": "2024-08-30T15:42:06.847Z"
   },
   {
    "duration": 34,
    "start_time": "2024-08-30T15:42:06.949Z"
   },
   {
    "duration": 19,
    "start_time": "2024-08-30T15:42:06.985Z"
   },
   {
    "duration": 3,
    "start_time": "2024-08-30T15:42:07.008Z"
   },
   {
    "duration": 29,
    "start_time": "2024-08-30T15:42:07.013Z"
   },
   {
    "duration": 33,
    "start_time": "2024-08-30T15:42:07.044Z"
   },
   {
    "duration": 9,
    "start_time": "2024-08-30T15:42:07.080Z"
   },
   {
    "duration": 5,
    "start_time": "2024-08-30T15:42:07.091Z"
   },
   {
    "duration": 10,
    "start_time": "2024-08-30T15:42:07.097Z"
   },
   {
    "duration": 3,
    "start_time": "2024-08-30T15:42:07.108Z"
   },
   {
    "duration": 919,
    "start_time": "2024-08-30T15:42:07.113Z"
   },
   {
    "duration": 81,
    "start_time": "2024-08-30T15:42:08.033Z"
   },
   {
    "duration": 22,
    "start_time": "2024-08-30T15:42:08.117Z"
   },
   {
    "duration": 10,
    "start_time": "2024-08-30T15:42:08.141Z"
   },
   {
    "duration": 24,
    "start_time": "2024-08-30T15:42:08.153Z"
   },
   {
    "duration": 14,
    "start_time": "2024-08-30T15:42:08.179Z"
   },
   {
    "duration": 24,
    "start_time": "2024-08-30T15:42:08.195Z"
   },
   {
    "duration": 17,
    "start_time": "2024-08-30T15:42:08.221Z"
   },
   {
    "duration": 31,
    "start_time": "2024-08-30T15:42:08.239Z"
   },
   {
    "duration": 24,
    "start_time": "2024-08-30T15:42:08.271Z"
   },
   {
    "duration": 29,
    "start_time": "2024-08-30T15:42:08.297Z"
   },
   {
    "duration": 10,
    "start_time": "2024-08-30T15:42:08.328Z"
   },
   {
    "duration": 33,
    "start_time": "2024-08-30T15:42:08.339Z"
   },
   {
    "duration": 37,
    "start_time": "2024-08-30T15:42:08.374Z"
   },
   {
    "duration": 26,
    "start_time": "2024-08-30T15:42:08.412Z"
   },
   {
    "duration": 48,
    "start_time": "2024-08-30T15:42:08.440Z"
   },
   {
    "duration": 201,
    "start_time": "2024-08-30T15:42:08.490Z"
   },
   {
    "duration": 117,
    "start_time": "2024-08-30T15:42:08.692Z"
   },
   {
    "duration": 201,
    "start_time": "2024-08-30T15:42:08.811Z"
   },
   {
    "duration": 218,
    "start_time": "2024-08-30T15:42:09.014Z"
   },
   {
    "duration": 989,
    "start_time": "2024-08-30T15:42:09.236Z"
   },
   {
    "duration": 332,
    "start_time": "2024-08-30T15:42:10.227Z"
   },
   {
    "duration": 20,
    "start_time": "2024-08-30T15:42:10.561Z"
   },
   {
    "duration": 17,
    "start_time": "2024-08-30T15:42:10.583Z"
   },
   {
    "duration": 382,
    "start_time": "2024-08-30T15:42:10.602Z"
   },
   {
    "duration": 847,
    "start_time": "2024-08-30T15:42:10.986Z"
   },
   {
    "duration": 164,
    "start_time": "2024-08-30T15:42:11.835Z"
   },
   {
    "duration": 89,
    "start_time": "2024-08-30T15:42:12.001Z"
   },
   {
    "duration": 15,
    "start_time": "2024-08-30T15:42:12.092Z"
   },
   {
    "duration": 17,
    "start_time": "2024-08-30T15:42:12.108Z"
   },
   {
    "duration": 130,
    "start_time": "2024-08-30T15:42:12.127Z"
   },
   {
    "duration": 677,
    "start_time": "2024-08-30T15:42:12.259Z"
   },
   {
    "duration": 103,
    "start_time": "2024-08-30T15:42:12.938Z"
   },
   {
    "duration": 37,
    "start_time": "2024-08-30T15:42:13.043Z"
   },
   {
    "duration": 25,
    "start_time": "2024-08-30T15:42:13.081Z"
   },
   {
    "duration": 441,
    "start_time": "2024-08-30T15:44:29.680Z"
   },
   {
    "duration": 902,
    "start_time": "2024-08-30T15:44:30.123Z"
   },
   {
    "duration": 19,
    "start_time": "2024-08-30T15:44:31.026Z"
   },
   {
    "duration": 27,
    "start_time": "2024-08-30T15:44:31.046Z"
   },
   {
    "duration": 9,
    "start_time": "2024-08-30T15:44:31.075Z"
   },
   {
    "duration": 9,
    "start_time": "2024-08-30T15:44:31.086Z"
   },
   {
    "duration": 129,
    "start_time": "2024-08-30T15:44:31.097Z"
   },
   {
    "duration": 216,
    "start_time": "2024-08-30T15:44:31.228Z"
   },
   {
    "duration": 24,
    "start_time": "2024-08-30T15:44:31.446Z"
   },
   {
    "duration": 103,
    "start_time": "2024-08-30T15:44:31.471Z"
   },
   {
    "duration": 98,
    "start_time": "2024-08-30T15:44:31.576Z"
   },
   {
    "duration": 26,
    "start_time": "2024-08-30T15:44:31.676Z"
   },
   {
    "duration": 21,
    "start_time": "2024-08-30T15:44:31.704Z"
   },
   {
    "duration": 3,
    "start_time": "2024-08-30T15:44:31.729Z"
   },
   {
    "duration": 50,
    "start_time": "2024-08-30T15:44:31.733Z"
   },
   {
    "duration": 7,
    "start_time": "2024-08-30T15:44:31.785Z"
   },
   {
    "duration": 9,
    "start_time": "2024-08-30T15:44:31.794Z"
   },
   {
    "duration": 3,
    "start_time": "2024-08-30T15:44:31.805Z"
   },
   {
    "duration": 9,
    "start_time": "2024-08-30T15:44:31.810Z"
   },
   {
    "duration": 5,
    "start_time": "2024-08-30T15:44:31.820Z"
   },
   {
    "duration": 853,
    "start_time": "2024-08-30T15:44:31.827Z"
   },
   {
    "duration": 73,
    "start_time": "2024-08-30T15:44:32.682Z"
   },
   {
    "duration": 34,
    "start_time": "2024-08-30T15:44:32.756Z"
   },
   {
    "duration": 10,
    "start_time": "2024-08-30T15:44:32.792Z"
   },
   {
    "duration": 8,
    "start_time": "2024-08-30T15:44:32.804Z"
   },
   {
    "duration": 15,
    "start_time": "2024-08-30T15:44:32.813Z"
   },
   {
    "duration": 52,
    "start_time": "2024-08-30T15:44:32.830Z"
   },
   {
    "duration": 16,
    "start_time": "2024-08-30T15:44:32.884Z"
   },
   {
    "duration": 3,
    "start_time": "2024-08-30T15:44:32.902Z"
   },
   {
    "duration": 25,
    "start_time": "2024-08-30T15:44:32.907Z"
   },
   {
    "duration": 56,
    "start_time": "2024-08-30T15:44:32.933Z"
   },
   {
    "duration": 9,
    "start_time": "2024-08-30T15:44:32.991Z"
   },
   {
    "duration": 5,
    "start_time": "2024-08-30T15:44:33.002Z"
   },
   {
    "duration": 62,
    "start_time": "2024-08-30T15:44:33.009Z"
   },
   {
    "duration": 26,
    "start_time": "2024-08-30T15:44:33.073Z"
   },
   {
    "duration": 21,
    "start_time": "2024-08-30T15:44:33.101Z"
   },
   {
    "duration": 215,
    "start_time": "2024-08-30T15:44:33.124Z"
   },
   {
    "duration": 115,
    "start_time": "2024-08-30T15:44:33.341Z"
   },
   {
    "duration": 214,
    "start_time": "2024-08-30T15:44:33.457Z"
   },
   {
    "duration": 222,
    "start_time": "2024-08-30T15:44:33.673Z"
   },
   {
    "duration": 1008,
    "start_time": "2024-08-30T15:44:33.899Z"
   },
   {
    "duration": 335,
    "start_time": "2024-08-30T15:44:34.908Z"
   },
   {
    "duration": 17,
    "start_time": "2024-08-30T15:44:35.245Z"
   },
   {
    "duration": 21,
    "start_time": "2024-08-30T15:44:35.269Z"
   },
   {
    "duration": 355,
    "start_time": "2024-08-30T15:44:35.292Z"
   },
   {
    "duration": 851,
    "start_time": "2024-08-30T15:44:35.649Z"
   },
   {
    "duration": 191,
    "start_time": "2024-08-30T15:44:36.502Z"
   },
   {
    "duration": 88,
    "start_time": "2024-08-30T15:44:36.695Z"
   },
   {
    "duration": 16,
    "start_time": "2024-08-30T15:44:36.785Z"
   },
   {
    "duration": 17,
    "start_time": "2024-08-30T15:44:36.803Z"
   },
   {
    "duration": 135,
    "start_time": "2024-08-30T15:44:36.821Z"
   },
   {
    "duration": 716,
    "start_time": "2024-08-30T15:44:36.958Z"
   },
   {
    "duration": 111,
    "start_time": "2024-08-30T15:44:37.676Z"
   },
   {
    "duration": 28,
    "start_time": "2024-08-30T15:44:37.789Z"
   },
   {
    "duration": 24,
    "start_time": "2024-08-30T15:44:37.819Z"
   },
   {
    "duration": 422,
    "start_time": "2024-08-30T15:45:58.425Z"
   },
   {
    "duration": 910,
    "start_time": "2024-08-30T15:45:58.849Z"
   },
   {
    "duration": 23,
    "start_time": "2024-08-30T15:45:59.761Z"
   },
   {
    "duration": 12,
    "start_time": "2024-08-30T15:45:59.785Z"
   },
   {
    "duration": 9,
    "start_time": "2024-08-30T15:45:59.800Z"
   },
   {
    "duration": 9,
    "start_time": "2024-08-30T15:45:59.810Z"
   },
   {
    "duration": 136,
    "start_time": "2024-08-30T15:45:59.820Z"
   },
   {
    "duration": 224,
    "start_time": "2024-08-30T15:45:59.958Z"
   },
   {
    "duration": 12,
    "start_time": "2024-08-30T15:46:00.184Z"
   },
   {
    "duration": 117,
    "start_time": "2024-08-30T15:46:00.198Z"
   },
   {
    "duration": 96,
    "start_time": "2024-08-30T15:46:00.316Z"
   },
   {
    "duration": 28,
    "start_time": "2024-08-30T15:46:00.414Z"
   },
   {
    "duration": 33,
    "start_time": "2024-08-30T15:46:00.444Z"
   },
   {
    "duration": 4,
    "start_time": "2024-08-30T15:46:00.480Z"
   },
   {
    "duration": 28,
    "start_time": "2024-08-30T15:46:00.486Z"
   },
   {
    "duration": 7,
    "start_time": "2024-08-30T15:46:00.516Z"
   },
   {
    "duration": 10,
    "start_time": "2024-08-30T15:46:00.525Z"
   },
   {
    "duration": 34,
    "start_time": "2024-08-30T15:46:00.538Z"
   },
   {
    "duration": 10,
    "start_time": "2024-08-30T15:46:00.573Z"
   },
   {
    "duration": 3,
    "start_time": "2024-08-30T15:46:00.584Z"
   },
   {
    "duration": 865,
    "start_time": "2024-08-30T15:46:00.589Z"
   },
   {
    "duration": 80,
    "start_time": "2024-08-30T15:46:01.456Z"
   },
   {
    "duration": 22,
    "start_time": "2024-08-30T15:46:01.538Z"
   },
   {
    "duration": 10,
    "start_time": "2024-08-30T15:46:01.570Z"
   },
   {
    "duration": 8,
    "start_time": "2024-08-30T15:46:01.582Z"
   },
   {
    "duration": 14,
    "start_time": "2024-08-30T15:46:01.591Z"
   },
   {
    "duration": 26,
    "start_time": "2024-08-30T15:46:01.606Z"
   },
   {
    "duration": 48,
    "start_time": "2024-08-30T15:46:01.634Z"
   },
   {
    "duration": 4,
    "start_time": "2024-08-30T15:46:01.684Z"
   },
   {
    "duration": 26,
    "start_time": "2024-08-30T15:46:01.689Z"
   },
   {
    "duration": 54,
    "start_time": "2024-08-30T15:46:01.716Z"
   },
   {
    "duration": 11,
    "start_time": "2024-08-30T15:46:01.772Z"
   },
   {
    "duration": 4,
    "start_time": "2024-08-30T15:46:01.784Z"
   },
   {
    "duration": 37,
    "start_time": "2024-08-30T15:46:01.790Z"
   },
   {
    "duration": 51,
    "start_time": "2024-08-30T15:46:01.829Z"
   },
   {
    "duration": 22,
    "start_time": "2024-08-30T15:46:01.881Z"
   },
   {
    "duration": 200,
    "start_time": "2024-08-30T15:46:01.905Z"
   },
   {
    "duration": 115,
    "start_time": "2024-08-30T15:46:02.107Z"
   },
   {
    "duration": 210,
    "start_time": "2024-08-30T15:46:02.224Z"
   },
   {
    "duration": 220,
    "start_time": "2024-08-30T15:46:02.436Z"
   },
   {
    "duration": 979,
    "start_time": "2024-08-30T15:46:02.669Z"
   },
   {
    "duration": 325,
    "start_time": "2024-08-30T15:46:03.650Z"
   },
   {
    "duration": 15,
    "start_time": "2024-08-30T15:46:03.977Z"
   },
   {
    "duration": 18,
    "start_time": "2024-08-30T15:46:03.993Z"
   },
   {
    "duration": 366,
    "start_time": "2024-08-30T15:46:04.012Z"
   },
   {
    "duration": 843,
    "start_time": "2024-08-30T15:46:04.380Z"
   },
   {
    "duration": 190,
    "start_time": "2024-08-30T15:46:05.225Z"
   },
   {
    "duration": 89,
    "start_time": "2024-08-30T15:46:05.417Z"
   },
   {
    "duration": 21,
    "start_time": "2024-08-30T15:46:05.509Z"
   },
   {
    "duration": 20,
    "start_time": "2024-08-30T15:46:05.531Z"
   },
   {
    "duration": 135,
    "start_time": "2024-08-30T15:46:05.553Z"
   },
   {
    "duration": 713,
    "start_time": "2024-08-30T15:46:05.689Z"
   },
   {
    "duration": 112,
    "start_time": "2024-08-30T15:46:06.404Z"
   },
   {
    "duration": 33,
    "start_time": "2024-08-30T15:46:06.518Z"
   },
   {
    "duration": 39,
    "start_time": "2024-08-30T15:46:06.553Z"
   },
   {
    "duration": 413,
    "start_time": "2024-08-30T15:47:15.042Z"
   },
   {
    "duration": 910,
    "start_time": "2024-08-30T15:47:15.457Z"
   },
   {
    "duration": 19,
    "start_time": "2024-08-30T15:47:16.370Z"
   },
   {
    "duration": 12,
    "start_time": "2024-08-30T15:47:16.391Z"
   },
   {
    "duration": 9,
    "start_time": "2024-08-30T15:47:16.404Z"
   },
   {
    "duration": 9,
    "start_time": "2024-08-30T15:47:16.415Z"
   },
   {
    "duration": 151,
    "start_time": "2024-08-30T15:47:16.426Z"
   },
   {
    "duration": 225,
    "start_time": "2024-08-30T15:47:16.579Z"
   },
   {
    "duration": 12,
    "start_time": "2024-08-30T15:47:16.805Z"
   },
   {
    "duration": 115,
    "start_time": "2024-08-30T15:47:16.820Z"
   },
   {
    "duration": 97,
    "start_time": "2024-08-30T15:47:16.937Z"
   },
   {
    "duration": 26,
    "start_time": "2024-08-30T15:47:17.036Z"
   },
   {
    "duration": 23,
    "start_time": "2024-08-30T15:47:17.071Z"
   },
   {
    "duration": 4,
    "start_time": "2024-08-30T15:47:17.096Z"
   },
   {
    "duration": 28,
    "start_time": "2024-08-30T15:47:17.102Z"
   },
   {
    "duration": 7,
    "start_time": "2024-08-30T15:47:17.132Z"
   },
   {
    "duration": 40,
    "start_time": "2024-08-30T15:47:17.141Z"
   },
   {
    "duration": 4,
    "start_time": "2024-08-30T15:47:17.183Z"
   },
   {
    "duration": 11,
    "start_time": "2024-08-30T15:47:17.188Z"
   },
   {
    "duration": 3,
    "start_time": "2024-08-30T15:47:17.201Z"
   },
   {
    "duration": 877,
    "start_time": "2024-08-30T15:47:17.205Z"
   },
   {
    "duration": 73,
    "start_time": "2024-08-30T15:47:18.084Z"
   },
   {
    "duration": 22,
    "start_time": "2024-08-30T15:47:18.169Z"
   },
   {
    "duration": 12,
    "start_time": "2024-08-30T15:47:18.192Z"
   },
   {
    "duration": 8,
    "start_time": "2024-08-30T15:47:18.206Z"
   },
   {
    "duration": 14,
    "start_time": "2024-08-30T15:47:18.215Z"
   },
   {
    "duration": 53,
    "start_time": "2024-08-30T15:47:18.231Z"
   },
   {
    "duration": 16,
    "start_time": "2024-08-30T15:47:18.289Z"
   },
   {
    "duration": 4,
    "start_time": "2024-08-30T15:47:18.306Z"
   },
   {
    "duration": 28,
    "start_time": "2024-08-30T15:47:18.312Z"
   },
   {
    "duration": 54,
    "start_time": "2024-08-30T15:47:18.342Z"
   },
   {
    "duration": 10,
    "start_time": "2024-08-30T15:47:18.398Z"
   },
   {
    "duration": 5,
    "start_time": "2024-08-30T15:47:18.410Z"
   },
   {
    "duration": 63,
    "start_time": "2024-08-30T15:47:18.417Z"
   },
   {
    "duration": 26,
    "start_time": "2024-08-30T15:47:18.481Z"
   },
   {
    "duration": 21,
    "start_time": "2024-08-30T15:47:18.509Z"
   },
   {
    "duration": 210,
    "start_time": "2024-08-30T15:47:18.532Z"
   },
   {
    "duration": 115,
    "start_time": "2024-08-30T15:47:18.744Z"
   },
   {
    "duration": 202,
    "start_time": "2024-08-30T15:47:18.861Z"
   },
   {
    "duration": 223,
    "start_time": "2024-08-30T15:47:19.064Z"
   },
   {
    "duration": 981,
    "start_time": "2024-08-30T15:47:19.289Z"
   },
   {
    "duration": 321,
    "start_time": "2024-08-30T15:47:20.272Z"
   },
   {
    "duration": 15,
    "start_time": "2024-08-30T15:47:20.595Z"
   },
   {
    "duration": 17,
    "start_time": "2024-08-30T15:47:20.612Z"
   },
   {
    "duration": 354,
    "start_time": "2024-08-30T15:47:20.632Z"
   },
   {
    "duration": 900,
    "start_time": "2024-08-30T15:47:20.988Z"
   },
   {
    "duration": 176,
    "start_time": "2024-08-30T15:47:21.889Z"
   },
   {
    "duration": 78,
    "start_time": "2024-08-30T15:47:22.069Z"
   },
   {
    "duration": 27,
    "start_time": "2024-08-30T15:47:22.149Z"
   },
   {
    "duration": 17,
    "start_time": "2024-08-30T15:47:22.177Z"
   },
   {
    "duration": 125,
    "start_time": "2024-08-30T15:47:22.196Z"
   },
   {
    "duration": 695,
    "start_time": "2024-08-30T15:47:22.323Z"
   },
   {
    "duration": 106,
    "start_time": "2024-08-30T15:47:23.019Z"
   },
   {
    "duration": 28,
    "start_time": "2024-08-30T15:47:23.127Z"
   },
   {
    "duration": 32,
    "start_time": "2024-08-30T15:47:23.157Z"
   },
   {
    "duration": 417,
    "start_time": "2024-08-30T15:48:22.829Z"
   },
   {
    "duration": 901,
    "start_time": "2024-08-30T15:48:23.248Z"
   },
   {
    "duration": 26,
    "start_time": "2024-08-30T15:48:24.151Z"
   },
   {
    "duration": 11,
    "start_time": "2024-08-30T15:48:24.178Z"
   },
   {
    "duration": 8,
    "start_time": "2024-08-30T15:48:24.192Z"
   },
   {
    "duration": 10,
    "start_time": "2024-08-30T15:48:24.201Z"
   },
   {
    "duration": 137,
    "start_time": "2024-08-30T15:48:24.212Z"
   },
   {
    "duration": 209,
    "start_time": "2024-08-30T15:48:24.351Z"
   },
   {
    "duration": 18,
    "start_time": "2024-08-30T15:48:24.561Z"
   },
   {
    "duration": 110,
    "start_time": "2024-08-30T15:48:24.581Z"
   },
   {
    "duration": 95,
    "start_time": "2024-08-30T15:48:24.693Z"
   },
   {
    "duration": 26,
    "start_time": "2024-08-30T15:48:24.789Z"
   },
   {
    "duration": 20,
    "start_time": "2024-08-30T15:48:24.817Z"
   },
   {
    "duration": 3,
    "start_time": "2024-08-30T15:48:24.841Z"
   },
   {
    "duration": 50,
    "start_time": "2024-08-30T15:48:24.845Z"
   },
   {
    "duration": 8,
    "start_time": "2024-08-30T15:48:24.896Z"
   },
   {
    "duration": 10,
    "start_time": "2024-08-30T15:48:24.906Z"
   },
   {
    "duration": 3,
    "start_time": "2024-08-30T15:48:24.917Z"
   },
   {
    "duration": 10,
    "start_time": "2024-08-30T15:48:24.922Z"
   },
   {
    "duration": 3,
    "start_time": "2024-08-30T15:48:24.933Z"
   },
   {
    "duration": 896,
    "start_time": "2024-08-30T15:48:24.970Z"
   },
   {
    "duration": 77,
    "start_time": "2024-08-30T15:48:25.871Z"
   },
   {
    "duration": 31,
    "start_time": "2024-08-30T15:48:25.949Z"
   },
   {
    "duration": 10,
    "start_time": "2024-08-30T15:48:25.982Z"
   },
   {
    "duration": 7,
    "start_time": "2024-08-30T15:48:25.994Z"
   },
   {
    "duration": 20,
    "start_time": "2024-08-30T15:48:26.003Z"
   },
   {
    "duration": 55,
    "start_time": "2024-08-30T15:48:26.025Z"
   },
   {
    "duration": 16,
    "start_time": "2024-08-30T15:48:26.083Z"
   },
   {
    "duration": 4,
    "start_time": "2024-08-30T15:48:26.100Z"
   },
   {
    "duration": 23,
    "start_time": "2024-08-30T15:48:26.105Z"
   },
   {
    "duration": 51,
    "start_time": "2024-08-30T15:48:26.129Z"
   },
   {
    "duration": 10,
    "start_time": "2024-08-30T15:48:26.182Z"
   },
   {
    "duration": 5,
    "start_time": "2024-08-30T15:48:26.195Z"
   },
   {
    "duration": 39,
    "start_time": "2024-08-30T15:48:26.202Z"
   },
   {
    "duration": 52,
    "start_time": "2024-08-30T15:48:26.242Z"
   },
   {
    "duration": 21,
    "start_time": "2024-08-30T15:48:26.296Z"
   },
   {
    "duration": 208,
    "start_time": "2024-08-30T15:48:26.319Z"
   },
   {
    "duration": 126,
    "start_time": "2024-08-30T15:48:26.529Z"
   },
   {
    "duration": 209,
    "start_time": "2024-08-30T15:48:26.657Z"
   },
   {
    "duration": 220,
    "start_time": "2024-08-30T15:48:26.868Z"
   },
   {
    "duration": 1001,
    "start_time": "2024-08-30T15:48:27.094Z"
   },
   {
    "duration": 329,
    "start_time": "2024-08-30T15:48:28.097Z"
   },
   {
    "duration": 15,
    "start_time": "2024-08-30T15:48:28.428Z"
   },
   {
    "duration": 31,
    "start_time": "2024-08-30T15:48:28.444Z"
   },
   {
    "duration": 327,
    "start_time": "2024-08-30T15:48:28.476Z"
   },
   {
    "duration": 831,
    "start_time": "2024-08-30T15:48:28.805Z"
   },
   {
    "duration": 165,
    "start_time": "2024-08-30T15:48:29.638Z"
   },
   {
    "duration": 88,
    "start_time": "2024-08-30T15:48:29.805Z"
   },
   {
    "duration": 14,
    "start_time": "2024-08-30T15:48:29.894Z"
   },
   {
    "duration": 16,
    "start_time": "2024-08-30T15:48:29.910Z"
   },
   {
    "duration": 130,
    "start_time": "2024-08-30T15:48:29.928Z"
   },
   {
    "duration": 692,
    "start_time": "2024-08-30T15:48:30.060Z"
   },
   {
    "duration": 105,
    "start_time": "2024-08-30T15:48:30.754Z"
   },
   {
    "duration": 35,
    "start_time": "2024-08-30T15:48:30.860Z"
   },
   {
    "duration": 25,
    "start_time": "2024-08-30T15:48:30.898Z"
   },
   {
    "duration": 502,
    "start_time": "2024-08-30T16:11:04.712Z"
   },
   {
    "duration": 39,
    "start_time": "2024-08-30T16:11:16.255Z"
   },
   {
    "duration": 419,
    "start_time": "2024-08-30T16:11:53.911Z"
   },
   {
    "duration": 889,
    "start_time": "2024-08-30T16:11:54.332Z"
   },
   {
    "duration": 20,
    "start_time": "2024-08-30T16:11:55.223Z"
   },
   {
    "duration": 25,
    "start_time": "2024-08-30T16:11:55.245Z"
   },
   {
    "duration": 8,
    "start_time": "2024-08-30T16:11:55.272Z"
   },
   {
    "duration": 9,
    "start_time": "2024-08-30T16:11:55.282Z"
   },
   {
    "duration": 122,
    "start_time": "2024-08-30T16:11:55.292Z"
   },
   {
    "duration": 212,
    "start_time": "2024-08-30T16:11:55.415Z"
   },
   {
    "duration": 12,
    "start_time": "2024-08-30T16:11:55.629Z"
   },
   {
    "duration": 116,
    "start_time": "2024-08-30T16:11:55.643Z"
   },
   {
    "duration": 93,
    "start_time": "2024-08-30T16:11:55.760Z"
   },
   {
    "duration": 30,
    "start_time": "2024-08-30T16:11:55.855Z"
   },
   {
    "duration": 21,
    "start_time": "2024-08-30T16:11:55.886Z"
   },
   {
    "duration": 4,
    "start_time": "2024-08-30T16:11:55.911Z"
   },
   {
    "duration": 29,
    "start_time": "2024-08-30T16:11:55.916Z"
   },
   {
    "duration": 7,
    "start_time": "2024-08-30T16:11:55.971Z"
   },
   {
    "duration": 9,
    "start_time": "2024-08-30T16:11:55.980Z"
   },
   {
    "duration": 3,
    "start_time": "2024-08-30T16:11:55.991Z"
   },
   {
    "duration": 9,
    "start_time": "2024-08-30T16:11:55.996Z"
   },
   {
    "duration": 4,
    "start_time": "2024-08-30T16:11:56.007Z"
   },
   {
    "duration": 916,
    "start_time": "2024-08-30T16:11:56.012Z"
   },
   {
    "duration": 98,
    "start_time": "2024-08-30T16:11:56.930Z"
   },
   {
    "duration": 22,
    "start_time": "2024-08-30T16:11:57.030Z"
   },
   {
    "duration": 25,
    "start_time": "2024-08-30T16:11:57.053Z"
   },
   {
    "duration": 10,
    "start_time": "2024-08-30T16:11:57.081Z"
   },
   {
    "duration": 17,
    "start_time": "2024-08-30T16:11:57.092Z"
   },
   {
    "duration": 27,
    "start_time": "2024-08-30T16:11:57.110Z"
   },
   {
    "duration": 48,
    "start_time": "2024-08-30T16:11:57.139Z"
   },
   {
    "duration": 6,
    "start_time": "2024-08-30T16:11:57.189Z"
   },
   {
    "duration": 34,
    "start_time": "2024-08-30T16:11:57.197Z"
   },
   {
    "duration": 53,
    "start_time": "2024-08-30T16:11:57.233Z"
   },
   {
    "duration": 9,
    "start_time": "2024-08-30T16:11:57.288Z"
   },
   {
    "duration": 5,
    "start_time": "2024-08-30T16:11:57.299Z"
   },
   {
    "duration": 38,
    "start_time": "2024-08-30T16:11:57.306Z"
   },
   {
    "duration": 49,
    "start_time": "2024-08-30T16:11:57.345Z"
   },
   {
    "duration": 20,
    "start_time": "2024-08-30T16:11:57.395Z"
   },
   {
    "duration": 205,
    "start_time": "2024-08-30T16:11:57.418Z"
   },
   {
    "duration": 113,
    "start_time": "2024-08-30T16:11:57.626Z"
   },
   {
    "duration": 204,
    "start_time": "2024-08-30T16:11:57.741Z"
   },
   {
    "duration": 217,
    "start_time": "2024-08-30T16:11:57.946Z"
   },
   {
    "duration": 1005,
    "start_time": "2024-08-30T16:11:58.173Z"
   },
   {
    "duration": 315,
    "start_time": "2024-08-30T16:11:59.180Z"
   },
   {
    "duration": 15,
    "start_time": "2024-08-30T16:11:59.497Z"
   },
   {
    "duration": 18,
    "start_time": "2024-08-30T16:11:59.514Z"
   },
   {
    "duration": 345,
    "start_time": "2024-08-30T16:11:59.535Z"
   },
   {
    "duration": 860,
    "start_time": "2024-08-30T16:11:59.881Z"
   },
   {
    "duration": 168,
    "start_time": "2024-08-30T16:12:00.743Z"
   },
   {
    "duration": 86,
    "start_time": "2024-08-30T16:12:00.912Z"
   },
   {
    "duration": 15,
    "start_time": "2024-08-30T16:12:00.999Z"
   },
   {
    "duration": 16,
    "start_time": "2024-08-30T16:12:01.017Z"
   },
   {
    "duration": 136,
    "start_time": "2024-08-30T16:12:01.035Z"
   },
   {
    "duration": 735,
    "start_time": "2024-08-30T16:12:01.173Z"
   },
   {
    "duration": 105,
    "start_time": "2024-08-30T16:12:01.910Z"
   },
   {
    "duration": 28,
    "start_time": "2024-08-30T16:12:02.017Z"
   },
   {
    "duration": 38,
    "start_time": "2024-08-30T16:12:02.047Z"
   },
   {
    "duration": 140,
    "start_time": "2024-08-30T16:12:40.254Z"
   },
   {
    "duration": 539,
    "start_time": "2024-08-30T16:15:24.591Z"
   },
   {
    "duration": 29,
    "start_time": "2024-08-30T16:15:38.391Z"
   },
   {
    "duration": 40,
    "start_time": "2024-08-30T16:17:44.591Z"
   },
   {
    "duration": 444,
    "start_time": "2024-08-30T16:18:22.780Z"
   },
   {
    "duration": 898,
    "start_time": "2024-08-30T16:18:23.226Z"
   },
   {
    "duration": 22,
    "start_time": "2024-08-30T16:18:24.126Z"
   },
   {
    "duration": 25,
    "start_time": "2024-08-30T16:18:24.151Z"
   },
   {
    "duration": 8,
    "start_time": "2024-08-30T16:18:24.179Z"
   },
   {
    "duration": 9,
    "start_time": "2024-08-30T16:18:24.189Z"
   },
   {
    "duration": 152,
    "start_time": "2024-08-30T16:18:24.200Z"
   },
   {
    "duration": 208,
    "start_time": "2024-08-30T16:18:24.353Z"
   },
   {
    "duration": 18,
    "start_time": "2024-08-30T16:18:24.563Z"
   },
   {
    "duration": 98,
    "start_time": "2024-08-30T16:18:24.585Z"
   },
   {
    "duration": 92,
    "start_time": "2024-08-30T16:18:24.685Z"
   },
   {
    "duration": 28,
    "start_time": "2024-08-30T16:18:24.779Z"
   },
   {
    "duration": 20,
    "start_time": "2024-08-30T16:18:24.809Z"
   },
   {
    "duration": 3,
    "start_time": "2024-08-30T16:18:24.831Z"
   },
   {
    "duration": 55,
    "start_time": "2024-08-30T16:18:24.836Z"
   },
   {
    "duration": 7,
    "start_time": "2024-08-30T16:18:24.892Z"
   },
   {
    "duration": 10,
    "start_time": "2024-08-30T16:18:24.901Z"
   },
   {
    "duration": 3,
    "start_time": "2024-08-30T16:18:24.913Z"
   },
   {
    "duration": 10,
    "start_time": "2024-08-30T16:18:24.918Z"
   },
   {
    "duration": 3,
    "start_time": "2024-08-30T16:18:24.930Z"
   },
   {
    "duration": 875,
    "start_time": "2024-08-30T16:18:24.971Z"
   },
   {
    "duration": 82,
    "start_time": "2024-08-30T16:18:25.848Z"
   },
   {
    "duration": 22,
    "start_time": "2024-08-30T16:18:25.932Z"
   },
   {
    "duration": 21,
    "start_time": "2024-08-30T16:18:25.956Z"
   },
   {
    "duration": 8,
    "start_time": "2024-08-30T16:18:25.979Z"
   },
   {
    "duration": 16,
    "start_time": "2024-08-30T16:18:25.988Z"
   },
   {
    "duration": 25,
    "start_time": "2024-08-30T16:18:26.006Z"
   },
   {
    "duration": 46,
    "start_time": "2024-08-30T16:18:26.036Z"
   },
   {
    "duration": 4,
    "start_time": "2024-08-30T16:18:26.084Z"
   },
   {
    "duration": 24,
    "start_time": "2024-08-30T16:18:26.089Z"
   },
   {
    "duration": 55,
    "start_time": "2024-08-30T16:18:26.115Z"
   },
   {
    "duration": 10,
    "start_time": "2024-08-30T16:18:26.172Z"
   },
   {
    "duration": 5,
    "start_time": "2024-08-30T16:18:26.184Z"
   },
   {
    "duration": 39,
    "start_time": "2024-08-30T16:18:26.190Z"
   },
   {
    "duration": 52,
    "start_time": "2024-08-30T16:18:26.230Z"
   },
   {
    "duration": 20,
    "start_time": "2024-08-30T16:18:26.284Z"
   },
   {
    "duration": 208,
    "start_time": "2024-08-30T16:18:26.307Z"
   },
   {
    "duration": 132,
    "start_time": "2024-08-30T16:18:26.516Z"
   },
   {
    "duration": 215,
    "start_time": "2024-08-30T16:18:26.650Z"
   },
   {
    "duration": 222,
    "start_time": "2024-08-30T16:18:26.869Z"
   },
   {
    "duration": 1005,
    "start_time": "2024-08-30T16:18:27.093Z"
   },
   {
    "duration": 323,
    "start_time": "2024-08-30T16:18:28.100Z"
   },
   {
    "duration": 15,
    "start_time": "2024-08-30T16:18:28.425Z"
   },
   {
    "duration": 30,
    "start_time": "2024-08-30T16:18:28.442Z"
   },
   {
    "duration": 340,
    "start_time": "2024-08-30T16:18:28.474Z"
   },
   {
    "duration": 845,
    "start_time": "2024-08-30T16:18:28.815Z"
   },
   {
    "duration": 164,
    "start_time": "2024-08-30T16:18:29.670Z"
   },
   {
    "duration": 87,
    "start_time": "2024-08-30T16:18:29.836Z"
   },
   {
    "duration": 15,
    "start_time": "2024-08-30T16:18:29.925Z"
   },
   {
    "duration": 28,
    "start_time": "2024-08-30T16:18:29.942Z"
   },
   {
    "duration": 122,
    "start_time": "2024-08-30T16:18:29.972Z"
   },
   {
    "duration": 693,
    "start_time": "2024-08-30T16:18:30.095Z"
   },
   {
    "duration": 107,
    "start_time": "2024-08-30T16:18:30.790Z"
   },
   {
    "duration": 29,
    "start_time": "2024-08-30T16:18:30.898Z"
   },
   {
    "duration": 43,
    "start_time": "2024-08-30T16:18:30.929Z"
   },
   {
    "duration": 398,
    "start_time": "2024-08-30T16:19:03.660Z"
   },
   {
    "duration": 909,
    "start_time": "2024-08-30T16:19:04.061Z"
   },
   {
    "duration": 19,
    "start_time": "2024-08-30T16:19:04.972Z"
   },
   {
    "duration": 12,
    "start_time": "2024-08-30T16:19:04.992Z"
   },
   {
    "duration": 8,
    "start_time": "2024-08-30T16:19:05.006Z"
   },
   {
    "duration": 8,
    "start_time": "2024-08-30T16:19:05.016Z"
   },
   {
    "duration": 149,
    "start_time": "2024-08-30T16:19:05.026Z"
   },
   {
    "duration": 201,
    "start_time": "2024-08-30T16:19:05.177Z"
   },
   {
    "duration": 11,
    "start_time": "2024-08-30T16:19:05.381Z"
   },
   {
    "duration": 104,
    "start_time": "2024-08-30T16:19:05.394Z"
   },
   {
    "duration": 90,
    "start_time": "2024-08-30T16:19:05.500Z"
   },
   {
    "duration": 29,
    "start_time": "2024-08-30T16:19:05.592Z"
   },
   {
    "duration": 21,
    "start_time": "2024-08-30T16:19:05.622Z"
   },
   {
    "duration": 3,
    "start_time": "2024-08-30T16:19:05.646Z"
   },
   {
    "duration": 51,
    "start_time": "2024-08-30T16:19:05.650Z"
   },
   {
    "duration": 7,
    "start_time": "2024-08-30T16:19:05.702Z"
   },
   {
    "duration": 11,
    "start_time": "2024-08-30T16:19:05.711Z"
   },
   {
    "duration": 4,
    "start_time": "2024-08-30T16:19:05.723Z"
   },
   {
    "duration": 11,
    "start_time": "2024-08-30T16:19:05.728Z"
   },
   {
    "duration": 29,
    "start_time": "2024-08-30T16:19:05.741Z"
   },
   {
    "duration": 871,
    "start_time": "2024-08-30T16:19:05.772Z"
   },
   {
    "duration": 92,
    "start_time": "2024-08-30T16:19:06.645Z"
   },
   {
    "duration": 21,
    "start_time": "2024-08-30T16:19:06.740Z"
   },
   {
    "duration": 17,
    "start_time": "2024-08-30T16:19:06.763Z"
   },
   {
    "duration": 9,
    "start_time": "2024-08-30T16:19:06.782Z"
   },
   {
    "duration": 14,
    "start_time": "2024-08-30T16:19:06.793Z"
   },
   {
    "duration": 24,
    "start_time": "2024-08-30T16:19:06.809Z"
   },
   {
    "duration": 48,
    "start_time": "2024-08-30T16:19:06.835Z"
   },
   {
    "duration": 3,
    "start_time": "2024-08-30T16:19:06.885Z"
   },
   {
    "duration": 25,
    "start_time": "2024-08-30T16:19:06.891Z"
   },
   {
    "duration": 30,
    "start_time": "2024-08-30T16:19:06.918Z"
   },
   {
    "duration": 12,
    "start_time": "2024-08-30T16:19:06.971Z"
   },
   {
    "duration": 5,
    "start_time": "2024-08-30T16:19:06.985Z"
   },
   {
    "duration": 38,
    "start_time": "2024-08-30T16:19:06.991Z"
   },
   {
    "duration": 50,
    "start_time": "2024-08-30T16:19:07.032Z"
   },
   {
    "duration": 22,
    "start_time": "2024-08-30T16:19:07.083Z"
   },
   {
    "duration": 215,
    "start_time": "2024-08-30T16:19:07.107Z"
   },
   {
    "duration": 120,
    "start_time": "2024-08-30T16:19:07.323Z"
   },
   {
    "duration": 195,
    "start_time": "2024-08-30T16:19:07.446Z"
   },
   {
    "duration": 216,
    "start_time": "2024-08-30T16:19:07.644Z"
   },
   {
    "duration": 983,
    "start_time": "2024-08-30T16:19:07.864Z"
   },
   {
    "duration": 327,
    "start_time": "2024-08-30T16:19:08.849Z"
   },
   {
    "duration": 15,
    "start_time": "2024-08-30T16:19:09.178Z"
   },
   {
    "duration": 20,
    "start_time": "2024-08-30T16:19:09.195Z"
   },
   {
    "duration": 371,
    "start_time": "2024-08-30T16:19:09.217Z"
   },
   {
    "duration": 850,
    "start_time": "2024-08-30T16:19:09.590Z"
   },
   {
    "duration": 171,
    "start_time": "2024-08-30T16:19:10.442Z"
   },
   {
    "duration": 86,
    "start_time": "2024-08-30T16:19:10.615Z"
   },
   {
    "duration": 15,
    "start_time": "2024-08-30T16:19:10.703Z"
   },
   {
    "duration": 25,
    "start_time": "2024-08-30T16:19:10.719Z"
   },
   {
    "duration": 127,
    "start_time": "2024-08-30T16:19:10.746Z"
   },
   {
    "duration": 713,
    "start_time": "2024-08-30T16:19:10.875Z"
   },
   {
    "duration": 106,
    "start_time": "2024-08-30T16:19:11.591Z"
   },
   {
    "duration": 28,
    "start_time": "2024-08-30T16:19:11.699Z"
   },
   {
    "duration": 41,
    "start_time": "2024-08-30T16:19:11.729Z"
   },
   {
    "duration": 428,
    "start_time": "2024-08-30T16:24:15.010Z"
   },
   {
    "duration": 900,
    "start_time": "2024-08-30T16:24:15.440Z"
   },
   {
    "duration": 33,
    "start_time": "2024-08-30T16:24:16.342Z"
   },
   {
    "duration": 12,
    "start_time": "2024-08-30T16:24:16.376Z"
   },
   {
    "duration": 8,
    "start_time": "2024-08-30T16:24:16.391Z"
   },
   {
    "duration": 9,
    "start_time": "2024-08-30T16:24:16.401Z"
   },
   {
    "duration": 162,
    "start_time": "2024-08-30T16:24:16.411Z"
   },
   {
    "duration": 223,
    "start_time": "2024-08-30T16:24:16.575Z"
   },
   {
    "duration": 12,
    "start_time": "2024-08-30T16:24:16.799Z"
   },
   {
    "duration": 119,
    "start_time": "2024-08-30T16:24:16.813Z"
   },
   {
    "duration": 95,
    "start_time": "2024-08-30T16:24:16.935Z"
   },
   {
    "duration": 26,
    "start_time": "2024-08-30T16:24:17.032Z"
   },
   {
    "duration": 31,
    "start_time": "2024-08-30T16:24:17.060Z"
   },
   {
    "duration": 3,
    "start_time": "2024-08-30T16:24:17.096Z"
   },
   {
    "duration": 29,
    "start_time": "2024-08-30T16:24:17.101Z"
   },
   {
    "duration": 9,
    "start_time": "2024-08-30T16:24:17.132Z"
   },
   {
    "duration": 40,
    "start_time": "2024-08-30T16:24:17.142Z"
   },
   {
    "duration": 3,
    "start_time": "2024-08-30T16:24:17.185Z"
   },
   {
    "duration": 13,
    "start_time": "2024-08-30T16:24:17.190Z"
   },
   {
    "duration": 3,
    "start_time": "2024-08-30T16:24:17.205Z"
   },
   {
    "duration": 905,
    "start_time": "2024-08-30T16:24:17.209Z"
   },
   {
    "duration": 93,
    "start_time": "2024-08-30T16:24:18.115Z"
   },
   {
    "duration": 61,
    "start_time": "2024-08-30T16:24:18.210Z"
   },
   {
    "duration": 14,
    "start_time": "2024-08-30T16:24:18.273Z"
   },
   {
    "duration": 9,
    "start_time": "2024-08-30T16:24:18.289Z"
   },
   {
    "duration": 14,
    "start_time": "2024-08-30T16:24:18.300Z"
   },
   {
    "duration": 66,
    "start_time": "2024-08-30T16:24:18.315Z"
   },
   {
    "duration": 16,
    "start_time": "2024-08-30T16:24:18.383Z"
   },
   {
    "duration": 3,
    "start_time": "2024-08-30T16:24:18.401Z"
   },
   {
    "duration": 37,
    "start_time": "2024-08-30T16:24:18.406Z"
   },
   {
    "duration": 50,
    "start_time": "2024-08-30T16:24:18.445Z"
   },
   {
    "duration": 9,
    "start_time": "2024-08-30T16:24:18.496Z"
   },
   {
    "duration": 4,
    "start_time": "2024-08-30T16:24:18.507Z"
   },
   {
    "duration": 37,
    "start_time": "2024-08-30T16:24:18.512Z"
   },
   {
    "duration": 43,
    "start_time": "2024-08-30T16:24:18.551Z"
   },
   {
    "duration": 21,
    "start_time": "2024-08-30T16:24:18.596Z"
   },
   {
    "duration": 219,
    "start_time": "2024-08-30T16:24:18.618Z"
   },
   {
    "duration": 116,
    "start_time": "2024-08-30T16:24:18.839Z"
   },
   {
    "duration": 209,
    "start_time": "2024-08-30T16:24:18.956Z"
   },
   {
    "duration": 219,
    "start_time": "2024-08-30T16:24:19.168Z"
   },
   {
    "duration": 984,
    "start_time": "2024-08-30T16:24:19.392Z"
   },
   {
    "duration": 304,
    "start_time": "2024-08-30T16:24:20.378Z"
   },
   {
    "duration": 14,
    "start_time": "2024-08-30T16:24:20.684Z"
   },
   {
    "duration": 17,
    "start_time": "2024-08-30T16:24:20.700Z"
   },
   {
    "duration": 359,
    "start_time": "2024-08-30T16:24:20.719Z"
   },
   {
    "duration": 868,
    "start_time": "2024-08-30T16:24:21.080Z"
   },
   {
    "duration": 164,
    "start_time": "2024-08-30T16:24:21.950Z"
   },
   {
    "duration": 87,
    "start_time": "2024-08-30T16:24:22.116Z"
   },
   {
    "duration": 14,
    "start_time": "2024-08-30T16:24:22.205Z"
   },
   {
    "duration": 17,
    "start_time": "2024-08-30T16:24:22.220Z"
   },
   {
    "duration": 131,
    "start_time": "2024-08-30T16:24:22.239Z"
   },
   {
    "duration": 680,
    "start_time": "2024-08-30T16:24:22.372Z"
   },
   {
    "duration": 106,
    "start_time": "2024-08-30T16:24:23.054Z"
   },
   {
    "duration": 32,
    "start_time": "2024-08-30T16:24:23.162Z"
   },
   {
    "duration": 30,
    "start_time": "2024-08-30T16:24:23.196Z"
   },
   {
    "duration": 10,
    "start_time": "2024-08-30T16:26:34.715Z"
   },
   {
    "duration": 9,
    "start_time": "2024-08-30T16:27:00.410Z"
   },
   {
    "duration": 429,
    "start_time": "2024-08-30T16:27:11.113Z"
   },
   {
    "duration": 885,
    "start_time": "2024-08-30T16:27:11.544Z"
   },
   {
    "duration": 19,
    "start_time": "2024-08-30T16:27:12.430Z"
   },
   {
    "duration": 24,
    "start_time": "2024-08-30T16:27:12.451Z"
   },
   {
    "duration": 9,
    "start_time": "2024-08-30T16:27:12.477Z"
   },
   {
    "duration": 9,
    "start_time": "2024-08-30T16:27:12.487Z"
   },
   {
    "duration": 142,
    "start_time": "2024-08-30T16:27:12.497Z"
   },
   {
    "duration": 196,
    "start_time": "2024-08-30T16:27:12.641Z"
   },
   {
    "duration": 12,
    "start_time": "2024-08-30T16:27:12.840Z"
   },
   {
    "duration": 104,
    "start_time": "2024-08-30T16:27:12.853Z"
   },
   {
    "duration": 88,
    "start_time": "2024-08-30T16:27:12.959Z"
   },
   {
    "duration": 40,
    "start_time": "2024-08-30T16:27:13.049Z"
   },
   {
    "duration": 19,
    "start_time": "2024-08-30T16:27:13.091Z"
   },
   {
    "duration": 3,
    "start_time": "2024-08-30T16:27:13.114Z"
   },
   {
    "duration": 29,
    "start_time": "2024-08-30T16:27:13.119Z"
   },
   {
    "duration": 7,
    "start_time": "2024-08-30T16:27:13.170Z"
   },
   {
    "duration": 9,
    "start_time": "2024-08-30T16:27:13.179Z"
   },
   {
    "duration": 3,
    "start_time": "2024-08-30T16:27:13.190Z"
   },
   {
    "duration": 10,
    "start_time": "2024-08-30T16:27:13.195Z"
   },
   {
    "duration": 4,
    "start_time": "2024-08-30T16:27:13.206Z"
   },
   {
    "duration": 888,
    "start_time": "2024-08-30T16:27:13.212Z"
   },
   {
    "duration": 101,
    "start_time": "2024-08-30T16:27:14.102Z"
   },
   {
    "duration": 21,
    "start_time": "2024-08-30T16:27:14.205Z"
   },
   {
    "duration": 12,
    "start_time": "2024-08-30T16:27:14.228Z"
   },
   {
    "duration": 29,
    "start_time": "2024-08-30T16:27:14.241Z"
   },
   {
    "duration": 15,
    "start_time": "2024-08-30T16:27:14.271Z"
   },
   {
    "duration": 25,
    "start_time": "2024-08-30T16:27:14.287Z"
   },
   {
    "duration": 16,
    "start_time": "2024-08-30T16:27:14.315Z"
   },
   {
    "duration": 3,
    "start_time": "2024-08-30T16:27:14.333Z"
   },
   {
    "duration": 62,
    "start_time": "2024-08-30T16:27:14.338Z"
   },
   {
    "duration": 29,
    "start_time": "2024-08-30T16:27:14.402Z"
   },
   {
    "duration": 9,
    "start_time": "2024-08-30T16:27:14.433Z"
   },
   {
    "duration": 29,
    "start_time": "2024-08-30T16:27:14.444Z"
   },
   {
    "duration": 37,
    "start_time": "2024-08-30T16:27:14.475Z"
   },
   {
    "duration": 27,
    "start_time": "2024-08-30T16:27:14.514Z"
   },
   {
    "duration": 42,
    "start_time": "2024-08-30T16:27:14.544Z"
   },
   {
    "duration": 213,
    "start_time": "2024-08-30T16:27:14.587Z"
   },
   {
    "duration": 110,
    "start_time": "2024-08-30T16:27:14.802Z"
   },
   {
    "duration": 201,
    "start_time": "2024-08-30T16:27:14.913Z"
   },
   {
    "duration": 213,
    "start_time": "2024-08-30T16:27:15.116Z"
   },
   {
    "duration": 973,
    "start_time": "2024-08-30T16:27:15.334Z"
   },
   {
    "duration": 350,
    "start_time": "2024-08-30T16:27:16.309Z"
   },
   {
    "duration": 18,
    "start_time": "2024-08-30T16:27:16.661Z"
   },
   {
    "duration": 19,
    "start_time": "2024-08-30T16:27:16.680Z"
   },
   {
    "duration": 370,
    "start_time": "2024-08-30T16:27:16.700Z"
   },
   {
    "duration": 859,
    "start_time": "2024-08-30T16:27:17.072Z"
   },
   {
    "duration": 162,
    "start_time": "2024-08-30T16:27:17.933Z"
   },
   {
    "duration": 87,
    "start_time": "2024-08-30T16:27:18.097Z"
   },
   {
    "duration": 15,
    "start_time": "2024-08-30T16:27:18.186Z"
   },
   {
    "duration": 17,
    "start_time": "2024-08-30T16:27:18.202Z"
   },
   {
    "duration": 135,
    "start_time": "2024-08-30T16:27:18.221Z"
   },
   {
    "duration": 700,
    "start_time": "2024-08-30T16:27:18.358Z"
   },
   {
    "duration": 106,
    "start_time": "2024-08-30T16:27:19.059Z"
   },
   {
    "duration": 28,
    "start_time": "2024-08-30T16:27:19.170Z"
   },
   {
    "duration": 26,
    "start_time": "2024-08-30T16:27:19.200Z"
   },
   {
    "duration": 161,
    "start_time": "2024-08-30T17:41:48.201Z"
   },
   {
    "duration": 2160,
    "start_time": "2024-08-30T17:42:06.505Z"
   },
   {
    "duration": 1033,
    "start_time": "2024-08-30T17:42:08.667Z"
   },
   {
    "duration": 19,
    "start_time": "2024-08-30T17:42:09.704Z"
   },
   {
    "duration": 11,
    "start_time": "2024-08-30T17:42:09.725Z"
   },
   {
    "duration": 9,
    "start_time": "2024-08-30T17:42:09.738Z"
   },
   {
    "duration": 8,
    "start_time": "2024-08-30T17:42:09.749Z"
   },
   {
    "duration": 140,
    "start_time": "2024-08-30T17:42:09.759Z"
   },
   {
    "duration": 183,
    "start_time": "2024-08-30T17:42:09.901Z"
   },
   {
    "duration": 21,
    "start_time": "2024-08-30T17:42:10.085Z"
   },
   {
    "duration": 87,
    "start_time": "2024-08-30T17:42:10.108Z"
   },
   {
    "duration": 92,
    "start_time": "2024-08-30T17:42:10.197Z"
   },
   {
    "duration": 38,
    "start_time": "2024-08-30T17:42:10.291Z"
   },
   {
    "duration": 19,
    "start_time": "2024-08-30T17:42:10.331Z"
   },
   {
    "duration": 4,
    "start_time": "2024-08-30T17:42:10.354Z"
   },
   {
    "duration": 51,
    "start_time": "2024-08-30T17:42:10.359Z"
   },
   {
    "duration": 9,
    "start_time": "2024-08-30T17:42:10.412Z"
   },
   {
    "duration": 10,
    "start_time": "2024-08-30T17:42:10.422Z"
   },
   {
    "duration": 3,
    "start_time": "2024-08-30T17:42:10.434Z"
   },
   {
    "duration": 10,
    "start_time": "2024-08-30T17:42:10.439Z"
   },
   {
    "duration": 4,
    "start_time": "2024-08-30T17:42:10.450Z"
   },
   {
    "duration": 876,
    "start_time": "2024-08-30T17:42:10.455Z"
   },
   {
    "duration": 80,
    "start_time": "2024-08-30T17:42:11.333Z"
   },
   {
    "duration": 22,
    "start_time": "2024-08-30T17:42:11.415Z"
   },
   {
    "duration": 11,
    "start_time": "2024-08-30T17:42:11.440Z"
   },
   {
    "duration": 8,
    "start_time": "2024-08-30T17:42:11.453Z"
   },
   {
    "duration": 14,
    "start_time": "2024-08-30T17:42:11.463Z"
   },
   {
    "duration": 48,
    "start_time": "2024-08-30T17:42:11.478Z"
   },
   {
    "duration": 16,
    "start_time": "2024-08-30T17:42:11.528Z"
   },
   {
    "duration": 4,
    "start_time": "2024-08-30T17:42:11.545Z"
   },
   {
    "duration": 62,
    "start_time": "2024-08-30T17:42:11.551Z"
   },
   {
    "duration": 30,
    "start_time": "2024-08-30T17:42:11.615Z"
   },
   {
    "duration": 5,
    "start_time": "2024-08-30T17:42:11.647Z"
   },
   {
    "duration": 240,
    "start_time": "2024-08-30T17:42:11.654Z"
   },
   {
    "duration": 0,
    "start_time": "2024-08-30T17:42:11.896Z"
   },
   {
    "duration": 0,
    "start_time": "2024-08-30T17:42:11.898Z"
   },
   {
    "duration": 0,
    "start_time": "2024-08-30T17:42:11.905Z"
   },
   {
    "duration": 0,
    "start_time": "2024-08-30T17:42:11.906Z"
   },
   {
    "duration": 0,
    "start_time": "2024-08-30T17:42:11.908Z"
   },
   {
    "duration": 0,
    "start_time": "2024-08-30T17:42:11.910Z"
   },
   {
    "duration": 0,
    "start_time": "2024-08-30T17:42:11.911Z"
   },
   {
    "duration": 0,
    "start_time": "2024-08-30T17:42:11.914Z"
   },
   {
    "duration": 0,
    "start_time": "2024-08-30T17:42:11.915Z"
   },
   {
    "duration": 0,
    "start_time": "2024-08-30T17:42:11.917Z"
   },
   {
    "duration": 0,
    "start_time": "2024-08-30T17:42:11.918Z"
   },
   {
    "duration": 0,
    "start_time": "2024-08-30T17:42:11.920Z"
   },
   {
    "duration": 0,
    "start_time": "2024-08-30T17:42:11.921Z"
   },
   {
    "duration": 0,
    "start_time": "2024-08-30T17:42:11.923Z"
   },
   {
    "duration": 0,
    "start_time": "2024-08-30T17:42:11.924Z"
   },
   {
    "duration": 0,
    "start_time": "2024-08-30T17:42:11.925Z"
   },
   {
    "duration": 0,
    "start_time": "2024-08-30T17:42:11.927Z"
   },
   {
    "duration": 0,
    "start_time": "2024-08-30T17:42:11.929Z"
   },
   {
    "duration": 0,
    "start_time": "2024-08-30T17:42:11.930Z"
   },
   {
    "duration": 0,
    "start_time": "2024-08-30T17:42:11.932Z"
   },
   {
    "duration": 0,
    "start_time": "2024-08-30T17:42:11.933Z"
   },
   {
    "duration": 0,
    "start_time": "2024-08-30T17:42:11.935Z"
   },
   {
    "duration": 7,
    "start_time": "2024-08-30T17:42:35.482Z"
   },
   {
    "duration": 3,
    "start_time": "2024-08-30T17:42:57.290Z"
   },
   {
    "duration": 6,
    "start_time": "2024-08-30T17:43:00.614Z"
   },
   {
    "duration": 10,
    "start_time": "2024-08-30T17:43:18.242Z"
   },
   {
    "duration": 20,
    "start_time": "2024-08-30T17:44:10.135Z"
   },
   {
    "duration": 10,
    "start_time": "2024-08-30T17:44:57.849Z"
   },
   {
    "duration": 9,
    "start_time": "2024-08-30T17:45:16.113Z"
   },
   {
    "duration": 20,
    "start_time": "2024-08-30T17:45:26.415Z"
   },
   {
    "duration": 10,
    "start_time": "2024-08-30T17:45:36.632Z"
   },
   {
    "duration": 22,
    "start_time": "2024-08-30T17:46:00.458Z"
   },
   {
    "duration": 9,
    "start_time": "2024-08-30T17:46:18.856Z"
   },
   {
    "duration": 10,
    "start_time": "2024-08-30T17:46:24.835Z"
   },
   {
    "duration": 895,
    "start_time": "2024-08-30T17:49:18.303Z"
   },
   {
    "duration": 69,
    "start_time": "2024-08-30T17:52:42.162Z"
   },
   {
    "duration": 20,
    "start_time": "2024-08-30T17:53:10.234Z"
   },
   {
    "duration": 69,
    "start_time": "2024-08-30T17:54:49.909Z"
   },
   {
    "duration": 20,
    "start_time": "2024-08-30T17:55:46.613Z"
   },
   {
    "duration": 70,
    "start_time": "2024-08-30T17:56:09.160Z"
   },
   {
    "duration": 4,
    "start_time": "2024-08-30T17:58:45.515Z"
   },
   {
    "duration": 70,
    "start_time": "2024-08-30T17:58:58.564Z"
   },
   {
    "duration": 4,
    "start_time": "2024-08-30T18:00:00.192Z"
   },
   {
    "duration": 5,
    "start_time": "2024-08-30T18:01:59.132Z"
   },
   {
    "duration": 12,
    "start_time": "2024-08-30T18:02:17.123Z"
   },
   {
    "duration": 5,
    "start_time": "2024-08-30T18:02:28.581Z"
   },
   {
    "duration": 6,
    "start_time": "2024-08-30T18:07:10.919Z"
   },
   {
    "duration": 7,
    "start_time": "2024-08-30T18:08:18.169Z"
   },
   {
    "duration": 7,
    "start_time": "2024-08-30T18:20:11.076Z"
   },
   {
    "duration": 7,
    "start_time": "2024-08-30T18:20:38.537Z"
   },
   {
    "duration": 7,
    "start_time": "2024-08-30T18:20:52.864Z"
   },
   {
    "duration": 4,
    "start_time": "2024-08-30T18:27:43.550Z"
   },
   {
    "duration": 4,
    "start_time": "2024-08-30T18:27:45.971Z"
   },
   {
    "duration": 4,
    "start_time": "2024-08-30T18:27:55.588Z"
   },
   {
    "duration": 4,
    "start_time": "2024-08-30T18:28:15.850Z"
   },
   {
    "duration": 4,
    "start_time": "2024-08-30T18:28:27.906Z"
   },
   {
    "duration": 43,
    "start_time": "2024-08-30T18:30:32.613Z"
   },
   {
    "duration": 45,
    "start_time": "2024-08-30T18:31:31.086Z"
   },
   {
    "duration": 447,
    "start_time": "2024-08-30T18:40:39.918Z"
   },
   {
    "duration": 894,
    "start_time": "2024-08-30T18:40:40.367Z"
   },
   {
    "duration": 23,
    "start_time": "2024-08-30T18:40:41.263Z"
   },
   {
    "duration": 24,
    "start_time": "2024-08-30T18:40:41.287Z"
   },
   {
    "duration": 8,
    "start_time": "2024-08-30T18:40:41.313Z"
   },
   {
    "duration": 10,
    "start_time": "2024-08-30T18:40:41.323Z"
   },
   {
    "duration": 150,
    "start_time": "2024-08-30T18:40:41.335Z"
   },
   {
    "duration": 212,
    "start_time": "2024-08-30T18:40:41.487Z"
   },
   {
    "duration": 18,
    "start_time": "2024-08-30T18:40:41.706Z"
   },
   {
    "duration": 102,
    "start_time": "2024-08-30T18:40:41.728Z"
   },
   {
    "duration": 88,
    "start_time": "2024-08-30T18:40:41.831Z"
   },
   {
    "duration": 25,
    "start_time": "2024-08-30T18:40:41.921Z"
   },
   {
    "duration": 20,
    "start_time": "2024-08-30T18:40:41.948Z"
   },
   {
    "duration": 3,
    "start_time": "2024-08-30T18:40:41.970Z"
   },
   {
    "duration": 51,
    "start_time": "2024-08-30T18:40:41.975Z"
   },
   {
    "duration": 17,
    "start_time": "2024-08-30T18:40:42.027Z"
   },
   {
    "duration": 10,
    "start_time": "2024-08-30T18:40:42.046Z"
   },
   {
    "duration": 3,
    "start_time": "2024-08-30T18:40:42.058Z"
   },
   {
    "duration": 10,
    "start_time": "2024-08-30T18:40:42.063Z"
   },
   {
    "duration": 3,
    "start_time": "2024-08-30T18:40:42.074Z"
   },
   {
    "duration": 915,
    "start_time": "2024-08-30T18:40:42.079Z"
   },
   {
    "duration": 79,
    "start_time": "2024-08-30T18:40:42.996Z"
   },
   {
    "duration": 30,
    "start_time": "2024-08-30T18:40:43.076Z"
   },
   {
    "duration": 13,
    "start_time": "2024-08-30T18:40:43.109Z"
   },
   {
    "duration": 9,
    "start_time": "2024-08-30T18:40:43.123Z"
   },
   {
    "duration": 15,
    "start_time": "2024-08-30T18:40:43.133Z"
   },
   {
    "duration": 25,
    "start_time": "2024-08-30T18:40:43.151Z"
   },
   {
    "duration": 17,
    "start_time": "2024-08-30T18:40:43.205Z"
   },
   {
    "duration": 4,
    "start_time": "2024-08-30T18:40:43.223Z"
   },
   {
    "duration": 39,
    "start_time": "2024-08-30T18:40:43.228Z"
   },
   {
    "duration": 54,
    "start_time": "2024-08-30T18:40:43.269Z"
   },
   {
    "duration": 82,
    "start_time": "2024-08-30T18:40:43.325Z"
   },
   {
    "duration": 7,
    "start_time": "2024-08-30T18:40:43.408Z"
   },
   {
    "duration": 61,
    "start_time": "2024-08-30T18:40:43.416Z"
   },
   {
    "duration": 47,
    "start_time": "2024-08-30T18:40:43.480Z"
   },
   {
    "duration": 21,
    "start_time": "2024-08-30T18:40:43.528Z"
   },
   {
    "duration": 201,
    "start_time": "2024-08-30T18:40:43.551Z"
   },
   {
    "duration": 116,
    "start_time": "2024-08-30T18:40:43.754Z"
   },
   {
    "duration": 206,
    "start_time": "2024-08-30T18:40:43.872Z"
   },
   {
    "duration": 343,
    "start_time": "2024-08-30T18:40:44.080Z"
   },
   {
    "duration": 1309,
    "start_time": "2024-08-30T18:40:44.425Z"
   },
   {
    "duration": 311,
    "start_time": "2024-08-30T18:40:45.735Z"
   },
   {
    "duration": 15,
    "start_time": "2024-08-30T18:40:46.048Z"
   },
   {
    "duration": 18,
    "start_time": "2024-08-30T18:40:46.064Z"
   },
   {
    "duration": 333,
    "start_time": "2024-08-30T18:40:46.083Z"
   },
   {
    "duration": 848,
    "start_time": "2024-08-30T18:40:46.418Z"
   },
   {
    "duration": 153,
    "start_time": "2024-08-30T18:40:47.268Z"
   },
   {
    "duration": 89,
    "start_time": "2024-08-30T18:40:47.423Z"
   },
   {
    "duration": 15,
    "start_time": "2024-08-30T18:40:47.515Z"
   },
   {
    "duration": 16,
    "start_time": "2024-08-30T18:40:47.532Z"
   },
   {
    "duration": 139,
    "start_time": "2024-08-30T18:40:47.550Z"
   },
   {
    "duration": 706,
    "start_time": "2024-08-30T18:40:47.691Z"
   },
   {
    "duration": 102,
    "start_time": "2024-08-30T18:40:48.404Z"
   },
   {
    "duration": 28,
    "start_time": "2024-08-30T18:40:48.508Z"
   },
   {
    "duration": 24,
    "start_time": "2024-08-30T18:40:48.538Z"
   },
   {
    "duration": 7,
    "start_time": "2024-08-30T18:41:17.438Z"
   },
   {
    "duration": 8,
    "start_time": "2024-08-30T18:41:27.011Z"
   },
   {
    "duration": 447,
    "start_time": "2024-08-30T18:41:34.514Z"
   },
   {
    "duration": 882,
    "start_time": "2024-08-30T18:41:34.964Z"
   },
   {
    "duration": 19,
    "start_time": "2024-08-30T18:41:35.849Z"
   },
   {
    "duration": 11,
    "start_time": "2024-08-30T18:41:35.870Z"
   },
   {
    "duration": 25,
    "start_time": "2024-08-30T18:41:35.883Z"
   },
   {
    "duration": 9,
    "start_time": "2024-08-30T18:41:35.910Z"
   },
   {
    "duration": 119,
    "start_time": "2024-08-30T18:41:35.921Z"
   },
   {
    "duration": 207,
    "start_time": "2024-08-30T18:41:36.042Z"
   },
   {
    "duration": 11,
    "start_time": "2024-08-30T18:41:36.251Z"
   },
   {
    "duration": 115,
    "start_time": "2024-08-30T18:41:36.265Z"
   },
   {
    "duration": 89,
    "start_time": "2024-08-30T18:41:36.381Z"
   },
   {
    "duration": 39,
    "start_time": "2024-08-30T18:41:36.471Z"
   },
   {
    "duration": 22,
    "start_time": "2024-08-30T18:41:36.512Z"
   },
   {
    "duration": 3,
    "start_time": "2024-08-30T18:41:36.536Z"
   },
   {
    "duration": 29,
    "start_time": "2024-08-30T18:41:36.541Z"
   },
   {
    "duration": 7,
    "start_time": "2024-08-30T18:41:36.571Z"
   },
   {
    "duration": 9,
    "start_time": "2024-08-30T18:41:36.606Z"
   },
   {
    "duration": 3,
    "start_time": "2024-08-30T18:41:36.617Z"
   },
   {
    "duration": 9,
    "start_time": "2024-08-30T18:41:36.622Z"
   },
   {
    "duration": 3,
    "start_time": "2024-08-30T18:41:36.633Z"
   },
   {
    "duration": 882,
    "start_time": "2024-08-30T18:41:36.637Z"
   },
   {
    "duration": 69,
    "start_time": "2024-08-30T18:41:37.521Z"
   },
   {
    "duration": 34,
    "start_time": "2024-08-30T18:41:37.592Z"
   },
   {
    "duration": 11,
    "start_time": "2024-08-30T18:41:37.627Z"
   },
   {
    "duration": 8,
    "start_time": "2024-08-30T18:41:37.639Z"
   },
   {
    "duration": 14,
    "start_time": "2024-08-30T18:41:37.649Z"
   },
   {
    "duration": 50,
    "start_time": "2024-08-30T18:41:37.665Z"
   },
   {
    "duration": 17,
    "start_time": "2024-08-30T18:41:37.719Z"
   },
   {
    "duration": 3,
    "start_time": "2024-08-30T18:41:37.737Z"
   },
   {
    "duration": 38,
    "start_time": "2024-08-30T18:41:37.742Z"
   },
   {
    "duration": 30,
    "start_time": "2024-08-30T18:41:37.805Z"
   },
   {
    "duration": 83,
    "start_time": "2024-08-30T18:41:37.837Z"
   },
   {
    "duration": 8,
    "start_time": "2024-08-30T18:41:37.922Z"
   },
   {
    "duration": 51,
    "start_time": "2024-08-30T18:41:37.932Z"
   },
   {
    "duration": 45,
    "start_time": "2024-08-30T18:41:37.984Z"
   },
   {
    "duration": 20,
    "start_time": "2024-08-30T18:41:38.031Z"
   },
   {
    "duration": 205,
    "start_time": "2024-08-30T18:41:38.053Z"
   },
   {
    "duration": 117,
    "start_time": "2024-08-30T18:41:38.260Z"
   },
   {
    "duration": 202,
    "start_time": "2024-08-30T18:41:38.379Z"
   },
   {
    "duration": 224,
    "start_time": "2024-08-30T18:41:38.583Z"
   },
   {
    "duration": 998,
    "start_time": "2024-08-30T18:41:38.808Z"
   },
   {
    "duration": 302,
    "start_time": "2024-08-30T18:41:39.809Z"
   },
   {
    "duration": 15,
    "start_time": "2024-08-30T18:41:40.113Z"
   },
   {
    "duration": 17,
    "start_time": "2024-08-30T18:41:40.129Z"
   },
   {
    "duration": 335,
    "start_time": "2024-08-30T18:41:40.148Z"
   },
   {
    "duration": 841,
    "start_time": "2024-08-30T18:41:40.485Z"
   },
   {
    "duration": 153,
    "start_time": "2024-08-30T18:41:41.328Z"
   },
   {
    "duration": 82,
    "start_time": "2024-08-30T18:41:41.483Z"
   },
   {
    "duration": 14,
    "start_time": "2024-08-30T18:41:41.567Z"
   },
   {
    "duration": 32,
    "start_time": "2024-08-30T18:41:41.583Z"
   },
   {
    "duration": 124,
    "start_time": "2024-08-30T18:41:41.617Z"
   },
   {
    "duration": 690,
    "start_time": "2024-08-30T18:41:41.743Z"
   },
   {
    "duration": 117,
    "start_time": "2024-08-30T18:41:42.435Z"
   },
   {
    "duration": 28,
    "start_time": "2024-08-30T18:41:42.554Z"
   },
   {
    "duration": 41,
    "start_time": "2024-08-30T18:41:42.584Z"
   },
   {
    "duration": 5,
    "start_time": "2024-08-30T18:47:01.217Z"
   },
   {
    "duration": 19,
    "start_time": "2024-08-30T19:00:09.727Z"
   },
   {
    "duration": 197,
    "start_time": "2024-08-30T19:00:34.423Z"
   },
   {
    "duration": 248,
    "start_time": "2024-08-30T19:01:37.762Z"
   },
   {
    "duration": 229,
    "start_time": "2024-08-30T19:02:05.587Z"
   },
   {
    "duration": 230,
    "start_time": "2024-08-30T19:02:28.216Z"
   },
   {
    "duration": 326,
    "start_time": "2024-08-30T19:06:14.570Z"
   },
   {
    "duration": 28,
    "start_time": "2024-08-30T19:06:57.359Z"
   },
   {
    "duration": 32,
    "start_time": "2024-08-30T19:07:07.318Z"
   },
   {
    "duration": 29,
    "start_time": "2024-08-30T19:07:14.576Z"
   },
   {
    "duration": 4,
    "start_time": "2024-08-30T19:07:21.693Z"
   },
   {
    "duration": 4,
    "start_time": "2024-08-30T19:07:54.702Z"
   },
   {
    "duration": 14,
    "start_time": "2024-08-30T19:08:22.102Z"
   },
   {
    "duration": 269,
    "start_time": "2024-08-30T19:08:42.992Z"
   },
   {
    "duration": 4,
    "start_time": "2024-08-30T19:13:53.481Z"
   },
   {
    "duration": 18,
    "start_time": "2024-08-30T19:13:58.514Z"
   },
   {
    "duration": 19,
    "start_time": "2024-08-30T19:14:16.435Z"
   },
   {
    "duration": 213,
    "start_time": "2024-08-30T19:15:05.975Z"
   },
   {
    "duration": 16,
    "start_time": "2024-08-30T19:20:53.520Z"
   },
   {
    "duration": 11,
    "start_time": "2024-08-30T19:22:56.428Z"
   },
   {
    "duration": 237,
    "start_time": "2024-08-30T19:24:07.179Z"
   },
   {
    "duration": 5,
    "start_time": "2024-08-30T19:25:02.978Z"
   }
  ],
  "colab": {
   "provenance": []
  },
  "kernelspec": {
   "display_name": "Python 3 (ipykernel)",
   "language": "python",
   "name": "python3"
  },
  "language_info": {
   "codemirror_mode": {
    "name": "ipython",
    "version": 3
   },
   "file_extension": ".py",
   "mimetype": "text/x-python",
   "name": "python",
   "nbconvert_exporter": "python",
   "pygments_lexer": "ipython3",
   "version": "3.9.19"
  },
  "toc": {
   "base_numbering": 1,
   "nav_menu": {},
   "number_sections": true,
   "sideBar": true,
   "skip_h1_title": true,
   "title_cell": "Table of Contents",
   "title_sidebar": "Contents",
   "toc_cell": false,
   "toc_position": {
    "height": "calc(100% - 180px)",
    "left": "10px",
    "top": "150px",
    "width": "222.038px"
   },
   "toc_section_display": true,
   "toc_window_display": true
  },
  "vscode": {
   "interpreter": {
    "hash": "01a7be9ec63e704a62cefc5fe7a4756944464ee731be31632bdf42a4cb4688cf"
   }
  }
 },
 "nbformat": 4,
 "nbformat_minor": 5
}
